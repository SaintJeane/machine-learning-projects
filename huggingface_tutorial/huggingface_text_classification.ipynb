{
  "cells": [
    {
      "cell_type": "code",
      "execution_count": 2,
      "metadata": {
        "id": "i6ikcC4FTjzc"
      },
      "outputs": [],
      "source": [
        "# from google.colab import userdata\n",
        "# HF_TOKEN = userdata.get('HF_TOKEN')\n",
        "# HF_TOKEN"
      ]
    },
    {
      "cell_type": "code",
      "execution_count": 3,
      "metadata": {
        "id": "hCAZe5FLVkwS"
      },
      "outputs": [],
      "source": [
        "# import huggingface_hub\n",
        "# huggingface_hub.login()"
      ]
    },
    {
      "cell_type": "code",
      "execution_count": null,
      "metadata": {},
      "outputs": [],
      "source": [
        "from IPython.display import display\n",
        "import ipywidgets as widgets\n",
        "\n",
        "display(widgets.IntSlider())  # or any widget to re-trigger widget state"
      ]
    },
    {
      "cell_type": "markdown",
      "metadata": {
        "id": "TW2ZIghqafTe"
      },
      "source": [
        "## Learning HuggingFace Text Classification Tutorial"
      ]
    },
    {
      "cell_type": "markdown",
      "metadata": {
        "id": "YO7LLxl4aug5"
      },
      "source": [
        "### Import necessary libraries"
      ]
    },
    {
      "cell_type": "code",
      "execution_count": 4,
      "metadata": {
        "colab": {
          "base_uri": "https://localhost:8080/"
        },
        "id": "HQBklJWna2kD",
        "outputId": "5c977c20-a3f4-4fa3-fc3c-009a1d9dbc15"
      },
      "outputs": [
        {
          "name": "stdout",
          "output_type": "stream",
          "text": [
            "Using transformers version: 4.51.3\n",
            "Using torch version: 2.6.0+cu124\n",
            "Using datasets version: 3.6.0\n"
          ]
        }
      ],
      "source": [
        "try:\n",
        "  import datasets, evaluate, accelerate\n",
        "  import gradio as gr\n",
        "except ModuleNotFoundError:\n",
        "  !pip install -U datasets evaluate accelerate gradio\n",
        "  import datasets, evaluate, accelerate\n",
        "  import gradio as gr\n",
        "\n",
        "import random\n",
        "\n",
        "import numpy as np\n",
        "import pandas as pd\n",
        "\n",
        "import torch\n",
        "import transformers\n",
        "\n",
        "print(f\"Using transformers version: {transformers.__version__}\")\n",
        "print(f\"Using torch version: {torch.__version__}\")\n",
        "print(f\"Using datasets version: {datasets.__version__}\")"
      ]
    },
    {
      "cell_type": "markdown",
      "metadata": {
        "id": "BCHZVuBG5uhr"
      },
      "source": [
        "## Getting the dataset"
      ]
    },
    {
      "cell_type": "code",
      "execution_count": 5,
      "metadata": {
        "colab": {
          "base_uri": "https://localhost:8080/",
          "height": 223,
          "referenced_widgets": [
            "f708d0b92a424450a42b5b70dd4dffaa",
            "856d0032b98c4b8c85139c379a937b61",
            "ebf74a9b410442cdb120fecb2cecf93b",
            "1bab1d8d5873491eb18c1d2eac1a74f1",
            "c4fe05f444b34703a1726023bcbc6262",
            "9d3568764ff34a2c8ccfcf946c53e7f3",
            "0424e66bb12f4cf18d4ecacafadbe87d",
            "e4ddb5ddc2ca4634b837f257c396b625",
            "66238d90e9f54d61be2f378ea756126f",
            "5403979a20ee4a1fb924cb736e519e30",
            "0b0b54f8022a4ffabaa07888240689c2",
            "d41725cdccdc497a80b8e75c994a104d",
            "3e5f9242cd9d4d64bacb26342781cb26",
            "268068daa60c497f9e302a3235f0ca8b",
            "56fe21f2e4904650904ae891c68350fd",
            "bf2349ab1b264f8d906ccddbb46c580f",
            "84d48f0d144c4c0e8fc57dc920fb73a6",
            "2a978d429c29446983b541fa73b07394",
            "87c9c9cc8f8c40d0ae05e3913eebe6f3",
            "ff62d0d13b234dedb44a6ac5057d5153",
            "25e8186b8b664eba9dd72471bb1c4453",
            "af7af9496aba44a0aff65af63ad88b34",
            "dcf480a948c74528880787760d2ff2d0",
            "a4720f650c134026a2b9b0c6eb91c4a1",
            "b06a7abfc9dc449195af40ab7190c166",
            "5eb140c1d4c94a69b9401925e1a71a4d",
            "e2ef9550640a44dd9a93b038c727a8cf",
            "6be960eeb600413fac68aa7833a80986",
            "dac5a3f8c4bb411391477bb1ac1db4f2",
            "75565cd3c04b4a31b227e3e678b85aa4",
            "8da97f32d7454e9b9f12a110833d8268",
            "1c41e0735b8d4c9c9ecdab8eeb3e9dcf",
            "00ad4905b98a4f53967969d7c71881cf"
          ]
        },
        "id": "SsQpkaJAetY8",
        "outputId": "0c9348ce-1eba-4b7a-a567-474021471e53"
      },
      "outputs": [
        {
          "data": {
            "application/vnd.jupyter.widget-view+json": {
              "model_id": "f708d0b92a424450a42b5b70dd4dffaa",
              "version_major": 2,
              "version_minor": 0
            },
            "text/plain": [
              "README.md:   0%|          | 0.00/1.32k [00:00<?, ?B/s]"
            ]
          },
          "metadata": {},
          "output_type": "display_data"
        },
        {
          "data": {
            "application/vnd.jupyter.widget-view+json": {
              "model_id": "d41725cdccdc497a80b8e75c994a104d",
              "version_major": 2,
              "version_minor": 0
            },
            "text/plain": [
              "train-00000-of-00001.parquet:   0%|          | 0.00/11.9k [00:00<?, ?B/s]"
            ]
          },
          "metadata": {},
          "output_type": "display_data"
        },
        {
          "data": {
            "application/vnd.jupyter.widget-view+json": {
              "model_id": "dcf480a948c74528880787760d2ff2d0",
              "version_major": 2,
              "version_minor": 0
            },
            "text/plain": [
              "Generating train split:   0%|          | 0/250 [00:00<?, ? examples/s]"
            ]
          },
          "metadata": {},
          "output_type": "display_data"
        },
        {
          "data": {
            "text/plain": [
              "DatasetDict({\n",
              "    train: Dataset({\n",
              "        features: ['text', 'label'],\n",
              "        num_rows: 250\n",
              "    })\n",
              "})"
            ]
          },
          "execution_count": 5,
          "metadata": {},
          "output_type": "execute_result"
        }
      ],
      "source": [
        "# Getting food not food text dataset\n",
        "from datasets import load_dataset\n",
        "\n",
        "dataset = load_dataset(path=\"mrdbourke/learn_hf_food_not_food_image_captions\")\n",
        "dataset"
      ]
    },
    {
      "cell_type": "code",
      "execution_count": 6,
      "metadata": {
        "colab": {
          "base_uri": "https://localhost:8080/"
        },
        "id": "ENk-Zd6M6bkP",
        "outputId": "8b9f8830-2d65-4ca1-edef-80310bf8a371"
      },
      "outputs": [
        {
          "data": {
            "text/plain": [
              "{'train': ['text', 'label']}"
            ]
          },
          "execution_count": 6,
          "metadata": {},
          "output_type": "execute_result"
        }
      ],
      "source": [
        "dataset.column_names"
      ]
    },
    {
      "cell_type": "code",
      "execution_count": 7,
      "metadata": {
        "colab": {
          "base_uri": "https://localhost:8080/"
        },
        "id": "isQNQX2a6ddx",
        "outputId": "1771d252-d56e-41bf-c67c-9c811b13a591"
      },
      "outputs": [
        {
          "data": {
            "text/plain": [
              "Dataset({\n",
              "    features: ['text', 'label'],\n",
              "    num_rows: 250\n",
              "})"
            ]
          },
          "execution_count": 7,
          "metadata": {},
          "output_type": "execute_result"
        }
      ],
      "source": [
        "dataset['train']"
      ]
    },
    {
      "cell_type": "code",
      "execution_count": 8,
      "metadata": {
        "colab": {
          "base_uri": "https://localhost:8080/"
        },
        "id": "3nEyLHt56dPY",
        "outputId": "351744c1-05d3-4554-cae4-92de43e1f5ca"
      },
      "outputs": [
        {
          "data": {
            "text/plain": [
              "{'text': 'Creamy cauliflower curry with garlic naan, featuring tender cauliflower in a rich sauce with cream and spices, served with garlic naan bread.',\n",
              " 'label': 'food'}"
            ]
          },
          "execution_count": 8,
          "metadata": {},
          "output_type": "execute_result"
        }
      ],
      "source": [
        "dataset['train'][0]"
      ]
    },
    {
      "cell_type": "code",
      "execution_count": 9,
      "metadata": {
        "colab": {
          "base_uri": "https://localhost:8080/"
        },
        "id": "sytYZCaA6dL9",
        "outputId": "a66c00e4-1f57-47e9-8051-65f1e37c555a"
      },
      "outputs": [
        {
          "name": "stdout",
          "output_type": "stream",
          "text": [
            "[29, 47, 200, 76, 91]\n",
            "Random samples from dataset:\n",
            "Text: Hammock swaying between two trees | Label: not_food\n",
            "Text: Wooden hanger holding clothes on a rack | Label: not_food\n",
            "Text: Ceiling fan with lights illuminating a bedroom | Label: not_food\n",
            "Text: Set of bowls stacked on a shelf | Label: not_food\n",
            "Text: Garage door with a remote control ready for use | Label: not_food\n"
          ]
        }
      ],
      "source": [
        "import random\n",
        "\n",
        "random_indexes = random.sample(range(len(dataset['train'])), 5)\n",
        "print(random_indexes)\n",
        "\n",
        "random_samples = dataset['train'][random_indexes]\n",
        "\n",
        "print(f\"Random samples from dataset:\")\n",
        "for text, label in zip(random_samples['text'], random_samples['label']):\n",
        "  print(f\"Text: {text} | Label: {label}\")"
      ]
    },
    {
      "cell_type": "code",
      "execution_count": 10,
      "metadata": {
        "colab": {
          "base_uri": "https://localhost:8080/"
        },
        "id": "GDl89RezKGLy",
        "outputId": "3f436056-2e39-4e3f-b88b-5e2c306e3a4a"
      },
      "outputs": [
        {
          "data": {
            "text/plain": [
              "['Hammock swaying between two trees',\n",
              " 'Wooden hanger holding clothes on a rack',\n",
              " 'Ceiling fan with lights illuminating a bedroom',\n",
              " 'Set of bowls stacked on a shelf',\n",
              " 'Garage door with a remote control ready for use']"
            ]
          },
          "execution_count": 10,
          "metadata": {},
          "output_type": "execute_result"
        }
      ],
      "source": [
        "random_samples = dataset['train'][random_indexes]\n",
        "random_samples['text']"
      ]
    },
    {
      "cell_type": "code",
      "execution_count": 11,
      "metadata": {
        "colab": {
          "base_uri": "https://localhost:8080/"
        },
        "id": "wVzEI3tqJzx8",
        "outputId": "4003f8dc-c1b1-439a-e4f5-4d34ac5cfef1"
      },
      "outputs": [
        {
          "data": {
            "text/plain": [
              "range(0, 250)"
            ]
          },
          "execution_count": 11,
          "metadata": {},
          "output_type": "execute_result"
        }
      ],
      "source": [
        "range(len(dataset['train']))"
      ]
    },
    {
      "cell_type": "code",
      "execution_count": 12,
      "metadata": {
        "colab": {
          "base_uri": "https://localhost:8080/"
        },
        "id": "jWV5I0mw6dIF",
        "outputId": "f171eae9-8c76-4b7d-e97a-95bc8da96723"
      },
      "outputs": [
        {
          "data": {
            "text/plain": [
              "['food', 'not_food']"
            ]
          },
          "execution_count": 12,
          "metadata": {},
          "output_type": "execute_result"
        }
      ],
      "source": [
        "dataset['train'].unique('label')"
      ]
    },
    {
      "cell_type": "code",
      "execution_count": 13,
      "metadata": {
        "colab": {
          "base_uri": "https://localhost:8080/"
        },
        "id": "W_QuppxQ6dE5",
        "outputId": "adb7eb34-078c-44e4-a7de-865f489678b0"
      },
      "outputs": [
        {
          "data": {
            "text/plain": [
              "Counter({'food': 125, 'not_food': 125})"
            ]
          },
          "execution_count": 13,
          "metadata": {},
          "output_type": "execute_result"
        }
      ],
      "source": [
        "# Check the count of each label\n",
        "from collections import Counter\n",
        "\n",
        "Counter(dataset['train']['label'])"
      ]
    },
    {
      "cell_type": "code",
      "execution_count": 14,
      "metadata": {
        "colab": {
          "base_uri": "https://localhost:8080/",
          "height": 269
        },
        "id": "wNfeED_i6dBs",
        "outputId": "2846b9c3-c302-47e9-a687-5688d4096512"
      },
      "outputs": [
        {
          "data": {
            "application/vnd.google.colaboratory.intrinsic+json": {
              "summary": "{\n  \"name\": \"food_not_food_df\",\n  \"rows\": 7,\n  \"fields\": [\n    {\n      \"column\": \"text\",\n      \"properties\": {\n        \"dtype\": \"string\",\n        \"num_unique_values\": 7,\n        \"samples\": [\n          \"A child playing with a golden retriever in the backyard\",\n          \"Fresh cherry tomatoes in a basket, sprinkled with sea salt for a savory snack.\",\n          \"Bicycle leaning casually against a wall\"\n        ],\n        \"semantic_type\": \"\",\n        \"description\": \"\"\n      }\n    },\n    {\n      \"column\": \"label\",\n      \"properties\": {\n        \"dtype\": \"category\",\n        \"num_unique_values\": 2,\n        \"samples\": [\n          \"food\",\n          \"not_food\"\n        ],\n        \"semantic_type\": \"\",\n        \"description\": \"\"\n      }\n    }\n  ]\n}",
              "type": "dataframe"
            },
            "text/html": [
              "\n",
              "  <div id=\"df-3f797ad0-9b9c-490f-b310-054fb16c2bc2\" class=\"colab-df-container\">\n",
              "    <div>\n",
              "<style scoped>\n",
              "    .dataframe tbody tr th:only-of-type {\n",
              "        vertical-align: middle;\n",
              "    }\n",
              "\n",
              "    .dataframe tbody tr th {\n",
              "        vertical-align: top;\n",
              "    }\n",
              "\n",
              "    .dataframe thead th {\n",
              "        text-align: right;\n",
              "    }\n",
              "</style>\n",
              "<table border=\"1\" class=\"dataframe\">\n",
              "  <thead>\n",
              "    <tr style=\"text-align: right;\">\n",
              "      <th></th>\n",
              "      <th>text</th>\n",
              "      <th>label</th>\n",
              "    </tr>\n",
              "  </thead>\n",
              "  <tbody>\n",
              "    <tr>\n",
              "      <th>102</th>\n",
              "      <td>A child playing with a golden retriever in the...</td>\n",
              "      <td>not_food</td>\n",
              "    </tr>\n",
              "    <tr>\n",
              "      <th>26</th>\n",
              "      <td>Fresh cherry tomatoes in a basket, sprinkled w...</td>\n",
              "      <td>food</td>\n",
              "    </tr>\n",
              "    <tr>\n",
              "      <th>244</th>\n",
              "      <td>Set of napkins dispensed from a dispenser</td>\n",
              "      <td>not_food</td>\n",
              "    </tr>\n",
              "    <tr>\n",
              "      <th>48</th>\n",
              "      <td>Cucumbers on a plate, served with a side of ta...</td>\n",
              "      <td>food</td>\n",
              "    </tr>\n",
              "    <tr>\n",
              "      <th>232</th>\n",
              "      <td>Beets in a bowl, sprinkled with goat cheese an...</td>\n",
              "      <td>food</td>\n",
              "    </tr>\n",
              "    <tr>\n",
              "      <th>195</th>\n",
              "      <td>Bicycle leaning casually against a wall</td>\n",
              "      <td>not_food</td>\n",
              "    </tr>\n",
              "    <tr>\n",
              "      <th>9</th>\n",
              "      <td>Sushi with unique toppings like seared tuna or...</td>\n",
              "      <td>food</td>\n",
              "    </tr>\n",
              "  </tbody>\n",
              "</table>\n",
              "</div>\n",
              "    <div class=\"colab-df-buttons\">\n",
              "\n",
              "  <div class=\"colab-df-container\">\n",
              "    <button class=\"colab-df-convert\" onclick=\"convertToInteractive('df-3f797ad0-9b9c-490f-b310-054fb16c2bc2')\"\n",
              "            title=\"Convert this dataframe to an interactive table.\"\n",
              "            style=\"display:none;\">\n",
              "\n",
              "  <svg xmlns=\"http://www.w3.org/2000/svg\" height=\"24px\" viewBox=\"0 -960 960 960\">\n",
              "    <path d=\"M120-120v-720h720v720H120Zm60-500h600v-160H180v160Zm220 220h160v-160H400v160Zm0 220h160v-160H400v160ZM180-400h160v-160H180v160Zm440 0h160v-160H620v160ZM180-180h160v-160H180v160Zm440 0h160v-160H620v160Z\"/>\n",
              "  </svg>\n",
              "    </button>\n",
              "\n",
              "  <style>\n",
              "    .colab-df-container {\n",
              "      display:flex;\n",
              "      gap: 12px;\n",
              "    }\n",
              "\n",
              "    .colab-df-convert {\n",
              "      background-color: #E8F0FE;\n",
              "      border: none;\n",
              "      border-radius: 50%;\n",
              "      cursor: pointer;\n",
              "      display: none;\n",
              "      fill: #1967D2;\n",
              "      height: 32px;\n",
              "      padding: 0 0 0 0;\n",
              "      width: 32px;\n",
              "    }\n",
              "\n",
              "    .colab-df-convert:hover {\n",
              "      background-color: #E2EBFA;\n",
              "      box-shadow: 0px 1px 2px rgba(60, 64, 67, 0.3), 0px 1px 3px 1px rgba(60, 64, 67, 0.15);\n",
              "      fill: #174EA6;\n",
              "    }\n",
              "\n",
              "    .colab-df-buttons div {\n",
              "      margin-bottom: 4px;\n",
              "    }\n",
              "\n",
              "    [theme=dark] .colab-df-convert {\n",
              "      background-color: #3B4455;\n",
              "      fill: #D2E3FC;\n",
              "    }\n",
              "\n",
              "    [theme=dark] .colab-df-convert:hover {\n",
              "      background-color: #434B5C;\n",
              "      box-shadow: 0px 1px 3px 1px rgba(0, 0, 0, 0.15);\n",
              "      filter: drop-shadow(0px 1px 2px rgba(0, 0, 0, 0.3));\n",
              "      fill: #FFFFFF;\n",
              "    }\n",
              "  </style>\n",
              "\n",
              "    <script>\n",
              "      const buttonEl =\n",
              "        document.querySelector('#df-3f797ad0-9b9c-490f-b310-054fb16c2bc2 button.colab-df-convert');\n",
              "      buttonEl.style.display =\n",
              "        google.colab.kernel.accessAllowed ? 'block' : 'none';\n",
              "\n",
              "      async function convertToInteractive(key) {\n",
              "        const element = document.querySelector('#df-3f797ad0-9b9c-490f-b310-054fb16c2bc2');\n",
              "        const dataTable =\n",
              "          await google.colab.kernel.invokeFunction('convertToInteractive',\n",
              "                                                    [key], {});\n",
              "        if (!dataTable) return;\n",
              "\n",
              "        const docLinkHtml = 'Like what you see? Visit the ' +\n",
              "          '<a target=\"_blank\" href=https://colab.research.google.com/notebooks/data_table.ipynb>data table notebook</a>'\n",
              "          + ' to learn more about interactive tables.';\n",
              "        element.innerHTML = '';\n",
              "        dataTable['output_type'] = 'display_data';\n",
              "        await google.colab.output.renderOutput(dataTable, element);\n",
              "        const docLink = document.createElement('div');\n",
              "        docLink.innerHTML = docLinkHtml;\n",
              "        element.appendChild(docLink);\n",
              "      }\n",
              "    </script>\n",
              "  </div>\n",
              "\n",
              "\n",
              "    <div id=\"df-485f110a-2b52-44f2-9d29-08e6020f6bf2\">\n",
              "      <button class=\"colab-df-quickchart\" onclick=\"quickchart('df-485f110a-2b52-44f2-9d29-08e6020f6bf2')\"\n",
              "                title=\"Suggest charts\"\n",
              "                style=\"display:none;\">\n",
              "\n",
              "<svg xmlns=\"http://www.w3.org/2000/svg\" height=\"24px\"viewBox=\"0 0 24 24\"\n",
              "     width=\"24px\">\n",
              "    <g>\n",
              "        <path d=\"M19 3H5c-1.1 0-2 .9-2 2v14c0 1.1.9 2 2 2h14c1.1 0 2-.9 2-2V5c0-1.1-.9-2-2-2zM9 17H7v-7h2v7zm4 0h-2V7h2v10zm4 0h-2v-4h2v4z\"/>\n",
              "    </g>\n",
              "</svg>\n",
              "      </button>\n",
              "\n",
              "<style>\n",
              "  .colab-df-quickchart {\n",
              "      --bg-color: #E8F0FE;\n",
              "      --fill-color: #1967D2;\n",
              "      --hover-bg-color: #E2EBFA;\n",
              "      --hover-fill-color: #174EA6;\n",
              "      --disabled-fill-color: #AAA;\n",
              "      --disabled-bg-color: #DDD;\n",
              "  }\n",
              "\n",
              "  [theme=dark] .colab-df-quickchart {\n",
              "      --bg-color: #3B4455;\n",
              "      --fill-color: #D2E3FC;\n",
              "      --hover-bg-color: #434B5C;\n",
              "      --hover-fill-color: #FFFFFF;\n",
              "      --disabled-bg-color: #3B4455;\n",
              "      --disabled-fill-color: #666;\n",
              "  }\n",
              "\n",
              "  .colab-df-quickchart {\n",
              "    background-color: var(--bg-color);\n",
              "    border: none;\n",
              "    border-radius: 50%;\n",
              "    cursor: pointer;\n",
              "    display: none;\n",
              "    fill: var(--fill-color);\n",
              "    height: 32px;\n",
              "    padding: 0;\n",
              "    width: 32px;\n",
              "  }\n",
              "\n",
              "  .colab-df-quickchart:hover {\n",
              "    background-color: var(--hover-bg-color);\n",
              "    box-shadow: 0 1px 2px rgba(60, 64, 67, 0.3), 0 1px 3px 1px rgba(60, 64, 67, 0.15);\n",
              "    fill: var(--button-hover-fill-color);\n",
              "  }\n",
              "\n",
              "  .colab-df-quickchart-complete:disabled,\n",
              "  .colab-df-quickchart-complete:disabled:hover {\n",
              "    background-color: var(--disabled-bg-color);\n",
              "    fill: var(--disabled-fill-color);\n",
              "    box-shadow: none;\n",
              "  }\n",
              "\n",
              "  .colab-df-spinner {\n",
              "    border: 2px solid var(--fill-color);\n",
              "    border-color: transparent;\n",
              "    border-bottom-color: var(--fill-color);\n",
              "    animation:\n",
              "      spin 1s steps(1) infinite;\n",
              "  }\n",
              "\n",
              "  @keyframes spin {\n",
              "    0% {\n",
              "      border-color: transparent;\n",
              "      border-bottom-color: var(--fill-color);\n",
              "      border-left-color: var(--fill-color);\n",
              "    }\n",
              "    20% {\n",
              "      border-color: transparent;\n",
              "      border-left-color: var(--fill-color);\n",
              "      border-top-color: var(--fill-color);\n",
              "    }\n",
              "    30% {\n",
              "      border-color: transparent;\n",
              "      border-left-color: var(--fill-color);\n",
              "      border-top-color: var(--fill-color);\n",
              "      border-right-color: var(--fill-color);\n",
              "    }\n",
              "    40% {\n",
              "      border-color: transparent;\n",
              "      border-right-color: var(--fill-color);\n",
              "      border-top-color: var(--fill-color);\n",
              "    }\n",
              "    60% {\n",
              "      border-color: transparent;\n",
              "      border-right-color: var(--fill-color);\n",
              "    }\n",
              "    80% {\n",
              "      border-color: transparent;\n",
              "      border-right-color: var(--fill-color);\n",
              "      border-bottom-color: var(--fill-color);\n",
              "    }\n",
              "    90% {\n",
              "      border-color: transparent;\n",
              "      border-bottom-color: var(--fill-color);\n",
              "    }\n",
              "  }\n",
              "</style>\n",
              "\n",
              "      <script>\n",
              "        async function quickchart(key) {\n",
              "          const quickchartButtonEl =\n",
              "            document.querySelector('#' + key + ' button');\n",
              "          quickchartButtonEl.disabled = true;  // To prevent multiple clicks.\n",
              "          quickchartButtonEl.classList.add('colab-df-spinner');\n",
              "          try {\n",
              "            const charts = await google.colab.kernel.invokeFunction(\n",
              "                'suggestCharts', [key], {});\n",
              "          } catch (error) {\n",
              "            console.error('Error during call to suggestCharts:', error);\n",
              "          }\n",
              "          quickchartButtonEl.classList.remove('colab-df-spinner');\n",
              "          quickchartButtonEl.classList.add('colab-df-quickchart-complete');\n",
              "        }\n",
              "        (() => {\n",
              "          let quickchartButtonEl =\n",
              "            document.querySelector('#df-485f110a-2b52-44f2-9d29-08e6020f6bf2 button');\n",
              "          quickchartButtonEl.style.display =\n",
              "            google.colab.kernel.accessAllowed ? 'block' : 'none';\n",
              "        })();\n",
              "      </script>\n",
              "    </div>\n",
              "\n",
              "    </div>\n",
              "  </div>\n"
            ],
            "text/plain": [
              "                                                  text     label\n",
              "102  A child playing with a golden retriever in the...  not_food\n",
              "26   Fresh cherry tomatoes in a basket, sprinkled w...      food\n",
              "244          Set of napkins dispensed from a dispenser  not_food\n",
              "48   Cucumbers on a plate, served with a side of ta...      food\n",
              "232  Beets in a bowl, sprinkled with goat cheese an...      food\n",
              "195            Bicycle leaning casually against a wall  not_food\n",
              "9    Sushi with unique toppings like seared tuna or...      food"
            ]
          },
          "execution_count": 14,
          "metadata": {},
          "output_type": "execute_result"
        }
      ],
      "source": [
        "#Turn the dataset into a DataFrame and get a random sample\n",
        "food_not_food_df = pd.DataFrame(dataset['train'])\n",
        "food_not_food_df.sample(7)"
      ]
    },
    {
      "cell_type": "code",
      "execution_count": 15,
      "metadata": {
        "colab": {
          "base_uri": "https://localhost:8080/",
          "height": 178
        },
        "id": "WSDmoOiz6c_C",
        "outputId": "8079d73f-4a4f-41e2-d2d0-5cb696003117"
      },
      "outputs": [
        {
          "data": {
            "text/html": [
              "<div>\n",
              "<style scoped>\n",
              "    .dataframe tbody tr th:only-of-type {\n",
              "        vertical-align: middle;\n",
              "    }\n",
              "\n",
              "    .dataframe tbody tr th {\n",
              "        vertical-align: top;\n",
              "    }\n",
              "\n",
              "    .dataframe thead th {\n",
              "        text-align: right;\n",
              "    }\n",
              "</style>\n",
              "<table border=\"1\" class=\"dataframe\">\n",
              "  <thead>\n",
              "    <tr style=\"text-align: right;\">\n",
              "      <th></th>\n",
              "      <th>count</th>\n",
              "    </tr>\n",
              "    <tr>\n",
              "      <th>label</th>\n",
              "      <th></th>\n",
              "    </tr>\n",
              "  </thead>\n",
              "  <tbody>\n",
              "    <tr>\n",
              "      <th>food</th>\n",
              "      <td>125</td>\n",
              "    </tr>\n",
              "    <tr>\n",
              "      <th>not_food</th>\n",
              "      <td>125</td>\n",
              "    </tr>\n",
              "  </tbody>\n",
              "</table>\n",
              "</div><br><label><b>dtype:</b> int64</label>"
            ],
            "text/plain": [
              "label\n",
              "food        125\n",
              "not_food    125\n",
              "Name: count, dtype: int64"
            ]
          },
          "execution_count": 15,
          "metadata": {},
          "output_type": "execute_result"
        }
      ],
      "source": [
        "food_not_food_df['label'].value_counts()"
      ]
    },
    {
      "cell_type": "markdown",
      "metadata": {
        "id": "rFnHAs94H2On"
      },
      "source": [
        "## Preparing data for text classification\n",
        "1. Tokenize the text - turning text and labels into numbers\n",
        "2. Create a train/test split - training the model on train split and evaluating on test split."
      ]
    },
    {
      "cell_type": "code",
      "execution_count": 16,
      "metadata": {
        "colab": {
          "base_uri": "https://localhost:8080/"
        },
        "id": "bJnTRMDeHCD4",
        "outputId": "e94e4967-9fa3-4d16-9b98-7095451f4583"
      },
      "outputs": [
        {
          "name": "stdout",
          "output_type": "stream",
          "text": [
            "{0: 'not_food', 1: 'food'} \n",
            " {'not_food': 0, 'food': 1}\n"
          ]
        }
      ],
      "source": [
        "# Create a mapping for labels to numeric values manually\n",
        "id2label = {0:\"not_food\", 1:\"food\"}\n",
        "label2id = {\"not_food\":0, \"food\":1}\n",
        "\n",
        "print(id2label,\"\\n\",label2id)"
      ]
    },
    {
      "cell_type": "code",
      "execution_count": 17,
      "metadata": {
        "colab": {
          "base_uri": "https://localhost:8080/"
        },
        "id": "SNtw3WkXI-pb",
        "outputId": "bb62e764-98b8-411f-d160-190dcb6bca41"
      },
      "outputs": [
        {
          "name": "stdout",
          "output_type": "stream",
          "text": [
            "{0: 'not_food', 1: 'food'}\n",
            "{'not_food': 0, 'food': 1}\n"
          ]
        }
      ],
      "source": [
        "# Create mappings programmatically from dataset\n",
        "id2label = {idx: label for idx,label in enumerate(dataset['train'].unique('label')[::-1])}\n",
        "label2id = {label:idx for idx, label in id2label.items()}\n",
        "print(id2label)\n",
        "print(label2id)"
      ]
    },
    {
      "cell_type": "code",
      "execution_count": 18,
      "metadata": {
        "colab": {
          "base_uri": "https://localhost:8080/"
        },
        "id": "Rkn9UjcjKey8",
        "outputId": "e98e89af-66b1-4361-f5cd-2cbdec93c6d1"
      },
      "outputs": [
        {
          "name": "stdout",
          "output_type": "stream",
          "text": [
            "0 not_food\n",
            "1 food\n"
          ]
        }
      ],
      "source": [
        "id2label = {}\n",
        "for idx, label in enumerate(dataset['train'].unique('label')[::-1]):\n",
        "  print(idx, label)\n",
        "  id2label[idx] = label"
      ]
    },
    {
      "cell_type": "code",
      "execution_count": 19,
      "metadata": {
        "colab": {
          "base_uri": "https://localhost:8080/"
        },
        "id": "AUS0xF1ULay9",
        "outputId": "166ce0db-ace8-4005-82e2-16d517e54472"
      },
      "outputs": [
        {
          "data": {
            "text/plain": [
              "{'not_food': 0, 'food': 1}"
            ]
          },
          "execution_count": 19,
          "metadata": {},
          "output_type": "execute_result"
        }
      ],
      "source": [
        "id2label\n",
        "label2id"
      ]
    },
    {
      "cell_type": "code",
      "execution_count": 20,
      "metadata": {
        "id": "l_LlxPxiLHtL"
      },
      "outputs": [],
      "source": [
        "# label2id = {label:idx for idx,label in enumerate(dataset['train'].unique('label')[::-1])}\n",
        "# label2id"
      ]
    },
    {
      "cell_type": "code",
      "execution_count": 21,
      "metadata": {
        "colab": {
          "base_uri": "https://localhost:8080/"
        },
        "id": "Q8a-3dDWLp9Y",
        "outputId": "6c92415e-d5f6-4091-d528-1829d674a06d"
      },
      "outputs": [
        {
          "data": {
            "text/plain": [
              "{'text': 'This is a sentence about my favourite food: chapati', 'label': 1}"
            ]
          },
          "execution_count": 21,
          "metadata": {},
          "output_type": "execute_result"
        }
      ],
      "source": [
        "# Turn labels into 0 or 1\n",
        "def map_labels_to_number(example):\n",
        "  example['label'] = label2id[example['label']]\n",
        "  return example\n",
        "\n",
        "example_sample = {'text': 'This is a sentence about my favourite food: chapati', \"label\":\"food\"}\n",
        "\n",
        "# Test the function\n",
        "map_labels_to_number(example_sample)"
      ]
    },
    {
      "cell_type": "code",
      "execution_count": 22,
      "metadata": {
        "colab": {
          "base_uri": "https://localhost:8080/",
          "height": 159,
          "referenced_widgets": [
            "1a92b2decf5a459fb4122a9a4d2b6cfc",
            "95e8d2aaf1414a739165696ce26137cb",
            "6601a0b45c63427287f3728c5e46894b",
            "ba88c40fdf294088ac717ea7eddc7983",
            "f406071156bb44bd93a3e1f47e70d0c9",
            "447a2e569d484138b97c344e18d50252",
            "653d9ba88e514a6f9cc2aee34abee31b",
            "ef7754b5cf5a4086a2c8cb04fcf9b601",
            "de5938d730b546d8939910f9a1749586",
            "0758b4a0c796476facb7972350ed1abf",
            "6c3c69eb96d0494e986e1e44e7cb44c1"
          ]
        },
        "id": "i42TWMjqPRXq",
        "outputId": "b84b2134-07d8-4ca0-c473-4e7568339d90"
      },
      "outputs": [
        {
          "data": {
            "application/vnd.jupyter.widget-view+json": {
              "model_id": "1a92b2decf5a459fb4122a9a4d2b6cfc",
              "version_major": 2,
              "version_minor": 0
            },
            "text/plain": [
              "Map:   0%|          | 0/250 [00:00<?, ? examples/s]"
            ]
          },
          "metadata": {},
          "output_type": "display_data"
        },
        {
          "data": {
            "text/plain": [
              "{'text': ['Creamy cauliflower curry with garlic naan, featuring tender cauliflower in a rich sauce with cream and spices, served with garlic naan bread.',\n",
              "  'Set of books stacked on a desk',\n",
              "  'Watching TV together, a family has their dog stretched out on the floor',\n",
              "  'Wooden dresser with a mirror reflecting the room',\n",
              "  'Lawn mower stored in a shed'],\n",
              " 'label': [1, 0, 0, 0, 0]}"
            ]
          },
          "execution_count": 22,
          "metadata": {},
          "output_type": "execute_result"
        }
      ],
      "source": [
        "# Map the dataset labels to numbers (the whole thing)\n",
        "# Doing this with dataset.map()\n",
        "dataset = dataset[\"train\"].map(map_labels_to_number)\n",
        "dataset[:5]"
      ]
    },
    {
      "cell_type": "code",
      "execution_count": 23,
      "metadata": {
        "colab": {
          "base_uri": "https://localhost:8080/"
        },
        "id": "QxPy80c3RTKe",
        "outputId": "95684258-66d6-4881-9666-3850e9d19748"
      },
      "outputs": [
        {
          "data": {
            "text/plain": [
              "{'text': ['Lawn mower stored in a shed',\n",
              "  'A basket of fresh strawberries with a sprinkle of powdered sugar',\n",
              "  'Treadmill available in a home gym',\n",
              "  'Pizza with a stuffed crust, oozing with cheese',\n",
              "  'Black and white checkered kitchen floor adding a classic touch'],\n",
              " 'label': [0, 1, 0, 1, 0]}"
            ]
          },
          "execution_count": 23,
          "metadata": {},
          "output_type": "execute_result"
        }
      ],
      "source": [
        "# Shuffle data and look at 5 more random samples\n",
        "dataset.shuffle()[:5]"
      ]
    },
    {
      "cell_type": "markdown",
      "metadata": {
        "id": "4uSLIPhh-dyk"
      },
      "source": [
        "### Split the dataset into training and test sets\n",
        "* Train set = model learn patterns on this dataset\n",
        "* Validation set (optional) = tuning the model's hyperparameters on this set.\n",
        "* Test set = model will evaluate patterns on this dataset\n"
      ]
    },
    {
      "cell_type": "code",
      "execution_count": 24,
      "metadata": {
        "colab": {
          "base_uri": "https://localhost:8080/"
        },
        "id": "SM85QXb3RoBO",
        "outputId": "673b5f48-cbd0-438e-8a5c-26afa0e75c31"
      },
      "outputs": [
        {
          "data": {
            "text/plain": [
              "DatasetDict({\n",
              "    train: Dataset({\n",
              "        features: ['text', 'label'],\n",
              "        num_rows: 200\n",
              "    })\n",
              "    test: Dataset({\n",
              "        features: ['text', 'label'],\n",
              "        num_rows: 50\n",
              "    })\n",
              "})"
            ]
          },
          "execution_count": 24,
          "metadata": {},
          "output_type": "execute_result"
        }
      ],
      "source": [
        "# Split the dataset into train/test splits\n",
        "dataset = dataset.train_test_split(test_size=0.2, seed=42)\n",
        "dataset"
      ]
    },
    {
      "cell_type": "code",
      "execution_count": 25,
      "metadata": {
        "colab": {
          "base_uri": "https://localhost:8080/"
        },
        "id": "nhGfuNEDALok",
        "outputId": "e287268d-e726-445c-afea-c0a9d2e9d3ab"
      },
      "outputs": [
        {
          "data": {
            "text/plain": [
              "{'text': ['Set of headphones placed on a desk',\n",
              "  'Set of tea towels folded in a kitchen',\n",
              "  'Set of curtains draped over a window',\n",
              "  'Treadmill available in a home gym',\n",
              "  'Remote control placed on a couch cushion',\n",
              "  'A close-up of a girl feeding her rabbit in the garden',\n",
              "  \"Brushing her cat's fur in her bedroom, a young girl concentrates\",\n",
              "  'Guitar leaning casually against a couch',\n",
              "  'Taking a nap on a hammock, a man has his dog snuggled up next to him',\n",
              "  'A close-up of a man and his dog sharing a quiet moment on the porch'],\n",
              " 'label': [0, 0, 0, 0, 0, 0, 0, 0, 0, 0]}"
            ]
          },
          "execution_count": 25,
          "metadata": {},
          "output_type": "execute_result"
        }
      ],
      "source": [
        "dataset['train'][:10]"
      ]
    },
    {
      "cell_type": "code",
      "execution_count": 26,
      "metadata": {
        "colab": {
          "base_uri": "https://localhost:8080/"
        },
        "id": "57AIWqj6ANPp",
        "outputId": "2f272589-7b9f-47bb-d821-64758da7c5d5"
      },
      "outputs": [
        {
          "data": {
            "text/plain": [
              "{'text': 'Telescope positioned on a balcony', 'label': 0}"
            ]
          },
          "execution_count": 26,
          "metadata": {},
          "output_type": "execute_result"
        }
      ],
      "source": [
        "random_idx_train = random.randint(0, len(dataset['train']))\n",
        "random_sample_train = dataset['train'][random_idx_train]\n",
        "random_sample_train"
      ]
    },
    {
      "cell_type": "code",
      "execution_count": 27,
      "metadata": {
        "colab": {
          "base_uri": "https://localhost:8080/"
        },
        "id": "07j-R9ErBBWe",
        "outputId": "b2eb8069-2b9a-40dc-e6cc-ee407a34dbb2"
      },
      "outputs": [
        {
          "data": {
            "text/plain": [
              "Dataset({\n",
              "    features: ['text', 'label'],\n",
              "    num_rows: 200\n",
              "})"
            ]
          },
          "execution_count": 27,
          "metadata": {},
          "output_type": "execute_result"
        }
      ],
      "source": [
        "dataset['train']"
      ]
    },
    {
      "cell_type": "code",
      "execution_count": 28,
      "metadata": {
        "colab": {
          "base_uri": "https://localhost:8080/"
        },
        "id": "1TcxBxnCOSiB",
        "outputId": "10e61d0c-ae88-40f7-980f-77a126e4875c"
      },
      "outputs": [
        {
          "data": {
            "text/plain": [
              "5"
            ]
          },
          "execution_count": 28,
          "metadata": {},
          "output_type": "execute_result"
        }
      ],
      "source": [
        "random.randint(0, len(dataset['test']))"
      ]
    },
    {
      "cell_type": "code",
      "execution_count": 29,
      "metadata": {
        "colab": {
          "base_uri": "https://localhost:8080/"
        },
        "id": "SjObEk0UBK6P",
        "outputId": "1efd651b-31c4-4a16-837f-5e7cccec54b7"
      },
      "outputs": [
        {
          "data": {
            "text/plain": [
              "{'text': 'Set of measuring cups nested in a drawer', 'label': 0}"
            ]
          },
          "execution_count": 29,
          "metadata": {},
          "output_type": "execute_result"
        }
      ],
      "source": [
        "random_idx_test = random.randint(0, len(dataset['test']))\n",
        "random_sample_test = dataset['test'][random_idx_test]\n",
        "random_sample_test"
      ]
    },
    {
      "cell_type": "markdown",
      "metadata": {
        "id": "3lLdEBKXDUnK"
      },
      "source": [
        "### Tokenizing the text data (turning text into numbers)\n",
        "* Models are often paired with tokenizers.\n",
        "* Tokenizer - turn text into numbers\n",
        "* Model - find pattern in those numbers"
      ]
    },
    {
      "cell_type": "code",
      "execution_count": 30,
      "metadata": {
        "colab": {
          "base_uri": "https://localhost:8080/",
          "height": 309,
          "referenced_widgets": [
            "d1de8248e3f640bc8909d31919dabf54",
            "078808d7e8874096b2ca1998520b883d",
            "3ac4fb7676bb49178c78bc748951f63b",
            "09e276bea8d148c89bc54e87bf4f47e3",
            "0321b78dc5164e1ab9412ac6b1bbc07a",
            "d3ca57620a594f738fdcdd664233ce81",
            "fafe0ac44b71449893067b9d90006571",
            "a59d6cf7c2db442bbd96f080f177784d",
            "ac3a9b0ec73e43778d6e7b2775d921f2",
            "c9387bb345ea4b5f859431735a910c0b",
            "8784e5c48ff2423db9e384b8998ad7df",
            "53c84be96ec446e69a23eacc8f242e34",
            "c893d6aa04f4463d8ae08414a2fbab81",
            "4c33711c2e7145e3ae789073880c3cbb",
            "246f77d9e3354974a98132b9d1b348e9",
            "03425e34c4324807bee2dcd87b20d1cc",
            "c53feb9e726d4bcd96d10ff56dbce16f",
            "e04102d7fc4c4352b27db0b5f27de156",
            "20454e6c23144b7187ada7f539ba0561",
            "5a526362973747b0ac4b9888baeb84f8",
            "e5e66ddeb93d4257ba02d9af9f735a0e",
            "0795e8b53814451d86e22a9e523d4d98",
            "10013a5c2a5f44bb9099f572fd6b1c39",
            "22bdb3c9fe5f4571b16d13837c85d168",
            "d1e3df6831fb43c9b51a65b2afc19b58",
            "d6a8c65a93c34260baa10d3e9a2b466d",
            "0d1c7e4e6bbb472591a8a06b2b3e2181",
            "0cb4cf4823294810914028f134099001",
            "12486b43dff947beb2ce2ec4ca188654",
            "04536d7415b748c3b0197e31cd9a362a",
            "a110ef69ba00490698a46f07e6f1517e",
            "11d890ec0eef4beda1339aa09837db6b",
            "ab5d7f00390e4c93b6ba1979b8f1af8c",
            "cf686015969644b0b196f720ca02fd70",
            "a9cb148634ec4a6ebb074f0027861e6d",
            "6ca32c39f0254e7a9dcb359c85c1fcbe",
            "3520ebd6870741539488c7cf52cdfc22",
            "934f5b75743747a2b024efe8f19ca830",
            "2ce19d19732845e28900d65d88b2c4b7",
            "4fc4b16a1aab4836bf894bd0fb410e9a",
            "bf82dd62ef60405a8e78490567a1544e",
            "03e3ced7cbab42e9aded2720caae7128",
            "0aab3848671247e6a4c67c3b7a7b1253",
            "49b48fcaf1c849bab9eca6ba7174f86a"
          ]
        },
        "id": "AgaCMbJEB53A",
        "outputId": "3be8e177-fbb7-4830-f371-1970a85dd174"
      },
      "outputs": [
        {
          "data": {
            "application/vnd.jupyter.widget-view+json": {
              "model_id": "d1de8248e3f640bc8909d31919dabf54",
              "version_major": 2,
              "version_minor": 0
            },
            "text/plain": [
              "tokenizer_config.json:   0%|          | 0.00/48.0 [00:00<?, ?B/s]"
            ]
          },
          "metadata": {},
          "output_type": "display_data"
        },
        {
          "data": {
            "application/vnd.jupyter.widget-view+json": {
              "model_id": "53c84be96ec446e69a23eacc8f242e34",
              "version_major": 2,
              "version_minor": 0
            },
            "text/plain": [
              "config.json:   0%|          | 0.00/483 [00:00<?, ?B/s]"
            ]
          },
          "metadata": {},
          "output_type": "display_data"
        },
        {
          "data": {
            "application/vnd.jupyter.widget-view+json": {
              "model_id": "10013a5c2a5f44bb9099f572fd6b1c39",
              "version_major": 2,
              "version_minor": 0
            },
            "text/plain": [
              "vocab.txt:   0%|          | 0.00/232k [00:00<?, ?B/s]"
            ]
          },
          "metadata": {},
          "output_type": "display_data"
        },
        {
          "data": {
            "application/vnd.jupyter.widget-view+json": {
              "model_id": "cf686015969644b0b196f720ca02fd70",
              "version_major": 2,
              "version_minor": 0
            },
            "text/plain": [
              "tokenizer.json:   0%|          | 0.00/466k [00:00<?, ?B/s]"
            ]
          },
          "metadata": {},
          "output_type": "display_data"
        },
        {
          "data": {
            "text/plain": [
              "DistilBertTokenizerFast(name_or_path='distilbert/distilbert-base-uncased', vocab_size=30522, model_max_length=512, is_fast=True, padding_side='right', truncation_side='right', special_tokens={'unk_token': '[UNK]', 'sep_token': '[SEP]', 'pad_token': '[PAD]', 'cls_token': '[CLS]', 'mask_token': '[MASK]'}, clean_up_tokenization_spaces=False, added_tokens_decoder={\n",
              "\t0: AddedToken(\"[PAD]\", rstrip=False, lstrip=False, single_word=False, normalized=False, special=True),\n",
              "\t100: AddedToken(\"[UNK]\", rstrip=False, lstrip=False, single_word=False, normalized=False, special=True),\n",
              "\t101: AddedToken(\"[CLS]\", rstrip=False, lstrip=False, single_word=False, normalized=False, special=True),\n",
              "\t102: AddedToken(\"[SEP]\", rstrip=False, lstrip=False, single_word=False, normalized=False, special=True),\n",
              "\t103: AddedToken(\"[MASK]\", rstrip=False, lstrip=False, single_word=False, normalized=False, special=True),\n",
              "}\n",
              ")"
            ]
          },
          "execution_count": 30,
          "metadata": {},
          "output_type": "execute_result"
        }
      ],
      "source": [
        "from transformers import AutoTokenizer\n",
        "\n",
        "tokenizer = AutoTokenizer.from_pretrained(pretrained_model_name_or_path=\"distilbert/distilbert-base-uncased\",\n",
        "                                          use_fast=True) # use the fast implementation (on by default, note: this requires Rust installed)\n",
        "\n",
        "tokenizer"
      ]
    },
    {
      "cell_type": "code",
      "execution_count": 31,
      "metadata": {
        "colab": {
          "base_uri": "https://localhost:8080/"
        },
        "id": "LbDnCxlCOksB",
        "outputId": "39ad5243-d0e1-4c7f-9e2f-325dbd3759bf"
      },
      "outputs": [
        {
          "name": "stdout",
          "output_type": "stream",
          "text": [
            "Sat May 24 10:52:30 2025       \n",
            "+-----------------------------------------------------------------------------------------+\n",
            "| NVIDIA-SMI 550.54.15              Driver Version: 550.54.15      CUDA Version: 12.4     |\n",
            "|-----------------------------------------+------------------------+----------------------+\n",
            "| GPU  Name                 Persistence-M | Bus-Id          Disp.A | Volatile Uncorr. ECC |\n",
            "| Fan  Temp   Perf          Pwr:Usage/Cap |           Memory-Usage | GPU-Util  Compute M. |\n",
            "|                                         |                        |               MIG M. |\n",
            "|=========================================+========================+======================|\n",
            "|   0  Tesla T4                       Off |   00000000:00:04.0 Off |                    0 |\n",
            "| N/A   42C    P8              9W /   70W |       2MiB /  15360MiB |      0%      Default |\n",
            "|                                         |                        |                  N/A |\n",
            "+-----------------------------------------+------------------------+----------------------+\n",
            "                                                                                         \n",
            "+-----------------------------------------------------------------------------------------+\n",
            "| Processes:                                                                              |\n",
            "|  GPU   GI   CI        PID   Type   Process name                              GPU Memory |\n",
            "|        ID   ID                                                               Usage      |\n",
            "|=========================================================================================|\n",
            "|  No running processes found                                                             |\n",
            "+-----------------------------------------------------------------------------------------+\n"
          ]
        }
      ],
      "source": [
        "!nvidia-smi"
      ]
    },
    {
      "cell_type": "code",
      "execution_count": 32,
      "metadata": {
        "colab": {
          "base_uri": "https://localhost:8080/"
        },
        "id": "-88uU-NSDk-S",
        "outputId": "755bb2ea-e594-43cd-c628-443bdf3bd29b"
      },
      "outputs": [
        {
          "data": {
            "text/plain": [
              "{'input_ids': [101, 1045, 2293, 2000, 4392, 6544, 2006, 1037, 11559, 2154, 1010, 2021, 2009, 2079, 2025, 3043, 102], 'attention_mask': [1, 1, 1, 1, 1, 1, 1, 1, 1, 1, 1, 1, 1, 1, 1, 1, 1]}"
            ]
          },
          "execution_count": 32,
          "metadata": {},
          "output_type": "execute_result"
        }
      ],
      "source": [
        "# Testing the tokenizer\n",
        "tokenizer(\"I love to drink alcohol on a sunny day, but it do not matter\")"
      ]
    },
    {
      "cell_type": "markdown",
      "metadata": {
        "id": "g5iYaAxlIZm4"
      },
      "source": [
        " * `input_ids` - text turned into numbers\n",
        " * `attention_mask` - whether or not to pay attention to certain tokens(1=yes pay attention, 0=no don't pay attention)"
      ]
    },
    {
      "cell_type": "code",
      "execution_count": 33,
      "metadata": {
        "colab": {
          "base_uri": "https://localhost:8080/"
        },
        "id": "v1_dNA75HcdX",
        "outputId": "65ab8f72-37fd-4d1b-826a-06b49157dd32"
      },
      "outputs": [
        {
          "name": "stdout",
          "output_type": "stream",
          "text": [
            "Number of items in the vocab: 30522\n",
            "Max tokenizer inout sequence length: 512\n"
          ]
        }
      ],
      "source": [
        "# Get the length of the tokenizer vocab\n",
        "length_of_tokenizer_vocab = len(tokenizer.vocab)\n",
        "print(f\"Number of items in the vocab: {length_of_tokenizer_vocab}\")\n",
        "\n",
        "# Get the maximum sequence length the tokenizer can handle\n",
        "max_tokenizer_input_sequence_length = tokenizer.model_max_length\n",
        "print(f\"Max tokenizer inout sequence length: {max_tokenizer_input_sequence_length}\")"
      ]
    },
    {
      "cell_type": "code",
      "execution_count": 34,
      "metadata": {
        "colab": {
          "base_uri": "https://localhost:8080/"
        },
        "id": "0ZCQiKgHLzz1",
        "outputId": "1492c5ee-2b1e-4d46-e3e8-d8b89ec59af8"
      },
      "outputs": [
        {
          "data": {
            "text/plain": [
              "12723"
            ]
          },
          "execution_count": 34,
          "metadata": {},
          "output_type": "execute_result"
        }
      ],
      "source": [
        "tokenizer.vocab['torch']"
      ]
    },
    {
      "cell_type": "code",
      "execution_count": 35,
      "metadata": {
        "colab": {
          "base_uri": "https://localhost:8080/"
        },
        "id": "_FMvF6IDLzxd",
        "outputId": "9d1c2dba-a542-41e3-8350-8064bdc1ab16"
      },
      "outputs": [
        {
          "data": {
            "text/plain": [
              "{'input_ids': [101, 16216, 10867, 2015, 102], 'attention_mask': [1, 1, 1, 1, 1]}"
            ]
          },
          "execution_count": 35,
          "metadata": {},
          "output_type": "execute_result"
        }
      ],
      "source": [
        "tokenizer(\"germs\")"
      ]
    },
    {
      "cell_type": "code",
      "execution_count": 36,
      "metadata": {
        "colab": {
          "base_uri": "https://localhost:8080/"
        },
        "id": "13jhIJV6P9Jm",
        "outputId": "206c492b-211d-43c6-b196-60e4b9b0f0f0"
      },
      "outputs": [
        {
          "data": {
            "text/plain": [
              "['[CLS]', 'ge', '##rm', '##s', '[SEP]']"
            ]
          },
          "execution_count": 36,
          "metadata": {},
          "output_type": "execute_result"
        }
      ],
      "source": [
        "tokenizer.convert_ids_to_tokens(tokenizer(\"germs\").input_ids)"
      ]
    },
    {
      "cell_type": "code",
      "execution_count": 37,
      "metadata": {
        "colab": {
          "base_uri": "https://localhost:8080/"
        },
        "id": "ah9CXaJbLzYm",
        "outputId": "34d34211-a591-448f-9bcd-4fd911d1ac69"
      },
      "outputs": [
        {
          "data": {
            "text/plain": [
              "['[unused0]', '[unused0]', '[unused0]', '[unused0]', '[unused0]']"
            ]
          },
          "execution_count": 37,
          "metadata": {},
          "output_type": "execute_result"
        }
      ],
      "source": [
        "tokenizer.convert_ids_to_tokens(tokenizer(\"germs\").attention_mask)"
      ]
    },
    {
      "cell_type": "code",
      "execution_count": 38,
      "metadata": {
        "colab": {
          "base_uri": "https://localhost:8080/"
        },
        "id": "x3tRHDy0LzVD",
        "outputId": "c2308876-678c-4b9e-8241-86233cdc2a80"
      },
      "outputs": [
        {
          "data": {
            "text/plain": [
              "['[CLS]', '[UNK]', '[SEP]']"
            ]
          },
          "execution_count": 38,
          "metadata": {},
          "output_type": "execute_result"
        }
      ],
      "source": [
        "tokenizer.convert_ids_to_tokens(tokenizer(\"🤤\").input_ids)"
      ]
    },
    {
      "cell_type": "code",
      "execution_count": 39,
      "metadata": {
        "colab": {
          "base_uri": "https://localhost:8080/"
        },
        "id": "GULJGDbeOrir",
        "outputId": "3bf31940-f21e-40f5-936c-2ffbc44027cb"
      },
      "outputs": [
        {
          "data": {
            "text/plain": [
              "['[CLS]',\n",
              " '☆',\n",
              " '*',\n",
              " ':',\n",
              " '.',\n",
              " '[UNK]',\n",
              " '.',\n",
              " 'o',\n",
              " '(',\n",
              " '[UNK]',\n",
              " ')',\n",
              " 'o',\n",
              " '.',\n",
              " '[UNK]',\n",
              " '.',\n",
              " ':',\n",
              " '*',\n",
              " '☆',\n",
              " '[SEP]']"
            ]
          },
          "execution_count": 39,
          "metadata": {},
          "output_type": "execute_result"
        }
      ],
      "source": [
        "tokenizer.convert_ids_to_tokens(tokenizer(\"☆*: .｡. o(≧▽≦)o .｡.:*☆\").input_ids)"
      ]
    },
    {
      "cell_type": "code",
      "execution_count": 40,
      "metadata": {
        "id": "XrZI7mxnPepH"
      },
      "outputs": [],
      "source": [
        "# tokenizer.vocab"
      ]
    },
    {
      "cell_type": "code",
      "execution_count": 41,
      "metadata": {
        "colab": {
          "base_uri": "https://localhost:8080/"
        },
        "id": "lKLBu1WZOxVM",
        "outputId": "7ff14d17-2502-42ad-f860-67c3257ee9a8"
      },
      "outputs": [
        {
          "data": {
            "text/plain": [
              "[('!', 999), ('\"', 1000), ('#', 1001), ('##!', 29612), ('##\"', 29613)]"
            ]
          },
          "execution_count": 41,
          "metadata": {},
          "output_type": "execute_result"
        }
      ],
      "source": [
        "# Get the first 5 items in the tokenizer vocab\n",
        "sorted(tokenizer.vocab.items())[:5]"
      ]
    },
    {
      "cell_type": "code",
      "execution_count": 42,
      "metadata": {
        "colab": {
          "base_uri": "https://localhost:8080/"
        },
        "id": "XS4JVIgbPVih",
        "outputId": "7654c4b1-a0ee-4c68-b734-a9d3dbb68f9a"
      },
      "outputs": [
        {
          "data": {
            "text/plain": [
              "[('glamorgan', 23861),\n",
              " ('hereford', 21136),\n",
              " ('glasgow', 6785),\n",
              " ('supermarkets', 26676),\n",
              " ('category', 4696)]"
            ]
          },
          "execution_count": 42,
          "metadata": {},
          "output_type": "execute_result"
        }
      ],
      "source": [
        "import random\n",
        "\n",
        "random.sample(sorted(tokenizer.vocab.items()), k=5)"
      ]
    },
    {
      "cell_type": "markdown",
      "metadata": {
        "id": "RqLP7SQgednS"
      },
      "source": [
        "### Making a preprocessing function to tokenize text\n",
        "Making it easy to go from sample -> tokenized_sample."
      ]
    },
    {
      "cell_type": "code",
      "execution_count": 43,
      "metadata": {
        "id": "me-xhsTjPiCg"
      },
      "outputs": [],
      "source": [
        "def tokenize_text(examples):\n",
        "  \"\"\"\n",
        "  Tokenize given example text and return the tokenized text.\n",
        "  \"\"\"\n",
        "  return tokenizer(examples[\"text\"],\n",
        "            padding=True, # pad short sequences to longest sequence in batch (e.g. if sample length is 100 and the model length is 512, the sample length will be padded to 512 or longest sample in batch)\n",
        "            truncation=True)  # Truncate long sequences to the maximum length the model can handle (e.g. if sample length = 1000, model length = 512, sample will be shortened to 512)"
      ]
    },
    {
      "cell_type": "code",
      "execution_count": 44,
      "metadata": {
        "colab": {
          "base_uri": "https://localhost:8080/"
        },
        "id": "VQk_3Kyje1Zk",
        "outputId": "4c2bafc3-670b-49b5-c023-2e450137bc07"
      },
      "outputs": [
        {
          "data": {
            "text/plain": [
              "{'input_ids': [101, 1045, 2293, 10733, 102], 'attention_mask': [1, 1, 1, 1, 1]}"
            ]
          },
          "execution_count": 44,
          "metadata": {},
          "output_type": "execute_result"
        }
      ],
      "source": [
        "example_sample_2 = {'text':'I love pizza', 'label': 1}\n",
        "\n",
        "tokenize_text(example_sample_2)"
      ]
    },
    {
      "cell_type": "code",
      "execution_count": 45,
      "metadata": {
        "colab": {
          "base_uri": "https://localhost:8080/"
        },
        "id": "6YqNKoGJlF1H",
        "outputId": "52266035-1175-400c-9c01-5c43796ee7db"
      },
      "outputs": [
        {
          "data": {
            "text/plain": [
              "31000"
            ]
          },
          "execution_count": 45,
          "metadata": {},
          "output_type": "execute_result"
        }
      ],
      "source": [
        "long_text = \"I love mocha and eggs benedict \"*1000\n",
        "len(long_text)"
      ]
    },
    {
      "cell_type": "code",
      "execution_count": 46,
      "metadata": {
        "id": "g6sLmnfalReb"
      },
      "outputs": [],
      "source": [
        "long_text\n",
        "example_sample_3 = {\"text\": long_text, label:1}"
      ]
    },
    {
      "cell_type": "code",
      "execution_count": 47,
      "metadata": {
        "colab": {
          "base_uri": "https://localhost:8080/"
        },
        "id": "XFKG_Z__lbrn",
        "outputId": "d87576c5-7267-4b0f-9a77-75eb29842d33"
      },
      "outputs": [
        {
          "data": {
            "text/plain": [
              "512"
            ]
          },
          "execution_count": 47,
          "metadata": {},
          "output_type": "execute_result"
        }
      ],
      "source": [
        "tokenized_long_text = tokenize_text(example_sample_3)\n",
        "len(tokenized_long_text['input_ids']) # truncation checking"
      ]
    },
    {
      "cell_type": "code",
      "execution_count": 48,
      "metadata": {
        "colab": {
          "base_uri": "https://localhost:8080/",
          "height": 264,
          "referenced_widgets": [
            "4f679d9088e64c21ba5c41fe67f0d13e",
            "ca40d22e7fc542a1ac97cf08ad532ba2",
            "8536521ca27b4abfa16739331a9d154f",
            "730939ad64dc4ddab8d2d32a7bcc0da2",
            "7a10fdf74a374575b8f125ef1736205b",
            "12a5b38dc9a24eac92792ae721ded955",
            "cd3bfa6a2ecd468b8790f94b6f853b7d",
            "3758021b28104d97b26a095a086102d5",
            "b8ab9c77a716408480447c8744df35d3",
            "5a675e80e012429e9ea88df4b363a714",
            "54829929d6574d40838f449062184c19",
            "8ba3583a2c8f48639e72be502c9efec4",
            "186f819a1b5549ed8dfafa3e055f4bbf",
            "cd5168bbe2b7409483b09c363822d9ac",
            "611a19554ba04dfbb7ef39764f1426ab",
            "2e08f6b8c7354ae09d6477df795307b9",
            "b8cabb103e604a6c89615de2f6e90a92",
            "6c188d19d0e148b88506533f7a73d9c9",
            "93a37a0294754890ae6d2862ed018d2a",
            "f4f9884de7a74f048031fd4fd377a8a6",
            "24cfb309ad0840d7b67bc34eaaa5a447",
            "136904d9a3c74b4c979f8f95c11dcad3"
          ]
        },
        "id": "w3sDs-l4l0JY",
        "outputId": "920167d8-ecb0-4b53-a2a6-be48ba7a5455"
      },
      "outputs": [
        {
          "data": {
            "application/vnd.jupyter.widget-view+json": {
              "model_id": "4f679d9088e64c21ba5c41fe67f0d13e",
              "version_major": 2,
              "version_minor": 0
            },
            "text/plain": [
              "Map:   0%|          | 0/200 [00:00<?, ? examples/s]"
            ]
          },
          "metadata": {},
          "output_type": "display_data"
        },
        {
          "data": {
            "application/vnd.jupyter.widget-view+json": {
              "model_id": "8ba3583a2c8f48639e72be502c9efec4",
              "version_major": 2,
              "version_minor": 0
            },
            "text/plain": [
              "Map:   0%|          | 0/50 [00:00<?, ? examples/s]"
            ]
          },
          "metadata": {},
          "output_type": "display_data"
        },
        {
          "data": {
            "text/plain": [
              "DatasetDict({\n",
              "    train: Dataset({\n",
              "        features: ['text', 'label', 'input_ids', 'attention_mask'],\n",
              "        num_rows: 200\n",
              "    })\n",
              "    test: Dataset({\n",
              "        features: ['text', 'label', 'input_ids', 'attention_mask'],\n",
              "        num_rows: 50\n",
              "    })\n",
              "})"
            ]
          },
          "execution_count": 48,
          "metadata": {},
          "output_type": "execute_result"
        }
      ],
      "source": [
        "# Map tokenize text function to the dataset\n",
        "tokenized_dataset = dataset.map(function=tokenize_text,\n",
        "                                batched=True, # set batched=True to tokenize across batches of samples at a time rather than one at a time\n",
        "                                batch_size=1000)\n",
        "tokenized_dataset"
      ]
    },
    {
      "cell_type": "markdown",
      "metadata": {
        "id": "FEp5L2F_shjj"
      },
      "source": [
        "**In machine learning it is faster to do things in batches than  one at a time due to the leveraging of computer hardware parallelization.**"
      ]
    },
    {
      "cell_type": "code",
      "execution_count": 49,
      "metadata": {
        "colab": {
          "base_uri": "https://localhost:8080/"
        },
        "id": "2SyVii0tGAHq",
        "outputId": "c22df1f5-2230-4cb6-9089-1a52e865d2ce"
      },
      "outputs": [
        {
          "data": {
            "text/plain": [
              "['[UNK]', '[SEP]', '[PAD]', '[CLS]', '[MASK]']"
            ]
          },
          "execution_count": 49,
          "metadata": {},
          "output_type": "execute_result"
        }
      ],
      "source": [
        "tokenizer.all_special_tokens"
      ]
    },
    {
      "cell_type": "code",
      "execution_count": 50,
      "metadata": {
        "colab": {
          "base_uri": "https://localhost:8080/"
        },
        "id": "tFFIG7kyGGXq",
        "outputId": "041eb022-cbe8-4297-e762-03daa556fc52"
      },
      "outputs": [
        {
          "data": {
            "text/plain": [
              "[100, 102, 0, 101, 103]"
            ]
          },
          "execution_count": 50,
          "metadata": {},
          "output_type": "execute_result"
        }
      ],
      "source": [
        "tokenizer.all_special_ids"
      ]
    },
    {
      "cell_type": "code",
      "execution_count": 51,
      "metadata": {
        "colab": {
          "base_uri": "https://localhost:8080/"
        },
        "id": "ROcM7xqLsgAK",
        "outputId": "b09c3bf1-eeab-45c1-91df-836c7304ff97"
      },
      "outputs": [
        {
          "name": "stdout",
          "output_type": "stream",
          "text": [
            "[INFO] Key: text\n",
            "Train sample: Set of headphones placed on a desk\n",
            "Test sample: A slice of pepperoni pizza with a layer of melted cheese\n",
            "\n",
            "[INFO] Key: label\n",
            "Train sample: 0\n",
            "Test sample: 1\n",
            "\n",
            "[INFO] Key: input_ids\n",
            "Train sample: [101, 2275, 1997, 2132, 19093, 2872, 2006, 1037, 4624, 102, 0, 0, 0, 0, 0, 0, 0, 0, 0, 0, 0, 0, 0, 0, 0, 0, 0, 0, 0, 0, 0, 0, 0, 0, 0]\n",
            "Test sample: [101, 1037, 14704, 1997, 11565, 10698, 10733, 2007, 1037, 6741, 1997, 12501, 8808, 102, 0, 0, 0, 0, 0, 0, 0, 0, 0, 0, 0, 0, 0, 0, 0, 0, 0, 0, 0, 0, 0, 0]\n",
            "\n",
            "[INFO] Key: attention_mask\n",
            "Train sample: [1, 1, 1, 1, 1, 1, 1, 1, 1, 1, 0, 0, 0, 0, 0, 0, 0, 0, 0, 0, 0, 0, 0, 0, 0, 0, 0, 0, 0, 0, 0, 0, 0, 0, 0]\n",
            "Test sample: [1, 1, 1, 1, 1, 1, 1, 1, 1, 1, 1, 1, 1, 1, 0, 0, 0, 0, 0, 0, 0, 0, 0, 0, 0, 0, 0, 0, 0, 0, 0, 0, 0, 0, 0, 0]\n",
            "\n"
          ]
        }
      ],
      "source": [
        "# Get two samples from the tokenized datasets\n",
        "train_tokenized_sample = tokenized_dataset['train'][0]\n",
        "test_tokenized_sample = tokenized_dataset['test'][0]\n",
        "\n",
        "# trained_tokenized_sample, test_tokenized_sample\n",
        "for key in train_tokenized_sample.keys():\n",
        "  print(f\"[INFO] Key: {key}\")\n",
        "  print(f\"Train sample: {train_tokenized_sample[key]}\")\n",
        "  print(f\"Test sample: {test_tokenized_sample[key]}\")\n",
        "  print()"
      ]
    },
    {
      "cell_type": "code",
      "execution_count": 52,
      "metadata": {
        "colab": {
          "base_uri": "https://localhost:8080/"
        },
        "id": "7fOvAdzgFp6Z",
        "outputId": "8459f750-d993-4b63-de74-be52028791d8"
      },
      "outputs": [
        {
          "data": {
            "text/plain": [
              "dict_keys(['text', 'label', 'input_ids', 'attention_mask'])"
            ]
          },
          "execution_count": 52,
          "metadata": {},
          "output_type": "execute_result"
        }
      ],
      "source": [
        "train_tokenized_sample.keys()"
      ]
    },
    {
      "cell_type": "markdown",
      "metadata": {
        "id": "7-u9zZ5nRaiv"
      },
      "source": [
        "## Setting  up Evaluation metric\n",
        "Some common evaluation metrics for classification:\n",
        "- Accuracy\n",
        "- Precision\n",
        "- Recall\n",
        "- F1 score\n",
        "\n",
        "Some projects may have an evaluation threshold needed to be fulfilled."
      ]
    },
    {
      "cell_type": "code",
      "execution_count": 53,
      "metadata": {
        "colab": {
          "base_uri": "https://localhost:8080/",
          "height": 49,
          "referenced_widgets": [
            "7f2a2c766d9d4c96bffb26b04e5548cd",
            "266592688ea4418fa23d2cf61a06812f",
            "9944f8ab922144748b3ba39b555047e1",
            "d0a13d377d1b4fec99d3ec5c3386ddd8",
            "eee9b6badfb244c7b1692948c91d5f57",
            "da2cc412ee5a4a47a562e4546006590a",
            "f69da66c3076411597fa5289c24cac21",
            "c2540c0a449d4f8c9616b2d753adf952",
            "8afe562c90ec4022adb199451f7494e2",
            "1d01dd7b9a164bd8ad2adb3d29f625dc",
            "cdb8e945453d47099ddc6964914af5c2"
          ]
        },
        "id": "XPUvIywqIiEW",
        "outputId": "541f85b4-13d4-4f62-9256-7a9e6f0c2c94"
      },
      "outputs": [
        {
          "data": {
            "application/vnd.jupyter.widget-view+json": {
              "model_id": "7f2a2c766d9d4c96bffb26b04e5548cd",
              "version_major": 2,
              "version_minor": 0
            },
            "text/plain": [
              "Downloading builder script:   0%|          | 0.00/4.20k [00:00<?, ?B/s]"
            ]
          },
          "metadata": {},
          "output_type": "display_data"
        }
      ],
      "source": [
        "import evaluate\n",
        "import numpy as np\n",
        "from typing import Tuple\n",
        "\n",
        "accuracy_metric = evaluate.load(\"accuracy\")\n",
        "\n",
        "def compute_accuracy(predictions_and_labels:Tuple[np.array, np.array]):\n",
        "  \"\"\"\n",
        "  Computes the accuracy by comparing the predictions and the labels.\n",
        "  \"\"\"\n",
        "  predictions, labels = predictions_and_labels\n",
        "\n",
        "  return accuracy_metric.compute(predictions=predictions, references=labels)"
      ]
    },
    {
      "cell_type": "code",
      "execution_count": 54,
      "metadata": {
        "colab": {
          "base_uri": "https://localhost:8080/"
        },
        "id": "1PPAeOaTTZqv",
        "outputId": "4826107f-e4a7-4bb5-f74b-6ee978ee3a1d"
      },
      "outputs": [
        {
          "name": "stdout",
          "output_type": "stream",
          "text": [
            "Accuracy when all predictions are correct: {'accuracy': 1.0}\n",
            "Accuracy when one prediction is incorrect: {'accuracy': 0.9}\n"
          ]
        }
      ],
      "source": [
        "# Example predictions and accuracy score\n",
        "example_preds_all_correct = np.array([0,0,0,0,0,0,0,0,0,0])\n",
        "example_preds_one_incorrect = np.array([0,0,0,0,1,0,0,0,0,0])\n",
        "example_labels = np.array([0,0,0,0,0,0,0,0,0,0])\n",
        "\n",
        "# Test the function\n",
        "print(f\"Accuracy when all predictions are correct: {compute_accuracy((example_preds_all_correct, example_labels))}\")\n",
        "print(f\"Accuracy when one prediction is incorrect: {compute_accuracy((example_preds_one_incorrect, example_labels))}\")"
      ]
    },
    {
      "cell_type": "markdown",
      "metadata": {
        "id": "QNb_sH3-WuxC"
      },
      "source": [
        "## Setting up a model for training\n",
        "Using transfer learning.\n",
        "\n",
        "Workflow for training:\n",
        "1. Create and preprocess data.\n",
        "2. Define the model you'd like to use for your [problem](https://huggingface.co/models).\n",
        "3. Define the training arguments for training the model `transformers.TrainingArguments`. Aka hyperparameters.\n",
        "4. Pass `TrainingArguments` to an instance of `transformers.Trainer`.\n",
        "5. Train the model by calling `Trainer.train()`.\n",
        "6. Save the model (to local amchine or HuggingFace Hub).\n",
        "7. Evaluate the trained model by making and inspecting predictions on the test data.\n",
        "8. Turn the model into a shareable demo."
      ]
    },
    {
      "cell_type": "code",
      "execution_count": 55,
      "metadata": {
        "colab": {
          "base_uri": "https://localhost:8080/"
        },
        "id": "cIvkzwcalJX0",
        "outputId": "632fb95e-fc44-4163-a2f9-40c7aa96d95a"
      },
      "outputs": [
        {
          "data": {
            "text/plain": [
              "{'not_food': 0, 'food': 1}"
            ]
          },
          "execution_count": 55,
          "metadata": {},
          "output_type": "execute_result"
        }
      ],
      "source": [
        "label2id"
      ]
    },
    {
      "cell_type": "code",
      "execution_count": 56,
      "metadata": {
        "colab": {
          "base_uri": "https://localhost:8080/"
        },
        "id": "ze8M8TW3lLAp",
        "outputId": "b3c8783c-fa72-46bf-f5cf-ac199775b521"
      },
      "outputs": [
        {
          "data": {
            "text/plain": [
              "{0: 'not_food', 1: 'food'}"
            ]
          },
          "execution_count": 56,
          "metadata": {},
          "output_type": "execute_result"
        }
      ],
      "source": [
        "id2label"
      ]
    },
    {
      "cell_type": "code",
      "execution_count": 57,
      "metadata": {
        "colab": {
          "base_uri": "https://localhost:8080/",
          "height": 142,
          "referenced_widgets": [
            "7f6428c2377a4f1f80c2f2c18bc37b1b",
            "b2443d6989374fbaaf1b0b008dc81915",
            "3d36706a8c054db6a96acfb937e39e7b",
            "c174bea82b794093bc7be2244e61dc0d",
            "5e6f72797a7d40e9a6188e9abe04d3b8",
            "ade3b1349045434cbd1ca747e3148b60",
            "ea6d4929a8cc49ca8895c77765151c3d",
            "ab4acbfc459440168f1b2edf2435aa62",
            "5968b9b830a849e7a895a0c79182c60a",
            "fe361f00360f48daac850ab49ce4faf9",
            "8da19c7b7aaf4e5a827d0345e04b0aa7"
          ]
        },
        "id": "UhgVHMLaWFTo",
        "outputId": "e5000c29-bd1b-4c75-b790-b9b2a7774df5"
      },
      "outputs": [
        {
          "name": "stderr",
          "output_type": "stream",
          "text": [
            "Xet Storage is enabled for this repo, but the 'hf_xet' package is not installed. Falling back to regular HTTP download. For better performance, install the package with: `pip install huggingface_hub[hf_xet]` or `pip install hf_xet`\n",
            "WARNING:huggingface_hub.file_download:Xet Storage is enabled for this repo, but the 'hf_xet' package is not installed. Falling back to regular HTTP download. For better performance, install the package with: `pip install huggingface_hub[hf_xet]` or `pip install hf_xet`\n"
          ]
        },
        {
          "data": {
            "application/vnd.jupyter.widget-view+json": {
              "model_id": "7f6428c2377a4f1f80c2f2c18bc37b1b",
              "version_major": 2,
              "version_minor": 0
            },
            "text/plain": [
              "model.safetensors:   0%|          | 0.00/268M [00:00<?, ?B/s]"
            ]
          },
          "metadata": {},
          "output_type": "display_data"
        },
        {
          "name": "stderr",
          "output_type": "stream",
          "text": [
            "Some weights of DistilBertForSequenceClassification were not initialized from the model checkpoint at distilbert/distilbert-base-uncased and are newly initialized: ['classifier.bias', 'classifier.weight', 'pre_classifier.bias', 'pre_classifier.weight']\n",
            "You should probably TRAIN this model on a down-stream task to be able to use it for predictions and inference.\n"
          ]
        }
      ],
      "source": [
        "from transformers import AutoModelForSequenceClassification # for loading the model automatically\n",
        "model_name = \"distilbert/distilbert-base-uncased\"\n",
        "model = AutoModelForSequenceClassification.from_pretrained(\n",
        "    pretrained_model_name_or_path=model_name,\n",
        "    num_labels=2, #classify into food/not_food\n",
        "    id2label=id2label,\n",
        "    label2id=label2id\n",
        ")"
      ]
    },
    {
      "cell_type": "code",
      "execution_count": 58,
      "metadata": {
        "colab": {
          "base_uri": "https://localhost:8080/"
        },
        "id": "HiHjTk04Yi1K",
        "outputId": "7d3dfd3d-8fbb-48f4-99dd-31dd622bc09c"
      },
      "outputs": [
        {
          "data": {
            "text/plain": [
              "DistilBertForSequenceClassification(\n",
              "  (distilbert): DistilBertModel(\n",
              "    (embeddings): Embeddings(\n",
              "      (word_embeddings): Embedding(30522, 768, padding_idx=0)\n",
              "      (position_embeddings): Embedding(512, 768)\n",
              "      (LayerNorm): LayerNorm((768,), eps=1e-12, elementwise_affine=True)\n",
              "      (dropout): Dropout(p=0.1, inplace=False)\n",
              "    )\n",
              "    (transformer): Transformer(\n",
              "      (layer): ModuleList(\n",
              "        (0-5): 6 x TransformerBlock(\n",
              "          (attention): DistilBertSdpaAttention(\n",
              "            (dropout): Dropout(p=0.1, inplace=False)\n",
              "            (q_lin): Linear(in_features=768, out_features=768, bias=True)\n",
              "            (k_lin): Linear(in_features=768, out_features=768, bias=True)\n",
              "            (v_lin): Linear(in_features=768, out_features=768, bias=True)\n",
              "            (out_lin): Linear(in_features=768, out_features=768, bias=True)\n",
              "          )\n",
              "          (sa_layer_norm): LayerNorm((768,), eps=1e-12, elementwise_affine=True)\n",
              "          (ffn): FFN(\n",
              "            (dropout): Dropout(p=0.1, inplace=False)\n",
              "            (lin1): Linear(in_features=768, out_features=3072, bias=True)\n",
              "            (lin2): Linear(in_features=3072, out_features=768, bias=True)\n",
              "            (activation): GELUActivation()\n",
              "          )\n",
              "          (output_layer_norm): LayerNorm((768,), eps=1e-12, elementwise_affine=True)\n",
              "        )\n",
              "      )\n",
              "    )\n",
              "  )\n",
              "  (pre_classifier): Linear(in_features=768, out_features=768, bias=True)\n",
              "  (classifier): Linear(in_features=768, out_features=2, bias=True)\n",
              "  (dropout): Dropout(p=0.2, inplace=False)\n",
              ")"
            ]
          },
          "execution_count": 58,
          "metadata": {},
          "output_type": "execute_result"
        }
      ],
      "source": [
        "model"
      ]
    },
    {
      "cell_type": "markdown",
      "metadata": {
        "id": "0pt7w9vPpsV3"
      },
      "source": [
        "The model is comprised of the following parts:\n",
        "1. `embeddings` - embeddings are a form of learned representation of tokens. So, if tokens are a direct mapping from token to number, embeddings are a learned vector representation.\n",
        "2. `transformer` - the model's architecture backbone, this has discovered patterns/relationships in the embeddings.\n",
        "3. `classifier` - customizing this layer to suit your problem."
      ]
    },
    {
      "cell_type": "markdown",
      "metadata": {
        "id": "vAkSwgfz1E_D"
      },
      "source": [
        "**NOTE**: if you get errors from passing a sample to a model, make sure the sample you pass to your model is formatted in the same way your model was trained on. For example, if your model used a specific tokenizer, make sure to tokenize your text before passing it to the model."
      ]
    },
    {
      "cell_type": "code",
      "execution_count": 59,
      "metadata": {
        "id": "XLrsZNUVa8tu"
      },
      "outputs": [],
      "source": [
        "# tokenized_dataset['train']['input_ids'][0]"
      ]
    },
    {
      "cell_type": "markdown",
      "metadata": {
        "id": "QaJev5oB4SIN"
      },
      "source": [
        "### Count the parameters in the model\n",
        "Weights/parameters = small numeric opportunities for a model to learn patterns in data."
      ]
    },
    {
      "cell_type": "code",
      "execution_count": 60,
      "metadata": {
        "collapsed": true,
        "id": "UZCj18MPk7uL"
      },
      "outputs": [],
      "source": [
        "# list(model.parameters())"
      ]
    },
    {
      "cell_type": "code",
      "execution_count": 61,
      "metadata": {
        "colab": {
          "base_uri": "https://localhost:8080/"
        },
        "id": "5f-SEhpI4BfM",
        "outputId": "4877b8f7-e437-4bf5-ca88-db33b4cf8b7b"
      },
      "outputs": [
        {
          "data": {
            "text/plain": [
              "{'trainable_parameters': 66955010, 'total_parameters': 66955010}"
            ]
          },
          "execution_count": 61,
          "metadata": {},
          "output_type": "execute_result"
        }
      ],
      "source": [
        "def count_params(model):\n",
        "  \"\"\"\n",
        "  Count the parameters of a PyTorch model.\n",
        "  \"\"\"\n",
        "  trainable_parameters = sum(param.numel() for param in model.parameters() if param.requires_grad)\n",
        "  total_parameters = sum(param.numel() for param in model.parameters())\n",
        "\n",
        "  return {\"trainable_parameters\":trainable_parameters, \"total_parameters\":total_parameters}\n",
        "\n",
        "count_params(model)"
      ]
    },
    {
      "cell_type": "markdown",
      "metadata": {
        "id": "xs1_UDhL8WpT"
      },
      "source": [
        "- Generally, the more parameters a model has, the more capacity it has to learn.\n",
        "- If you want the best possible performance, more parameters is generally better.\n",
        "  * However, more parameters requires more compute + time."
      ]
    },
    {
      "cell_type": "code",
      "execution_count": 61,
      "metadata": {
        "id": "qq_jzd8T6qBq"
      },
      "outputs": [],
      "source": []
    },
    {
      "cell_type": "markdown",
      "metadata": {
        "id": "npimV851-amt"
      },
      "source": [
        "### Create a directory for saving models"
      ]
    },
    {
      "cell_type": "code",
      "execution_count": 62,
      "metadata": {
        "colab": {
          "base_uri": "https://localhost:8080/"
        },
        "id": "LA9ykjBI-fW6",
        "outputId": "3c3c708c-ff97-4fb3-988e-e1a0f16ca01b"
      },
      "outputs": [
        {
          "data": {
            "text/plain": [
              "PosixPath('models/hg_tutorial_food_not_food_text_classifier_distilbert_base_uncased')"
            ]
          },
          "execution_count": 62,
          "metadata": {},
          "output_type": "execute_result"
        }
      ],
      "source": [
        "# Create model output directory\n",
        "from pathlib import Path\n",
        "\n",
        "# Create models dir\n",
        "model_dir = Path(\"models\")\n",
        "model_dir.mkdir(exist_ok=True)\n",
        "\n",
        "# Create model save name\n",
        "model_save_name = \"hg_tutorial_food_not_food_text_classifier_distilbert_base_uncased\"\n",
        "\n",
        "# Create model save path\n",
        "model_save_dir = Path(model_dir, model_save_name)\n",
        "\n",
        "model_save_dir"
      ]
    },
    {
      "cell_type": "markdown",
      "metadata": {
        "id": "Rt1LRuCcUVjs"
      },
      "source": [
        "### Setting up training arguments (hyperparameters) with `TrainingArguments`"
      ]
    },
    {
      "cell_type": "code",
      "execution_count": 63,
      "metadata": {
        "colab": {
          "base_uri": "https://localhost:8080/"
        },
        "id": "etNnke4I_maj",
        "outputId": "276ec13d-e50b-4a5a-e30c-c32ac40496a4"
      },
      "outputs": [
        {
          "name": "stdout",
          "output_type": "stream",
          "text": [
            "[INFO] Saving model checkpoints: models/hg_tutorial_food_not_food_text_classifier_distilbert_base_uncased\n"
          ]
        }
      ],
      "source": [
        "from transformers import TrainingArguments\n",
        "print(f\"[INFO] Saving model checkpoints: {model_save_dir}\")\n",
        "\n",
        "BATCH_SIZE = 32\n",
        "\n",
        "# Create training arguments\n",
        "training_args = TrainingArguments(\n",
        "    output_dir=model_save_dir,\n",
        "    learning_rate=0.0001,\n",
        "    per_device_train_batch_size=BATCH_SIZE,\n",
        "    per_device_eval_batch_size=BATCH_SIZE,\n",
        "    num_train_epochs=10,\n",
        "    eval_strategy=\"epoch\",\n",
        "    save_strategy=\"epoch\",\n",
        "    save_total_limit=3,\n",
        "    use_cpu=False, # set False to use GPU\n",
        "    seed=42,\n",
        "    load_best_model_at_end=True,\n",
        "    logging_strategy=\"epoch\",\n",
        "    report_to=\"none\", # for tracking\n",
        "    # hub_token=\"YOUR-HG-TOKEN\",\n",
        "    # push_to_hub=True,\n",
        "    hub_private_repo=False # default is public (False)\n",
        ")"
      ]
    },
    {
      "cell_type": "code",
      "execution_count": 64,
      "metadata": {
        "colab": {
          "base_uri": "https://localhost:8080/"
        },
        "id": "XPEUg_uyUmrQ",
        "outputId": "4960bada-86a5-4fed-cef0-5d195676dd8d"
      },
      "outputs": [
        {
          "data": {
            "text/plain": [
              "0.0001"
            ]
          },
          "execution_count": 64,
          "metadata": {},
          "output_type": "execute_result"
        }
      ],
      "source": [
        "1e-4"
      ]
    },
    {
      "cell_type": "code",
      "execution_count": 65,
      "metadata": {
        "collapsed": true,
        "id": "q66j7-zuavdu"
      },
      "outputs": [],
      "source": [
        "# training_args"
      ]
    },
    {
      "cell_type": "markdown",
      "metadata": {
        "id": "JWGiIDXobQcV"
      },
      "source": [
        "### Setting up an instance of `Trainer`"
      ]
    },
    {
      "cell_type": "code",
      "execution_count": 66,
      "metadata": {
        "colab": {
          "base_uri": "https://localhost:8080/"
        },
        "id": "sQxzE6W-a7K9",
        "outputId": "27f2231e-6aa7-4b55-ead4-1e261f3a65dd"
      },
      "outputs": [
        {
          "data": {
            "text/plain": [
              "Dataset({\n",
              "    features: ['text', 'label', 'input_ids', 'attention_mask'],\n",
              "    num_rows: 200\n",
              "})"
            ]
          },
          "execution_count": 66,
          "metadata": {},
          "output_type": "execute_result"
        }
      ],
      "source": [
        "tokenized_dataset['train']"
      ]
    },
    {
      "cell_type": "code",
      "execution_count": 67,
      "metadata": {
        "id": "bIqyyHH9lq3I"
      },
      "outputs": [],
      "source": [
        "import evaluate\n",
        "import numpy as np\n",
        "from typing import Tuple\n",
        "\n",
        "accuracy_metric = evaluate.load(\"accuracy\")\n",
        "\n",
        "def compute_accuracy(predictions_and_labels:Tuple[np.array, np.array]):\n",
        "  \"\"\"\n",
        "  Computes the accuracy by comparing the predictions and the labels.\n",
        "  \"\"\"\n",
        "  predictions, labels = predictions_and_labels\n",
        "\n",
        "  if len(predictions.shape) >=2:\n",
        "    predictions = np.argmax(predictions, axis=1)\n",
        "\n",
        "  return accuracy_metric.compute(predictions=predictions, references=labels)"
      ]
    },
    {
      "cell_type": "code",
      "execution_count": 68,
      "metadata": {
        "colab": {
          "base_uri": "https://localhost:8080/"
        },
        "id": "1jbmhab6dfkr",
        "outputId": "43d764e2-3011-400d-cf0c-33a4d95bea9d"
      },
      "outputs": [
        {
          "data": {
            "text/plain": [
              "<transformers.trainer.Trainer at 0x7d71b8449ed0>"
            ]
          },
          "execution_count": 68,
          "metadata": {},
          "output_type": "execute_result"
        }
      ],
      "source": [
        "from transformers import Trainer\n",
        "\n",
        "# Setup Trainer instance\n",
        "trainer = Trainer(\n",
        "    model=model,\n",
        "    args=training_args,\n",
        "    train_dataset=tokenized_dataset['train'],\n",
        "    eval_dataset=tokenized_dataset['test'],\n",
        "    processing_class=tokenizer, # `processing_class` instead of `tokenizer`\n",
        "    compute_metrics=compute_accuracy\n",
        ")\n",
        "\n",
        "trainer"
      ]
    },
    {
      "cell_type": "markdown",
      "metadata": {
        "id": "vOixIP3vgjKP"
      },
      "source": [
        "### Train the model by calling `Trainer.train()`"
      ]
    },
    {
      "cell_type": "code",
      "execution_count": 69,
      "metadata": {
        "colab": {
          "base_uri": "https://localhost:8080/"
        },
        "id": "FsWUKLrdltB7",
        "outputId": "2568ffe1-ae23-48f6-81f5-f5e84546cd82"
      },
      "outputs": [
        {
          "data": {
            "text/plain": [
              "array([1])"
            ]
          },
          "execution_count": 69,
          "metadata": {},
          "output_type": "execute_result"
        }
      ],
      "source": [
        "input_predictions = np.array([[-1.216908, 1.2238812]])\n",
        "input_references = np.array([0])\n",
        "\n",
        "if len(input_predictions.shape) >= 2:\n",
        "  input_predictions = np.argmax(input_predictions, axis=1)\n",
        "\n",
        "input_predictions"
      ]
    },
    {
      "cell_type": "code",
      "execution_count": 70,
      "metadata": {
        "colab": {
          "base_uri": "https://localhost:8080/"
        },
        "id": "N1fkG3I5mAwU",
        "outputId": "62b1a67b-8cac-4d85-9e6c-6c6bf27a2417"
      },
      "outputs": [
        {
          "data": {
            "text/plain": [
              "1"
            ]
          },
          "execution_count": 70,
          "metadata": {},
          "output_type": "execute_result"
        }
      ],
      "source": [
        "len(input_predictions.shape)"
      ]
    },
    {
      "cell_type": "code",
      "execution_count": 71,
      "metadata": {
        "colab": {
          "base_uri": "https://localhost:8080/"
        },
        "id": "5Z29zwZZnEkT",
        "outputId": "7b7a72f3-ea08-40cc-9347-d3719cd7c48b"
      },
      "outputs": [
        {
          "data": {
            "text/plain": [
              "{'accuracy': 0.0}"
            ]
          },
          "execution_count": 71,
          "metadata": {},
          "output_type": "execute_result"
        }
      ],
      "source": [
        "compute_accuracy(predictions_and_labels=(input_predictions, input_references))"
      ]
    },
    {
      "cell_type": "code",
      "execution_count": 72,
      "metadata": {
        "colab": {
          "base_uri": "https://localhost:8080/",
          "height": 389
        },
        "id": "Ea-94uG9euOP",
        "outputId": "b24de59d-85d2-4802-e985-d015368c5f87"
      },
      "outputs": [
        {
          "data": {
            "text/html": [
              "\n",
              "    <div>\n",
              "      \n",
              "      <progress value='70' max='70' style='width:300px; height:20px; vertical-align: middle;'></progress>\n",
              "      [70/70 01:34, Epoch 10/10]\n",
              "    </div>\n",
              "    <table border=\"1\" class=\"dataframe\">\n",
              "  <thead>\n",
              " <tr style=\"text-align: left;\">\n",
              "      <th>Epoch</th>\n",
              "      <th>Training Loss</th>\n",
              "      <th>Validation Loss</th>\n",
              "      <th>Accuracy</th>\n",
              "    </tr>\n",
              "  </thead>\n",
              "  <tbody>\n",
              "    <tr>\n",
              "      <td>1</td>\n",
              "      <td>0.447700</td>\n",
              "      <td>0.082216</td>\n",
              "      <td>1.000000</td>\n",
              "    </tr>\n",
              "    <tr>\n",
              "      <td>2</td>\n",
              "      <td>0.035700</td>\n",
              "      <td>0.007090</td>\n",
              "      <td>1.000000</td>\n",
              "    </tr>\n",
              "    <tr>\n",
              "      <td>3</td>\n",
              "      <td>0.005100</td>\n",
              "      <td>0.002339</td>\n",
              "      <td>1.000000</td>\n",
              "    </tr>\n",
              "    <tr>\n",
              "      <td>4</td>\n",
              "      <td>0.001900</td>\n",
              "      <td>0.001246</td>\n",
              "      <td>1.000000</td>\n",
              "    </tr>\n",
              "    <tr>\n",
              "      <td>5</td>\n",
              "      <td>0.001200</td>\n",
              "      <td>0.000868</td>\n",
              "      <td>1.000000</td>\n",
              "    </tr>\n",
              "    <tr>\n",
              "      <td>6</td>\n",
              "      <td>0.001000</td>\n",
              "      <td>0.000701</td>\n",
              "      <td>1.000000</td>\n",
              "    </tr>\n",
              "    <tr>\n",
              "      <td>7</td>\n",
              "      <td>0.000800</td>\n",
              "      <td>0.000613</td>\n",
              "      <td>1.000000</td>\n",
              "    </tr>\n",
              "    <tr>\n",
              "      <td>8</td>\n",
              "      <td>0.000700</td>\n",
              "      <td>0.000567</td>\n",
              "      <td>1.000000</td>\n",
              "    </tr>\n",
              "    <tr>\n",
              "      <td>9</td>\n",
              "      <td>0.000700</td>\n",
              "      <td>0.000543</td>\n",
              "      <td>1.000000</td>\n",
              "    </tr>\n",
              "    <tr>\n",
              "      <td>10</td>\n",
              "      <td>0.000700</td>\n",
              "      <td>0.000535</td>\n",
              "      <td>1.000000</td>\n",
              "    </tr>\n",
              "  </tbody>\n",
              "</table><p>"
            ],
            "text/plain": [
              "<IPython.core.display.HTML object>"
            ]
          },
          "metadata": {},
          "output_type": "display_data"
        }
      ],
      "source": [
        "results = trainer.train()"
      ]
    },
    {
      "cell_type": "code",
      "execution_count": 73,
      "metadata": {
        "id": "x9s45Xi9w2Rf"
      },
      "outputs": [],
      "source": [
        "# results.metrics.items()"
      ]
    },
    {
      "cell_type": "code",
      "execution_count": 74,
      "metadata": {
        "colab": {
          "base_uri": "https://localhost:8080/"
        },
        "id": "J3Vu66jHoVss",
        "outputId": "b3832bec-ceb1-4523-e746-71cb26aa03c7"
      },
      "outputs": [
        {
          "data": {
            "text/plain": [
              "{'train_runtime': 95.7549,\n",
              " 'train_samples_per_second': 20.887,\n",
              " 'train_steps_per_second': 0.731,\n",
              " 'total_flos': 18110777160000.0,\n",
              " 'train_loss': 0.049537378256874424,\n",
              " 'epoch': 10.0}"
            ]
          },
          "execution_count": 74,
          "metadata": {},
          "output_type": "execute_result"
        }
      ],
      "source": [
        "results.metrics"
      ]
    },
    {
      "cell_type": "code",
      "execution_count": 75,
      "metadata": {
        "colab": {
          "base_uri": "https://localhost:8080/"
        },
        "id": "yIpXPOlah1q0",
        "outputId": "a51f2434-8507-4834-b29c-57790b90c67e"
      },
      "outputs": [
        {
          "name": "stdout",
          "output_type": "stream",
          "text": [
            "train_runtime:95.7549\n",
            "train_samples_per_second:20.887\n",
            "train_steps_per_second:0.731\n",
            "total_flos:18110777160000.0\n",
            "train_loss:0.049537378256874424\n",
            "epoch:10.0\n"
          ]
        }
      ],
      "source": [
        "# Inspect training metrics\n",
        "for key, value in results.metrics.items():\n",
        "  print(f\"{key}:{value}\")"
      ]
    },
    {
      "cell_type": "markdown",
      "metadata": {
        "id": "hy0wRcIqxcqd"
      },
      "source": [
        "### Save the model for later use\n"
      ]
    },
    {
      "cell_type": "code",
      "execution_count": 76,
      "metadata": {
        "colab": {
          "base_uri": "https://localhost:8080/"
        },
        "id": "w_ObhDUnxZ8c",
        "outputId": "766c1a46-47a8-479f-c898-7c5f4c46b129"
      },
      "outputs": [
        {
          "name": "stdout",
          "output_type": "stream",
          "text": [
            "Saving model to models/hg_tutorial_food_not_food_text_classifier_distilbert_base_uncased\n"
          ]
        }
      ],
      "source": [
        "# Save model\n",
        "print(f\"Saving model to {model_save_dir}\")\n",
        "trainer.save_model(output_dir=model_save_dir)"
      ]
    },
    {
      "cell_type": "code",
      "execution_count": 77,
      "metadata": {
        "colab": {
          "base_uri": "https://localhost:8080/"
        },
        "id": "aK-6A2IwyTea",
        "outputId": "35bfcdf3-4fcc-4931-d359-5b1207895299"
      },
      "outputs": [
        {
          "data": {
            "text/plain": [
              "PosixPath('models/hg_tutorial_food_not_food_text_classifier_distilbert_base_uncased')"
            ]
          },
          "execution_count": 77,
          "metadata": {},
          "output_type": "execute_result"
        }
      ],
      "source": [
        "model_save_dir"
      ]
    },
    {
      "cell_type": "markdown",
      "metadata": {
        "id": "e8J8LT_B2ljB"
      },
      "source": [
        "### Inspecting the model training metrics"
      ]
    },
    {
      "cell_type": "code",
      "execution_count": 78,
      "metadata": {
        "colab": {
          "base_uri": "https://localhost:8080/"
        },
        "id": "ceI0i4e2yoGr",
        "outputId": "383d8c72-6a23-49ea-c116-6c6716c99335"
      },
      "outputs": [
        {
          "data": {
            "text/plain": [
              "[{'loss': 0.4477,\n",
              "  'grad_norm': 1.3999050855636597,\n",
              "  'learning_rate': 9.142857142857143e-05,\n",
              "  'epoch': 1.0,\n",
              "  'step': 7},\n",
              " {'eval_loss': 0.08221620321273804,\n",
              "  'eval_accuracy': 1.0,\n",
              "  'eval_runtime': 0.0491,\n",
              "  'eval_samples_per_second': 1018.802,\n",
              "  'eval_steps_per_second': 40.752,\n",
              "  'epoch': 1.0,\n",
              "  'step': 7},\n",
              " {'loss': 0.0357,\n",
              "  'grad_norm': 0.16147418320178986,\n",
              "  'learning_rate': 8.142857142857143e-05,\n",
              "  'epoch': 2.0,\n",
              "  'step': 14}]"
            ]
          },
          "execution_count": 78,
          "metadata": {},
          "output_type": "execute_result"
        }
      ],
      "source": [
        "# Get triner history\n",
        "trainer_history_all = trainer.state.log_history\n",
        "trainer_history_metrics = trainer_history_all[:-1]\n",
        "trainer_history_training_time = trainer_history_all[-1]\n",
        "\n",
        "# View the first 3\n",
        "trainer_history_metrics[:3]"
      ]
    },
    {
      "cell_type": "code",
      "execution_count": 79,
      "metadata": {
        "colab": {
          "base_uri": "https://localhost:8080/"
        },
        "id": "rbcCMbQhyvnc",
        "outputId": "f0644b07-3437-4358-fd30-96b9cc6a67d0"
      },
      "outputs": [
        {
          "data": {
            "text/plain": [
              "{'train_runtime': 95.7549,\n",
              " 'train_samples_per_second': 20.887,\n",
              " 'train_steps_per_second': 0.731,\n",
              " 'total_flos': 18110777160000.0,\n",
              " 'train_loss': 0.049537378256874424,\n",
              " 'epoch': 10.0,\n",
              " 'step': 70}"
            ]
          },
          "execution_count": 79,
          "metadata": {},
          "output_type": "execute_result"
        }
      ],
      "source": [
        "trainer_history_training_time = trainer_history_all[-1]\n",
        "trainer_history_training_time"
      ]
    },
    {
      "cell_type": "code",
      "execution_count": 80,
      "metadata": {
        "colab": {
          "base_uri": "https://localhost:8080/"
        },
        "id": "hBiR35Lq3Is_",
        "outputId": "6945b86a-d592-4d16-bdc1-aebca2aee88a"
      },
      "outputs": [
        {
          "name": "stdout",
          "output_type": "stream",
          "text": [
            "First 2 items in training set:\n",
            "[{'epoch': 1.0,\n",
            "  'grad_norm': 1.3999050855636597,\n",
            "  'learning_rate': 9.142857142857143e-05,\n",
            "  'loss': 0.4477,\n",
            "  'step': 7},\n",
            " {'epoch': 2.0,\n",
            "  'grad_norm': 0.16147418320178986,\n",
            "  'learning_rate': 8.142857142857143e-05,\n",
            "  'loss': 0.0357,\n",
            "  'step': 14}]\n",
            "\n",
            "First 2 items in eval set:\n",
            "[{'epoch': 1.0,\n",
            "  'eval_accuracy': 1.0,\n",
            "  'eval_loss': 0.08221620321273804,\n",
            "  'eval_runtime': 0.0491,\n",
            "  'eval_samples_per_second': 1018.802,\n",
            "  'eval_steps_per_second': 40.752,\n",
            "  'step': 7},\n",
            " {'epoch': 2.0,\n",
            "  'eval_accuracy': 1.0,\n",
            "  'eval_loss': 0.007090444676578045,\n",
            "  'eval_runtime': 0.1795,\n",
            "  'eval_samples_per_second': 278.528,\n",
            "  'eval_steps_per_second': 11.141,\n",
            "  'step': 14}]\n"
          ]
        }
      ],
      "source": [
        "import pprint\n",
        "\n",
        "# Extract eval and training metrics\n",
        "trainer_history_training_set = []\n",
        "trainer_history_eval_set = []\n",
        "\n",
        "# Loop through the metrics\n",
        "for item in trainer_history_metrics:\n",
        "  item_keys = list(item.keys())\n",
        "  if any(\"eval\" in item for item in item_keys):\n",
        "    trainer_history_eval_set.append(item)\n",
        "  else:\n",
        "    trainer_history_training_set.append(item)\n",
        "\n",
        "# Show the first item for each\n",
        "print(f\"First 2 items in training set:\")\n",
        "pprint.pprint(trainer_history_training_set[:2])\n",
        "\n",
        "print(\"\\nFirst 2 items in eval set:\")\n",
        "pprint.pprint(trainer_history_eval_set[:2])"
      ]
    },
    {
      "cell_type": "markdown",
      "metadata": {
        "id": "U2OPNOPa8meN"
      },
      "source": [
        "### Taking a look at the loss curves\n",
        "Ideally, loss curves will trend downwards."
      ]
    },
    {
      "cell_type": "code",
      "execution_count": 81,
      "metadata": {
        "colab": {
          "base_uri": "https://localhost:8080/",
          "height": 363
        },
        "id": "ZqWCsKwX3PfU",
        "outputId": "05e709bd-12fa-4a48-b55a-a0743e44c0e2"
      },
      "outputs": [
        {
          "data": {
            "application/vnd.google.colaboratory.intrinsic+json": {
              "summary": "{\n  \"name\": \"trainer_history_train_df\",\n  \"rows\": 10,\n  \"fields\": [\n    {\n      \"column\": \"loss\",\n      \"properties\": {\n        \"dtype\": \"number\",\n        \"std\": 0.14031390403900346,\n        \"min\": 0.0007,\n        \"max\": 0.4477,\n        \"num_unique_values\": 8,\n        \"samples\": [\n          0.0357,\n          0.001,\n          0.4477\n        ],\n        \"semantic_type\": \"\",\n        \"description\": \"\"\n      }\n    },\n    {\n      \"column\": \"grad_norm\",\n      \"properties\": {\n        \"dtype\": \"number\",\n        \"std\": 0.4340211627868809,\n        \"min\": 0.011279290542006493,\n        \"max\": 1.3999050855636597,\n        \"num_unique_values\": 10,\n        \"samples\": [\n          0.014035044237971306,\n          0.16147418320178986,\n          0.017188331112265587\n        ],\n        \"semantic_type\": \"\",\n        \"description\": \"\"\n      }\n    },\n    {\n      \"column\": \"learning_rate\",\n      \"properties\": {\n        \"dtype\": \"number\",\n        \"std\": 3.0276503540974917e-05,\n        \"min\": 1.4285714285714286e-06,\n        \"max\": 9.142857142857143e-05,\n        \"num_unique_values\": 10,\n        \"samples\": [\n          1.1428571428571429e-05,\n          8.142857142857143e-05,\n          4.1428571428571437e-05\n        ],\n        \"semantic_type\": \"\",\n        \"description\": \"\"\n      }\n    },\n    {\n      \"column\": \"epoch\",\n      \"properties\": {\n        \"dtype\": \"number\",\n        \"std\": 3.0276503540974917,\n        \"min\": 1.0,\n        \"max\": 10.0,\n        \"num_unique_values\": 10,\n        \"samples\": [\n          9.0,\n          2.0,\n          6.0\n        ],\n        \"semantic_type\": \"\",\n        \"description\": \"\"\n      }\n    },\n    {\n      \"column\": \"step\",\n      \"properties\": {\n        \"dtype\": \"number\",\n        \"std\": 21,\n        \"min\": 7,\n        \"max\": 70,\n        \"num_unique_values\": 10,\n        \"samples\": [\n          63,\n          14,\n          42\n        ],\n        \"semantic_type\": \"\",\n        \"description\": \"\"\n      }\n    }\n  ]\n}",
              "type": "dataframe",
              "variable_name": "trainer_history_train_df"
            },
            "text/html": [
              "\n",
              "  <div id=\"df-5ea6f03b-fe98-488f-9a3d-0278c6ecf213\" class=\"colab-df-container\">\n",
              "    <div>\n",
              "<style scoped>\n",
              "    .dataframe tbody tr th:only-of-type {\n",
              "        vertical-align: middle;\n",
              "    }\n",
              "\n",
              "    .dataframe tbody tr th {\n",
              "        vertical-align: top;\n",
              "    }\n",
              "\n",
              "    .dataframe thead th {\n",
              "        text-align: right;\n",
              "    }\n",
              "</style>\n",
              "<table border=\"1\" class=\"dataframe\">\n",
              "  <thead>\n",
              "    <tr style=\"text-align: right;\">\n",
              "      <th></th>\n",
              "      <th>loss</th>\n",
              "      <th>grad_norm</th>\n",
              "      <th>learning_rate</th>\n",
              "      <th>epoch</th>\n",
              "      <th>step</th>\n",
              "    </tr>\n",
              "  </thead>\n",
              "  <tbody>\n",
              "    <tr>\n",
              "      <th>0</th>\n",
              "      <td>0.4477</td>\n",
              "      <td>1.399905</td>\n",
              "      <td>0.000091</td>\n",
              "      <td>1.0</td>\n",
              "      <td>7</td>\n",
              "    </tr>\n",
              "    <tr>\n",
              "      <th>1</th>\n",
              "      <td>0.0357</td>\n",
              "      <td>0.161474</td>\n",
              "      <td>0.000081</td>\n",
              "      <td>2.0</td>\n",
              "      <td>14</td>\n",
              "    </tr>\n",
              "    <tr>\n",
              "      <th>2</th>\n",
              "      <td>0.0051</td>\n",
              "      <td>0.047869</td>\n",
              "      <td>0.000071</td>\n",
              "      <td>3.0</td>\n",
              "      <td>21</td>\n",
              "    </tr>\n",
              "    <tr>\n",
              "      <th>3</th>\n",
              "      <td>0.0019</td>\n",
              "      <td>0.024788</td>\n",
              "      <td>0.000061</td>\n",
              "      <td>4.0</td>\n",
              "      <td>28</td>\n",
              "    </tr>\n",
              "    <tr>\n",
              "      <th>4</th>\n",
              "      <td>0.0012</td>\n",
              "      <td>0.015163</td>\n",
              "      <td>0.000051</td>\n",
              "      <td>5.0</td>\n",
              "      <td>35</td>\n",
              "    </tr>\n",
              "    <tr>\n",
              "      <th>5</th>\n",
              "      <td>0.0010</td>\n",
              "      <td>0.017188</td>\n",
              "      <td>0.000041</td>\n",
              "      <td>6.0</td>\n",
              "      <td>42</td>\n",
              "    </tr>\n",
              "    <tr>\n",
              "      <th>6</th>\n",
              "      <td>0.0008</td>\n",
              "      <td>0.012810</td>\n",
              "      <td>0.000031</td>\n",
              "      <td>7.0</td>\n",
              "      <td>49</td>\n",
              "    </tr>\n",
              "    <tr>\n",
              "      <th>7</th>\n",
              "      <td>0.0007</td>\n",
              "      <td>0.011279</td>\n",
              "      <td>0.000021</td>\n",
              "      <td>8.0</td>\n",
              "      <td>56</td>\n",
              "    </tr>\n",
              "    <tr>\n",
              "      <th>8</th>\n",
              "      <td>0.0007</td>\n",
              "      <td>0.014035</td>\n",
              "      <td>0.000011</td>\n",
              "      <td>9.0</td>\n",
              "      <td>63</td>\n",
              "    </tr>\n",
              "    <tr>\n",
              "      <th>9</th>\n",
              "      <td>0.0007</td>\n",
              "      <td>0.011565</td>\n",
              "      <td>0.000001</td>\n",
              "      <td>10.0</td>\n",
              "      <td>70</td>\n",
              "    </tr>\n",
              "  </tbody>\n",
              "</table>\n",
              "</div>\n",
              "    <div class=\"colab-df-buttons\">\n",
              "\n",
              "  <div class=\"colab-df-container\">\n",
              "    <button class=\"colab-df-convert\" onclick=\"convertToInteractive('df-5ea6f03b-fe98-488f-9a3d-0278c6ecf213')\"\n",
              "            title=\"Convert this dataframe to an interactive table.\"\n",
              "            style=\"display:none;\">\n",
              "\n",
              "  <svg xmlns=\"http://www.w3.org/2000/svg\" height=\"24px\" viewBox=\"0 -960 960 960\">\n",
              "    <path d=\"M120-120v-720h720v720H120Zm60-500h600v-160H180v160Zm220 220h160v-160H400v160Zm0 220h160v-160H400v160ZM180-400h160v-160H180v160Zm440 0h160v-160H620v160ZM180-180h160v-160H180v160Zm440 0h160v-160H620v160Z\"/>\n",
              "  </svg>\n",
              "    </button>\n",
              "\n",
              "  <style>\n",
              "    .colab-df-container {\n",
              "      display:flex;\n",
              "      gap: 12px;\n",
              "    }\n",
              "\n",
              "    .colab-df-convert {\n",
              "      background-color: #E8F0FE;\n",
              "      border: none;\n",
              "      border-radius: 50%;\n",
              "      cursor: pointer;\n",
              "      display: none;\n",
              "      fill: #1967D2;\n",
              "      height: 32px;\n",
              "      padding: 0 0 0 0;\n",
              "      width: 32px;\n",
              "    }\n",
              "\n",
              "    .colab-df-convert:hover {\n",
              "      background-color: #E2EBFA;\n",
              "      box-shadow: 0px 1px 2px rgba(60, 64, 67, 0.3), 0px 1px 3px 1px rgba(60, 64, 67, 0.15);\n",
              "      fill: #174EA6;\n",
              "    }\n",
              "\n",
              "    .colab-df-buttons div {\n",
              "      margin-bottom: 4px;\n",
              "    }\n",
              "\n",
              "    [theme=dark] .colab-df-convert {\n",
              "      background-color: #3B4455;\n",
              "      fill: #D2E3FC;\n",
              "    }\n",
              "\n",
              "    [theme=dark] .colab-df-convert:hover {\n",
              "      background-color: #434B5C;\n",
              "      box-shadow: 0px 1px 3px 1px rgba(0, 0, 0, 0.15);\n",
              "      filter: drop-shadow(0px 1px 2px rgba(0, 0, 0, 0.3));\n",
              "      fill: #FFFFFF;\n",
              "    }\n",
              "  </style>\n",
              "\n",
              "    <script>\n",
              "      const buttonEl =\n",
              "        document.querySelector('#df-5ea6f03b-fe98-488f-9a3d-0278c6ecf213 button.colab-df-convert');\n",
              "      buttonEl.style.display =\n",
              "        google.colab.kernel.accessAllowed ? 'block' : 'none';\n",
              "\n",
              "      async function convertToInteractive(key) {\n",
              "        const element = document.querySelector('#df-5ea6f03b-fe98-488f-9a3d-0278c6ecf213');\n",
              "        const dataTable =\n",
              "          await google.colab.kernel.invokeFunction('convertToInteractive',\n",
              "                                                    [key], {});\n",
              "        if (!dataTable) return;\n",
              "\n",
              "        const docLinkHtml = 'Like what you see? Visit the ' +\n",
              "          '<a target=\"_blank\" href=https://colab.research.google.com/notebooks/data_table.ipynb>data table notebook</a>'\n",
              "          + ' to learn more about interactive tables.';\n",
              "        element.innerHTML = '';\n",
              "        dataTable['output_type'] = 'display_data';\n",
              "        await google.colab.output.renderOutput(dataTable, element);\n",
              "        const docLink = document.createElement('div');\n",
              "        docLink.innerHTML = docLinkHtml;\n",
              "        element.appendChild(docLink);\n",
              "      }\n",
              "    </script>\n",
              "  </div>\n",
              "\n",
              "\n",
              "    <div id=\"df-60078d51-989d-4321-8d15-ec5515817fa4\">\n",
              "      <button class=\"colab-df-quickchart\" onclick=\"quickchart('df-60078d51-989d-4321-8d15-ec5515817fa4')\"\n",
              "                title=\"Suggest charts\"\n",
              "                style=\"display:none;\">\n",
              "\n",
              "<svg xmlns=\"http://www.w3.org/2000/svg\" height=\"24px\"viewBox=\"0 0 24 24\"\n",
              "     width=\"24px\">\n",
              "    <g>\n",
              "        <path d=\"M19 3H5c-1.1 0-2 .9-2 2v14c0 1.1.9 2 2 2h14c1.1 0 2-.9 2-2V5c0-1.1-.9-2-2-2zM9 17H7v-7h2v7zm4 0h-2V7h2v10zm4 0h-2v-4h2v4z\"/>\n",
              "    </g>\n",
              "</svg>\n",
              "      </button>\n",
              "\n",
              "<style>\n",
              "  .colab-df-quickchart {\n",
              "      --bg-color: #E8F0FE;\n",
              "      --fill-color: #1967D2;\n",
              "      --hover-bg-color: #E2EBFA;\n",
              "      --hover-fill-color: #174EA6;\n",
              "      --disabled-fill-color: #AAA;\n",
              "      --disabled-bg-color: #DDD;\n",
              "  }\n",
              "\n",
              "  [theme=dark] .colab-df-quickchart {\n",
              "      --bg-color: #3B4455;\n",
              "      --fill-color: #D2E3FC;\n",
              "      --hover-bg-color: #434B5C;\n",
              "      --hover-fill-color: #FFFFFF;\n",
              "      --disabled-bg-color: #3B4455;\n",
              "      --disabled-fill-color: #666;\n",
              "  }\n",
              "\n",
              "  .colab-df-quickchart {\n",
              "    background-color: var(--bg-color);\n",
              "    border: none;\n",
              "    border-radius: 50%;\n",
              "    cursor: pointer;\n",
              "    display: none;\n",
              "    fill: var(--fill-color);\n",
              "    height: 32px;\n",
              "    padding: 0;\n",
              "    width: 32px;\n",
              "  }\n",
              "\n",
              "  .colab-df-quickchart:hover {\n",
              "    background-color: var(--hover-bg-color);\n",
              "    box-shadow: 0 1px 2px rgba(60, 64, 67, 0.3), 0 1px 3px 1px rgba(60, 64, 67, 0.15);\n",
              "    fill: var(--button-hover-fill-color);\n",
              "  }\n",
              "\n",
              "  .colab-df-quickchart-complete:disabled,\n",
              "  .colab-df-quickchart-complete:disabled:hover {\n",
              "    background-color: var(--disabled-bg-color);\n",
              "    fill: var(--disabled-fill-color);\n",
              "    box-shadow: none;\n",
              "  }\n",
              "\n",
              "  .colab-df-spinner {\n",
              "    border: 2px solid var(--fill-color);\n",
              "    border-color: transparent;\n",
              "    border-bottom-color: var(--fill-color);\n",
              "    animation:\n",
              "      spin 1s steps(1) infinite;\n",
              "  }\n",
              "\n",
              "  @keyframes spin {\n",
              "    0% {\n",
              "      border-color: transparent;\n",
              "      border-bottom-color: var(--fill-color);\n",
              "      border-left-color: var(--fill-color);\n",
              "    }\n",
              "    20% {\n",
              "      border-color: transparent;\n",
              "      border-left-color: var(--fill-color);\n",
              "      border-top-color: var(--fill-color);\n",
              "    }\n",
              "    30% {\n",
              "      border-color: transparent;\n",
              "      border-left-color: var(--fill-color);\n",
              "      border-top-color: var(--fill-color);\n",
              "      border-right-color: var(--fill-color);\n",
              "    }\n",
              "    40% {\n",
              "      border-color: transparent;\n",
              "      border-right-color: var(--fill-color);\n",
              "      border-top-color: var(--fill-color);\n",
              "    }\n",
              "    60% {\n",
              "      border-color: transparent;\n",
              "      border-right-color: var(--fill-color);\n",
              "    }\n",
              "    80% {\n",
              "      border-color: transparent;\n",
              "      border-right-color: var(--fill-color);\n",
              "      border-bottom-color: var(--fill-color);\n",
              "    }\n",
              "    90% {\n",
              "      border-color: transparent;\n",
              "      border-bottom-color: var(--fill-color);\n",
              "    }\n",
              "  }\n",
              "</style>\n",
              "\n",
              "      <script>\n",
              "        async function quickchart(key) {\n",
              "          const quickchartButtonEl =\n",
              "            document.querySelector('#' + key + ' button');\n",
              "          quickchartButtonEl.disabled = true;  // To prevent multiple clicks.\n",
              "          quickchartButtonEl.classList.add('colab-df-spinner');\n",
              "          try {\n",
              "            const charts = await google.colab.kernel.invokeFunction(\n",
              "                'suggestCharts', [key], {});\n",
              "          } catch (error) {\n",
              "            console.error('Error during call to suggestCharts:', error);\n",
              "          }\n",
              "          quickchartButtonEl.classList.remove('colab-df-spinner');\n",
              "          quickchartButtonEl.classList.add('colab-df-quickchart-complete');\n",
              "        }\n",
              "        (() => {\n",
              "          let quickchartButtonEl =\n",
              "            document.querySelector('#df-60078d51-989d-4321-8d15-ec5515817fa4 button');\n",
              "          quickchartButtonEl.style.display =\n",
              "            google.colab.kernel.accessAllowed ? 'block' : 'none';\n",
              "        })();\n",
              "      </script>\n",
              "    </div>\n",
              "\n",
              "  <div id=\"id_ef3442bd-64c0-43b4-b4b3-c7cd1710b6f9\">\n",
              "    <style>\n",
              "      .colab-df-generate {\n",
              "        background-color: #E8F0FE;\n",
              "        border: none;\n",
              "        border-radius: 50%;\n",
              "        cursor: pointer;\n",
              "        display: none;\n",
              "        fill: #1967D2;\n",
              "        height: 32px;\n",
              "        padding: 0 0 0 0;\n",
              "        width: 32px;\n",
              "      }\n",
              "\n",
              "      .colab-df-generate:hover {\n",
              "        background-color: #E2EBFA;\n",
              "        box-shadow: 0px 1px 2px rgba(60, 64, 67, 0.3), 0px 1px 3px 1px rgba(60, 64, 67, 0.15);\n",
              "        fill: #174EA6;\n",
              "      }\n",
              "\n",
              "      [theme=dark] .colab-df-generate {\n",
              "        background-color: #3B4455;\n",
              "        fill: #D2E3FC;\n",
              "      }\n",
              "\n",
              "      [theme=dark] .colab-df-generate:hover {\n",
              "        background-color: #434B5C;\n",
              "        box-shadow: 0px 1px 3px 1px rgba(0, 0, 0, 0.15);\n",
              "        filter: drop-shadow(0px 1px 2px rgba(0, 0, 0, 0.3));\n",
              "        fill: #FFFFFF;\n",
              "      }\n",
              "    </style>\n",
              "    <button class=\"colab-df-generate\" onclick=\"generateWithVariable('trainer_history_train_df')\"\n",
              "            title=\"Generate code using this dataframe.\"\n",
              "            style=\"display:none;\">\n",
              "\n",
              "  <svg xmlns=\"http://www.w3.org/2000/svg\" height=\"24px\"viewBox=\"0 0 24 24\"\n",
              "       width=\"24px\">\n",
              "    <path d=\"M7,19H8.4L18.45,9,17,7.55,7,17.6ZM5,21V16.75L18.45,3.32a2,2,0,0,1,2.83,0l1.4,1.43a1.91,1.91,0,0,1,.58,1.4,1.91,1.91,0,0,1-.58,1.4L9.25,21ZM18.45,9,17,7.55Zm-12,3A5.31,5.31,0,0,0,4.9,8.1,5.31,5.31,0,0,0,1,6.5,5.31,5.31,0,0,0,4.9,4.9,5.31,5.31,0,0,0,6.5,1,5.31,5.31,0,0,0,8.1,4.9,5.31,5.31,0,0,0,12,6.5,5.46,5.46,0,0,0,6.5,12Z\"/>\n",
              "  </svg>\n",
              "    </button>\n",
              "    <script>\n",
              "      (() => {\n",
              "      const buttonEl =\n",
              "        document.querySelector('#id_ef3442bd-64c0-43b4-b4b3-c7cd1710b6f9 button.colab-df-generate');\n",
              "      buttonEl.style.display =\n",
              "        google.colab.kernel.accessAllowed ? 'block' : 'none';\n",
              "\n",
              "      buttonEl.onclick = () => {\n",
              "        google.colab.notebook.generateWithVariable('trainer_history_train_df');\n",
              "      }\n",
              "      })();\n",
              "    </script>\n",
              "  </div>\n",
              "\n",
              "    </div>\n",
              "  </div>\n"
            ],
            "text/plain": [
              "     loss  grad_norm  learning_rate  epoch  step\n",
              "0  0.4477   1.399905       0.000091    1.0     7\n",
              "1  0.0357   0.161474       0.000081    2.0    14\n",
              "2  0.0051   0.047869       0.000071    3.0    21\n",
              "3  0.0019   0.024788       0.000061    4.0    28\n",
              "4  0.0012   0.015163       0.000051    5.0    35\n",
              "5  0.0010   0.017188       0.000041    6.0    42\n",
              "6  0.0008   0.012810       0.000031    7.0    49\n",
              "7  0.0007   0.011279       0.000021    8.0    56\n",
              "8  0.0007   0.014035       0.000011    9.0    63\n",
              "9  0.0007   0.011565       0.000001   10.0    70"
            ]
          },
          "execution_count": 81,
          "metadata": {},
          "output_type": "execute_result"
        }
      ],
      "source": [
        "# Create a pandas DataFrame for the training and evaluation metrics\n",
        "import pandas as pd\n",
        "trainer_history_train_df = pd.DataFrame(trainer_history_training_set)\n",
        "trainer_history_eval_df = pd.DataFrame(trainer_history_eval_set)\n",
        "\n",
        "trainer_history_train_df"
      ]
    },
    {
      "cell_type": "code",
      "execution_count": 82,
      "metadata": {
        "colab": {
          "base_uri": "https://localhost:8080/",
          "height": 363
        },
        "id": "cInyDWL-9Yhs",
        "outputId": "00652330-76c3-4f74-b456-78789f67008a"
      },
      "outputs": [
        {
          "data": {
            "application/vnd.google.colaboratory.intrinsic+json": {
              "summary": "{\n  \"name\": \"trainer_history_eval_df\",\n  \"rows\": 10,\n  \"fields\": [\n    {\n      \"column\": \"eval_loss\",\n      \"properties\": {\n        \"dtype\": \"number\",\n        \"std\": 0.025568794746205305,\n        \"min\": 0.0005350123392418027,\n        \"max\": 0.08221620321273804,\n        \"num_unique_values\": 10,\n        \"samples\": [\n          0.0005429566372185946,\n          0.007090444676578045,\n          0.000701075594406575\n        ],\n        \"semantic_type\": \"\",\n        \"description\": \"\"\n      }\n    },\n    {\n      \"column\": \"eval_accuracy\",\n      \"properties\": {\n        \"dtype\": \"number\",\n        \"std\": 0.0,\n        \"min\": 1.0,\n        \"max\": 1.0,\n        \"num_unique_values\": 1,\n        \"samples\": [\n          1.0\n        ],\n        \"semantic_type\": \"\",\n        \"description\": \"\"\n      }\n    },\n    {\n      \"column\": \"eval_runtime\",\n      \"properties\": {\n        \"dtype\": \"number\",\n        \"std\": 0.04126868061859986,\n        \"min\": 0.0491,\n        \"max\": 0.1795,\n        \"num_unique_values\": 10,\n        \"samples\": [\n          0.0523\n        ],\n        \"semantic_type\": \"\",\n        \"description\": \"\"\n      }\n    },\n    {\n      \"column\": \"eval_samples_per_second\",\n      \"properties\": {\n        \"dtype\": \"number\",\n        \"std\": 254.2925240507475,\n        \"min\": 278.528,\n        \"max\": 1018.802,\n        \"num_unique_values\": 10,\n        \"samples\": [\n          956.83\n        ],\n        \"semantic_type\": \"\",\n        \"description\": \"\"\n      }\n    },\n    {\n      \"column\": \"eval_steps_per_second\",\n      \"properties\": {\n        \"dtype\": \"number\",\n        \"std\": 10.171814469405152,\n        \"min\": 11.141,\n        \"max\": 40.752,\n        \"num_unique_values\": 10,\n        \"samples\": [\n          38.273\n        ],\n        \"semantic_type\": \"\",\n        \"description\": \"\"\n      }\n    },\n    {\n      \"column\": \"epoch\",\n      \"properties\": {\n        \"dtype\": \"number\",\n        \"std\": 3.0276503540974917,\n        \"min\": 1.0,\n        \"max\": 10.0,\n        \"num_unique_values\": 10,\n        \"samples\": [\n          9.0\n        ],\n        \"semantic_type\": \"\",\n        \"description\": \"\"\n      }\n    },\n    {\n      \"column\": \"step\",\n      \"properties\": {\n        \"dtype\": \"number\",\n        \"std\": 21,\n        \"min\": 7,\n        \"max\": 70,\n        \"num_unique_values\": 10,\n        \"samples\": [\n          63\n        ],\n        \"semantic_type\": \"\",\n        \"description\": \"\"\n      }\n    }\n  ]\n}",
              "type": "dataframe",
              "variable_name": "trainer_history_eval_df"
            },
            "text/html": [
              "\n",
              "  <div id=\"df-429e60dd-51a0-46c3-b16f-764703af5356\" class=\"colab-df-container\">\n",
              "    <div>\n",
              "<style scoped>\n",
              "    .dataframe tbody tr th:only-of-type {\n",
              "        vertical-align: middle;\n",
              "    }\n",
              "\n",
              "    .dataframe tbody tr th {\n",
              "        vertical-align: top;\n",
              "    }\n",
              "\n",
              "    .dataframe thead th {\n",
              "        text-align: right;\n",
              "    }\n",
              "</style>\n",
              "<table border=\"1\" class=\"dataframe\">\n",
              "  <thead>\n",
              "    <tr style=\"text-align: right;\">\n",
              "      <th></th>\n",
              "      <th>eval_loss</th>\n",
              "      <th>eval_accuracy</th>\n",
              "      <th>eval_runtime</th>\n",
              "      <th>eval_samples_per_second</th>\n",
              "      <th>eval_steps_per_second</th>\n",
              "      <th>epoch</th>\n",
              "      <th>step</th>\n",
              "    </tr>\n",
              "  </thead>\n",
              "  <tbody>\n",
              "    <tr>\n",
              "      <th>0</th>\n",
              "      <td>0.082216</td>\n",
              "      <td>1.0</td>\n",
              "      <td>0.0491</td>\n",
              "      <td>1018.802</td>\n",
              "      <td>40.752</td>\n",
              "      <td>1.0</td>\n",
              "      <td>7</td>\n",
              "    </tr>\n",
              "    <tr>\n",
              "      <th>1</th>\n",
              "      <td>0.007090</td>\n",
              "      <td>1.0</td>\n",
              "      <td>0.1795</td>\n",
              "      <td>278.528</td>\n",
              "      <td>11.141</td>\n",
              "      <td>2.0</td>\n",
              "      <td>14</td>\n",
              "    </tr>\n",
              "    <tr>\n",
              "      <th>2</th>\n",
              "      <td>0.002339</td>\n",
              "      <td>1.0</td>\n",
              "      <td>0.1037</td>\n",
              "      <td>482.208</td>\n",
              "      <td>19.288</td>\n",
              "      <td>3.0</td>\n",
              "      <td>21</td>\n",
              "    </tr>\n",
              "    <tr>\n",
              "      <th>3</th>\n",
              "      <td>0.001246</td>\n",
              "      <td>1.0</td>\n",
              "      <td>0.0495</td>\n",
              "      <td>1010.963</td>\n",
              "      <td>40.439</td>\n",
              "      <td>4.0</td>\n",
              "      <td>28</td>\n",
              "    </tr>\n",
              "    <tr>\n",
              "      <th>4</th>\n",
              "      <td>0.000868</td>\n",
              "      <td>1.0</td>\n",
              "      <td>0.0699</td>\n",
              "      <td>715.354</td>\n",
              "      <td>28.614</td>\n",
              "      <td>5.0</td>\n",
              "      <td>35</td>\n",
              "    </tr>\n",
              "    <tr>\n",
              "      <th>5</th>\n",
              "      <td>0.000701</td>\n",
              "      <td>1.0</td>\n",
              "      <td>0.0508</td>\n",
              "      <td>983.466</td>\n",
              "      <td>39.339</td>\n",
              "      <td>6.0</td>\n",
              "      <td>42</td>\n",
              "    </tr>\n",
              "    <tr>\n",
              "      <th>6</th>\n",
              "      <td>0.000613</td>\n",
              "      <td>1.0</td>\n",
              "      <td>0.0599</td>\n",
              "      <td>834.120</td>\n",
              "      <td>33.365</td>\n",
              "      <td>7.0</td>\n",
              "      <td>49</td>\n",
              "    </tr>\n",
              "    <tr>\n",
              "      <th>7</th>\n",
              "      <td>0.000567</td>\n",
              "      <td>1.0</td>\n",
              "      <td>0.0492</td>\n",
              "      <td>1016.806</td>\n",
              "      <td>40.672</td>\n",
              "      <td>8.0</td>\n",
              "      <td>56</td>\n",
              "    </tr>\n",
              "    <tr>\n",
              "      <th>8</th>\n",
              "      <td>0.000543</td>\n",
              "      <td>1.0</td>\n",
              "      <td>0.0523</td>\n",
              "      <td>956.830</td>\n",
              "      <td>38.273</td>\n",
              "      <td>9.0</td>\n",
              "      <td>63</td>\n",
              "    </tr>\n",
              "    <tr>\n",
              "      <th>9</th>\n",
              "      <td>0.000535</td>\n",
              "      <td>1.0</td>\n",
              "      <td>0.0569</td>\n",
              "      <td>878.572</td>\n",
              "      <td>35.143</td>\n",
              "      <td>10.0</td>\n",
              "      <td>70</td>\n",
              "    </tr>\n",
              "  </tbody>\n",
              "</table>\n",
              "</div>\n",
              "    <div class=\"colab-df-buttons\">\n",
              "\n",
              "  <div class=\"colab-df-container\">\n",
              "    <button class=\"colab-df-convert\" onclick=\"convertToInteractive('df-429e60dd-51a0-46c3-b16f-764703af5356')\"\n",
              "            title=\"Convert this dataframe to an interactive table.\"\n",
              "            style=\"display:none;\">\n",
              "\n",
              "  <svg xmlns=\"http://www.w3.org/2000/svg\" height=\"24px\" viewBox=\"0 -960 960 960\">\n",
              "    <path d=\"M120-120v-720h720v720H120Zm60-500h600v-160H180v160Zm220 220h160v-160H400v160Zm0 220h160v-160H400v160ZM180-400h160v-160H180v160Zm440 0h160v-160H620v160ZM180-180h160v-160H180v160Zm440 0h160v-160H620v160Z\"/>\n",
              "  </svg>\n",
              "    </button>\n",
              "\n",
              "  <style>\n",
              "    .colab-df-container {\n",
              "      display:flex;\n",
              "      gap: 12px;\n",
              "    }\n",
              "\n",
              "    .colab-df-convert {\n",
              "      background-color: #E8F0FE;\n",
              "      border: none;\n",
              "      border-radius: 50%;\n",
              "      cursor: pointer;\n",
              "      display: none;\n",
              "      fill: #1967D2;\n",
              "      height: 32px;\n",
              "      padding: 0 0 0 0;\n",
              "      width: 32px;\n",
              "    }\n",
              "\n",
              "    .colab-df-convert:hover {\n",
              "      background-color: #E2EBFA;\n",
              "      box-shadow: 0px 1px 2px rgba(60, 64, 67, 0.3), 0px 1px 3px 1px rgba(60, 64, 67, 0.15);\n",
              "      fill: #174EA6;\n",
              "    }\n",
              "\n",
              "    .colab-df-buttons div {\n",
              "      margin-bottom: 4px;\n",
              "    }\n",
              "\n",
              "    [theme=dark] .colab-df-convert {\n",
              "      background-color: #3B4455;\n",
              "      fill: #D2E3FC;\n",
              "    }\n",
              "\n",
              "    [theme=dark] .colab-df-convert:hover {\n",
              "      background-color: #434B5C;\n",
              "      box-shadow: 0px 1px 3px 1px rgba(0, 0, 0, 0.15);\n",
              "      filter: drop-shadow(0px 1px 2px rgba(0, 0, 0, 0.3));\n",
              "      fill: #FFFFFF;\n",
              "    }\n",
              "  </style>\n",
              "\n",
              "    <script>\n",
              "      const buttonEl =\n",
              "        document.querySelector('#df-429e60dd-51a0-46c3-b16f-764703af5356 button.colab-df-convert');\n",
              "      buttonEl.style.display =\n",
              "        google.colab.kernel.accessAllowed ? 'block' : 'none';\n",
              "\n",
              "      async function convertToInteractive(key) {\n",
              "        const element = document.querySelector('#df-429e60dd-51a0-46c3-b16f-764703af5356');\n",
              "        const dataTable =\n",
              "          await google.colab.kernel.invokeFunction('convertToInteractive',\n",
              "                                                    [key], {});\n",
              "        if (!dataTable) return;\n",
              "\n",
              "        const docLinkHtml = 'Like what you see? Visit the ' +\n",
              "          '<a target=\"_blank\" href=https://colab.research.google.com/notebooks/data_table.ipynb>data table notebook</a>'\n",
              "          + ' to learn more about interactive tables.';\n",
              "        element.innerHTML = '';\n",
              "        dataTable['output_type'] = 'display_data';\n",
              "        await google.colab.output.renderOutput(dataTable, element);\n",
              "        const docLink = document.createElement('div');\n",
              "        docLink.innerHTML = docLinkHtml;\n",
              "        element.appendChild(docLink);\n",
              "      }\n",
              "    </script>\n",
              "  </div>\n",
              "\n",
              "\n",
              "    <div id=\"df-219517c9-86b2-49c6-bd39-e9feb1e357a7\">\n",
              "      <button class=\"colab-df-quickchart\" onclick=\"quickchart('df-219517c9-86b2-49c6-bd39-e9feb1e357a7')\"\n",
              "                title=\"Suggest charts\"\n",
              "                style=\"display:none;\">\n",
              "\n",
              "<svg xmlns=\"http://www.w3.org/2000/svg\" height=\"24px\"viewBox=\"0 0 24 24\"\n",
              "     width=\"24px\">\n",
              "    <g>\n",
              "        <path d=\"M19 3H5c-1.1 0-2 .9-2 2v14c0 1.1.9 2 2 2h14c1.1 0 2-.9 2-2V5c0-1.1-.9-2-2-2zM9 17H7v-7h2v7zm4 0h-2V7h2v10zm4 0h-2v-4h2v4z\"/>\n",
              "    </g>\n",
              "</svg>\n",
              "      </button>\n",
              "\n",
              "<style>\n",
              "  .colab-df-quickchart {\n",
              "      --bg-color: #E8F0FE;\n",
              "      --fill-color: #1967D2;\n",
              "      --hover-bg-color: #E2EBFA;\n",
              "      --hover-fill-color: #174EA6;\n",
              "      --disabled-fill-color: #AAA;\n",
              "      --disabled-bg-color: #DDD;\n",
              "  }\n",
              "\n",
              "  [theme=dark] .colab-df-quickchart {\n",
              "      --bg-color: #3B4455;\n",
              "      --fill-color: #D2E3FC;\n",
              "      --hover-bg-color: #434B5C;\n",
              "      --hover-fill-color: #FFFFFF;\n",
              "      --disabled-bg-color: #3B4455;\n",
              "      --disabled-fill-color: #666;\n",
              "  }\n",
              "\n",
              "  .colab-df-quickchart {\n",
              "    background-color: var(--bg-color);\n",
              "    border: none;\n",
              "    border-radius: 50%;\n",
              "    cursor: pointer;\n",
              "    display: none;\n",
              "    fill: var(--fill-color);\n",
              "    height: 32px;\n",
              "    padding: 0;\n",
              "    width: 32px;\n",
              "  }\n",
              "\n",
              "  .colab-df-quickchart:hover {\n",
              "    background-color: var(--hover-bg-color);\n",
              "    box-shadow: 0 1px 2px rgba(60, 64, 67, 0.3), 0 1px 3px 1px rgba(60, 64, 67, 0.15);\n",
              "    fill: var(--button-hover-fill-color);\n",
              "  }\n",
              "\n",
              "  .colab-df-quickchart-complete:disabled,\n",
              "  .colab-df-quickchart-complete:disabled:hover {\n",
              "    background-color: var(--disabled-bg-color);\n",
              "    fill: var(--disabled-fill-color);\n",
              "    box-shadow: none;\n",
              "  }\n",
              "\n",
              "  .colab-df-spinner {\n",
              "    border: 2px solid var(--fill-color);\n",
              "    border-color: transparent;\n",
              "    border-bottom-color: var(--fill-color);\n",
              "    animation:\n",
              "      spin 1s steps(1) infinite;\n",
              "  }\n",
              "\n",
              "  @keyframes spin {\n",
              "    0% {\n",
              "      border-color: transparent;\n",
              "      border-bottom-color: var(--fill-color);\n",
              "      border-left-color: var(--fill-color);\n",
              "    }\n",
              "    20% {\n",
              "      border-color: transparent;\n",
              "      border-left-color: var(--fill-color);\n",
              "      border-top-color: var(--fill-color);\n",
              "    }\n",
              "    30% {\n",
              "      border-color: transparent;\n",
              "      border-left-color: var(--fill-color);\n",
              "      border-top-color: var(--fill-color);\n",
              "      border-right-color: var(--fill-color);\n",
              "    }\n",
              "    40% {\n",
              "      border-color: transparent;\n",
              "      border-right-color: var(--fill-color);\n",
              "      border-top-color: var(--fill-color);\n",
              "    }\n",
              "    60% {\n",
              "      border-color: transparent;\n",
              "      border-right-color: var(--fill-color);\n",
              "    }\n",
              "    80% {\n",
              "      border-color: transparent;\n",
              "      border-right-color: var(--fill-color);\n",
              "      border-bottom-color: var(--fill-color);\n",
              "    }\n",
              "    90% {\n",
              "      border-color: transparent;\n",
              "      border-bottom-color: var(--fill-color);\n",
              "    }\n",
              "  }\n",
              "</style>\n",
              "\n",
              "      <script>\n",
              "        async function quickchart(key) {\n",
              "          const quickchartButtonEl =\n",
              "            document.querySelector('#' + key + ' button');\n",
              "          quickchartButtonEl.disabled = true;  // To prevent multiple clicks.\n",
              "          quickchartButtonEl.classList.add('colab-df-spinner');\n",
              "          try {\n",
              "            const charts = await google.colab.kernel.invokeFunction(\n",
              "                'suggestCharts', [key], {});\n",
              "          } catch (error) {\n",
              "            console.error('Error during call to suggestCharts:', error);\n",
              "          }\n",
              "          quickchartButtonEl.classList.remove('colab-df-spinner');\n",
              "          quickchartButtonEl.classList.add('colab-df-quickchart-complete');\n",
              "        }\n",
              "        (() => {\n",
              "          let quickchartButtonEl =\n",
              "            document.querySelector('#df-219517c9-86b2-49c6-bd39-e9feb1e357a7 button');\n",
              "          quickchartButtonEl.style.display =\n",
              "            google.colab.kernel.accessAllowed ? 'block' : 'none';\n",
              "        })();\n",
              "      </script>\n",
              "    </div>\n",
              "\n",
              "  <div id=\"id_7a08c74a-84c3-444b-861e-ab3520a4d955\">\n",
              "    <style>\n",
              "      .colab-df-generate {\n",
              "        background-color: #E8F0FE;\n",
              "        border: none;\n",
              "        border-radius: 50%;\n",
              "        cursor: pointer;\n",
              "        display: none;\n",
              "        fill: #1967D2;\n",
              "        height: 32px;\n",
              "        padding: 0 0 0 0;\n",
              "        width: 32px;\n",
              "      }\n",
              "\n",
              "      .colab-df-generate:hover {\n",
              "        background-color: #E2EBFA;\n",
              "        box-shadow: 0px 1px 2px rgba(60, 64, 67, 0.3), 0px 1px 3px 1px rgba(60, 64, 67, 0.15);\n",
              "        fill: #174EA6;\n",
              "      }\n",
              "\n",
              "      [theme=dark] .colab-df-generate {\n",
              "        background-color: #3B4455;\n",
              "        fill: #D2E3FC;\n",
              "      }\n",
              "\n",
              "      [theme=dark] .colab-df-generate:hover {\n",
              "        background-color: #434B5C;\n",
              "        box-shadow: 0px 1px 3px 1px rgba(0, 0, 0, 0.15);\n",
              "        filter: drop-shadow(0px 1px 2px rgba(0, 0, 0, 0.3));\n",
              "        fill: #FFFFFF;\n",
              "      }\n",
              "    </style>\n",
              "    <button class=\"colab-df-generate\" onclick=\"generateWithVariable('trainer_history_eval_df')\"\n",
              "            title=\"Generate code using this dataframe.\"\n",
              "            style=\"display:none;\">\n",
              "\n",
              "  <svg xmlns=\"http://www.w3.org/2000/svg\" height=\"24px\"viewBox=\"0 0 24 24\"\n",
              "       width=\"24px\">\n",
              "    <path d=\"M7,19H8.4L18.45,9,17,7.55,7,17.6ZM5,21V16.75L18.45,3.32a2,2,0,0,1,2.83,0l1.4,1.43a1.91,1.91,0,0,1,.58,1.4,1.91,1.91,0,0,1-.58,1.4L9.25,21ZM18.45,9,17,7.55Zm-12,3A5.31,5.31,0,0,0,4.9,8.1,5.31,5.31,0,0,0,1,6.5,5.31,5.31,0,0,0,4.9,4.9,5.31,5.31,0,0,0,6.5,1,5.31,5.31,0,0,0,8.1,4.9,5.31,5.31,0,0,0,12,6.5,5.46,5.46,0,0,0,6.5,12Z\"/>\n",
              "  </svg>\n",
              "    </button>\n",
              "    <script>\n",
              "      (() => {\n",
              "      const buttonEl =\n",
              "        document.querySelector('#id_7a08c74a-84c3-444b-861e-ab3520a4d955 button.colab-df-generate');\n",
              "      buttonEl.style.display =\n",
              "        google.colab.kernel.accessAllowed ? 'block' : 'none';\n",
              "\n",
              "      buttonEl.onclick = () => {\n",
              "        google.colab.notebook.generateWithVariable('trainer_history_eval_df');\n",
              "      }\n",
              "      })();\n",
              "    </script>\n",
              "  </div>\n",
              "\n",
              "    </div>\n",
              "  </div>\n"
            ],
            "text/plain": [
              "   eval_loss  eval_accuracy  eval_runtime  eval_samples_per_second  \\\n",
              "0   0.082216            1.0        0.0491                 1018.802   \n",
              "1   0.007090            1.0        0.1795                  278.528   \n",
              "2   0.002339            1.0        0.1037                  482.208   \n",
              "3   0.001246            1.0        0.0495                 1010.963   \n",
              "4   0.000868            1.0        0.0699                  715.354   \n",
              "5   0.000701            1.0        0.0508                  983.466   \n",
              "6   0.000613            1.0        0.0599                  834.120   \n",
              "7   0.000567            1.0        0.0492                 1016.806   \n",
              "8   0.000543            1.0        0.0523                  956.830   \n",
              "9   0.000535            1.0        0.0569                  878.572   \n",
              "\n",
              "   eval_steps_per_second  epoch  step  \n",
              "0                 40.752    1.0     7  \n",
              "1                 11.141    2.0    14  \n",
              "2                 19.288    3.0    21  \n",
              "3                 40.439    4.0    28  \n",
              "4                 28.614    5.0    35  \n",
              "5                 39.339    6.0    42  \n",
              "6                 33.365    7.0    49  \n",
              "7                 40.672    8.0    56  \n",
              "8                 38.273    9.0    63  \n",
              "9                 35.143   10.0    70  "
            ]
          },
          "execution_count": 82,
          "metadata": {},
          "output_type": "execute_result"
        }
      ],
      "source": [
        "trainer_history_eval_df"
      ]
    },
    {
      "cell_type": "code",
      "execution_count": 83,
      "metadata": {
        "colab": {
          "base_uri": "https://localhost:8080/",
          "height": 564
        },
        "id": "ItiOQIv0-Pan",
        "outputId": "dafbbc3f-8e23-4a35-dd64-a94e7a50ebf8"
      },
      "outputs": [
        {
          "data": {
            "image/png": "[encoded data removed]",
            "text/plain": [
              "<Figure size 1000x600 with 1 Axes>"
            ]
          },
          "metadata": {},
          "output_type": "display_data"
        }
      ],
      "source": [
        "# Plot the loss curves\n",
        "import matplotlib.pyplot as plt\n",
        "\n",
        "plt.figure(figsize=(10, 6))\n",
        "plt.plot(trainer_history_train_df['epoch'], trainer_history_train_df['loss'], label=\"Training loss\")\n",
        "plt.plot(trainer_history_eval_df['epoch'], trainer_history_eval_df['eval_loss'], label='Eval loss')\n",
        "plt.xlabel(\"Epochs\")\n",
        "plt.ylabel(\"Loss\")\n",
        "plt.title(\"Text classification fine-tuning DistilBert training and evaluation loss over time\")\n",
        "plt.legend()\n",
        "plt.show()\n",
        "# Underfitting -> loss is not going down. Fixed by introducing more learning capacity (more data, more parameters in the model, longer training)\n",
        "# Overfitting -> the loss value on the training set is lower than the loss value on the testing set. Fixed by introducing more regularization.\n",
        "# Machine learning is a constsnt battle between overfitting and underfitting."
      ]
    },
    {
      "cell_type": "markdown",
      "metadata": {
        "id": "5MbbgUStFmCw"
      },
      "source": [
        "## Pushing the model to Hugging Face Hub\n",
        "To keep a history of different model versions.\n",
        "\n",
        "To write to HuggingFace:\n",
        "* If on Google Colab setup token with read and write access.\n",
        "* If on local machine setup huggingface-cli.\n",
        "\n",
        "To save to the Hugging Face Hub we can use `Trainer.push_to_to_hub` method."
      ]
    },
    {
      "cell_type": "code",
      "execution_count": 84,
      "metadata": {
        "colab": {
          "base_uri": "https://localhost:8080/",
          "height": 131,
          "referenced_widgets": [
            "4cb55ea0550e4fde938fc15994435d42",
            "f29db6902c634443a8be993ecb7cec74",
            "421ac564d4834ad087f656cd71fe2a3f",
            "5f29c2c132414619bcc0a7a16d003f88",
            "bd174f39a6cf44d396b5128ecf36541a",
            "4f3b87b6cd654472bfe01eab2cda08b2",
            "287e50ef88964eada8b0b3b9196170af",
            "8267d971cbbc4926b447d487f184681f",
            "dba6066afb4a4a53ad7c9067bda6da6a",
            "dfd81b3c77d2483f959c1e3095b56bf6",
            "271c4904a8d9481cb66969f33c46b150",
            "aaf2e088e4ff4a54b5e990ae298842bb",
            "b6572d9a0a7d441bb647c3cab4c31903",
            "52b9bf19e9c8474b87ca6e0e1e5a044e",
            "88d19e2c0b784dfaa598c2bb563d84e0",
            "f787e51f05894dd8b1182e1ac0e717e8",
            "b42e39e21c6d4e0e9e57491c3a68fd68",
            "6c4097c92d164ee8ae777ca1a560d8dd",
            "d282ffec511d42e39bbdce62ea24315d",
            "33b9002029ca4c41acf71b6406dd9b25",
            "d6163ba565fc47efa0fa6d82bf1c21ac",
            "5f93c4a6ae8e4b12830b5573521dbf28",
            "261ce6a2660b4d7a88dd99a41ebae7ec",
            "8cb160ccaf0a459ba943f4dd39cc63f8",
            "29b21433f5014407a9945eb27a0b1cbd",
            "5ad3fc8a6adb42e3a1cee42877c19737",
            "5b311fb49176465998cb410989f042fd",
            "449538a588a349e68c3eec5f813f7cbc",
            "b171192906b34eb690089f92aed2a2b0",
            "28090aa5556d4ffaa8daf0f1e2e00b46",
            "11d64572f00e4ca5bc7bf7bf0bd29256",
            "95525d214d1b422fad07d047c2e5f1d4",
            "796778ea3d56453c9ed54b2150aa22c8"
          ]
        },
        "id": "6lytGVlqANb0",
        "outputId": "b95ac6bd-0822-4a5f-9eab-2465613940bd"
      },
      "outputs": [
        {
          "data": {
            "application/vnd.jupyter.widget-view+json": {
              "model_id": "4cb55ea0550e4fde938fc15994435d42",
              "version_major": 2,
              "version_minor": 0
            },
            "text/plain": [
              "model.safetensors:   0%|          | 0.00/268M [00:00<?, ?B/s]"
            ]
          },
          "metadata": {},
          "output_type": "display_data"
        },
        {
          "data": {
            "application/vnd.jupyter.widget-view+json": {
              "model_id": "aaf2e088e4ff4a54b5e990ae298842bb",
              "version_major": 2,
              "version_minor": 0
            },
            "text/plain": [
              "Upload 2 LFS files:   0%|          | 0/2 [00:00<?, ?it/s]"
            ]
          },
          "metadata": {},
          "output_type": "display_data"
        },
        {
          "data": {
            "application/vnd.jupyter.widget-view+json": {
              "model_id": "261ce6a2660b4d7a88dd99a41ebae7ec",
              "version_major": 2,
              "version_minor": 0
            },
            "text/plain": [
              "training_args.bin:   0%|          | 0.00/5.37k [00:00<?, ?B/s]"
            ]
          },
          "metadata": {},
          "output_type": "display_data"
        },
        {
          "name": "stdout",
          "output_type": "stream",
          "text": [
            "NOTICE!!! Model successfully uploaded to the Hugging Face Hub with url: https://huggingface.co/Saint5/hg_tutorial_food_not_food_text_classifier_distilbert_base_uncased/tree/main/\n"
          ]
        }
      ],
      "source": [
        "# Save the model to the Hugging Face Hub\n",
        "model_upload_url = trainer.push_to_hub(\n",
        "    commit_message=\"Uploading my first model food not food text classifier model\",\n",
        "    # token=\"YOUR_TOKEN\"\n",
        ")\n",
        "print(f\"NOTICE!!! Model successfully uploaded to the Hugging Face Hub with url: {model_upload_url}\")"
      ]
    },
    {
      "cell_type": "markdown",
      "metadata": {
        "id": "Z0drGuJcMFI-"
      },
      "source": [
        "## Making and evaluating predictions on the test data\n",
        "**NOTE**: Evaluating a model is as important as training a model."
      ]
    },
    {
      "cell_type": "code",
      "execution_count": 85,
      "metadata": {
        "colab": {
          "base_uri": "https://localhost:8080/"
        },
        "id": "M_Njck80PI8U",
        "outputId": "1d3ea30f-1fe7-4deb-e180-ec1d39bd2d17"
      },
      "outputs": [
        {
          "data": {
            "text/plain": [
              "DatasetDict({\n",
              "    train: Dataset({\n",
              "        features: ['text', 'label', 'input_ids', 'attention_mask'],\n",
              "        num_rows: 200\n",
              "    })\n",
              "    test: Dataset({\n",
              "        features: ['text', 'label', 'input_ids', 'attention_mask'],\n",
              "        num_rows: 50\n",
              "    })\n",
              "})"
            ]
          },
          "execution_count": 85,
          "metadata": {},
          "output_type": "execute_result"
        }
      ],
      "source": [
        "tokenized_dataset"
      ]
    },
    {
      "cell_type": "code",
      "execution_count": 86,
      "metadata": {
        "colab": {
          "base_uri": "https://localhost:8080/",
          "height": 127
        },
        "id": "6Ji0IgB3IGz9",
        "outputId": "cfdf66ea-959d-4b58-9a9a-14acb2994938"
      },
      "outputs": [
        {
          "data": {
            "text/html": [],
            "text/plain": [
              "<IPython.core.display.HTML object>"
            ]
          },
          "metadata": {},
          "output_type": "display_data"
        },
        {
          "name": "stdout",
          "output_type": "stream",
          "text": [
            "[INFO] Prediction metrics on the test data:\n"
          ]
        },
        {
          "data": {
            "text/plain": [
              "{'test_loss': 0.0005350123392418027,\n",
              " 'test_accuracy': 1.0,\n",
              " 'test_runtime': 0.0869,\n",
              " 'test_samples_per_second': 575.371,\n",
              " 'test_steps_per_second': 23.015}"
            ]
          },
          "execution_count": 86,
          "metadata": {},
          "output_type": "execute_result"
        }
      ],
      "source": [
        "# Perform predictions on the test dataset\n",
        "predictions_all = trainer.predict(tokenized_dataset['test'])\n",
        "prediction_values = predictions_all.predictions # logits\n",
        "prediction_metrics = predictions_all.metrics\n",
        "\n",
        "print(\"[INFO] Prediction metrics on the test data:\")\n",
        "prediction_metrics"
      ]
    },
    {
      "cell_type": "code",
      "execution_count": 87,
      "metadata": {
        "id": "VLmtC4mMdS6V"
      },
      "outputs": [],
      "source": [
        "# prediction_values"
      ]
    },
    {
      "cell_type": "code",
      "execution_count": 88,
      "metadata": {
        "colab": {
          "base_uri": "https://localhost:8080/"
        },
        "id": "5RgJoE1kP_Gj",
        "outputId": "73d6ebce-667a-4f74-97f8-1fe909531807"
      },
      "outputs": [
        {
          "data": {
            "text/plain": [
              "array([1, 0, 1, 0, 0, 1, 0, 0, 1, 1, 1, 1, 0, 1, 1, 0, 1, 0, 1, 1, 1, 1,\n",
              "       0, 0, 1, 1, 1, 0, 1, 0, 1, 1, 1, 0, 1, 1, 1, 1, 0, 0, 1, 1, 1, 0,\n",
              "       1, 1, 1, 1, 0, 1])"
            ]
          },
          "execution_count": 88,
          "metadata": {},
          "output_type": "execute_result"
        }
      ],
      "source": [
        "predictions_all.label_ids"
      ]
    },
    {
      "cell_type": "code",
      "execution_count": 89,
      "metadata": {
        "colab": {
          "base_uri": "https://localhost:8080/"
        },
        "id": "gQEhVFF7cDUX",
        "outputId": "df433d41-f1d4-43f5-bda2-bb60854008e4"
      },
      "outputs": [
        {
          "data": {
            "text/plain": [
              "50"
            ]
          },
          "execution_count": 89,
          "metadata": {},
          "output_type": "execute_result"
        }
      ],
      "source": [
        "len(predictions_all.label_ids)"
      ]
    },
    {
      "cell_type": "code",
      "execution_count": 90,
      "metadata": {
        "colab": {
          "base_uri": "https://localhost:8080/"
        },
        "id": "7tYwaEc1ey-p",
        "outputId": "6076af1e-c648-4f21-8cb8-cf5fd87eba02"
      },
      "outputs": [
        {
          "data": {
            "text/plain": [
              "Dataset({\n",
              "    features: ['text', 'label', 'input_ids', 'attention_mask'],\n",
              "    num_rows: 50\n",
              "})"
            ]
          },
          "execution_count": 90,
          "metadata": {},
          "output_type": "execute_result"
        }
      ],
      "source": [
        "tokenized_dataset['test']"
      ]
    },
    {
      "cell_type": "markdown",
      "metadata": {
        "id": "Ae0yhsH1a_La"
      },
      "source": [
        "### Getting prediction probabilities and evaluate by hand"
      ]
    },
    {
      "cell_type": "code",
      "execution_count": 91,
      "metadata": {
        "colab": {
          "base_uri": "https://localhost:8080/"
        },
        "id": "fwmsdrWbQHCv",
        "outputId": "3e8df70d-0a08-4274-e09d-142a8c6a80ff"
      },
      "outputs": [
        {
          "name": "stdout",
          "output_type": "stream",
          "text": [
            "[MESSAGE] Test accuracy: 100.0\n"
          ]
        }
      ],
      "source": [
        "# Predicted logits (raw output of the model) -> prediction probabilities with torch.softmax ->\n",
        "import torch\n",
        "from sklearn.metrics import accuracy_score\n",
        "\n",
        "# 1. Get prediction probabilities with torch.softmax\n",
        "pred_probs = torch.softmax(torch.tensor(prediction_values), dim=1)\n",
        "\n",
        "# 2. Get the predicted labels\n",
        "pred_labels = torch.argmax(pred_probs, dim=1)\n",
        "\n",
        "# 3. Get the true labels\n",
        "true_labels = tokenized_dataset['test']['label']\n",
        "\n",
        "# 4. Compute prediction labels to true labels and get the test accuracy\n",
        "test_accuracy = accuracy_score(y_true=true_labels,\n",
        "                               y_pred=pred_labels)\n",
        "\n",
        "print(f\"[MESSAGE] Test accuracy: {test_accuracy*100}\")"
      ]
    },
    {
      "cell_type": "markdown",
      "metadata": {
        "id": "zXi6DfOxiVU9"
      },
      "source": [
        "### Exploring model's prediction probabilities\n",
        "A very good way to evaluate a model by sorting predictions by prediction probabilities and seeing where the model went wrong."
      ]
    },
    {
      "cell_type": "code",
      "execution_count": 92,
      "metadata": {
        "colab": {
          "base_uri": "https://localhost:8080/",
          "height": 206
        },
        "id": "9CCrXQWvQaB9",
        "outputId": "23360fc7-1d60-4125-adbb-e93b333f86a7"
      },
      "outputs": [
        {
          "data": {
            "application/vnd.google.colaboratory.intrinsic+json": {
              "summary": "{\n  \"name\": \"test_predictions_df\",\n  \"rows\": 50,\n  \"fields\": [\n    {\n      \"column\": \"text\",\n      \"properties\": {\n        \"dtype\": \"string\",\n        \"num_unique_values\": 50,\n        \"samples\": [\n          \"Comforting lamb curry bowl, featuring tender lamb slow-cooked in a flavorful sauce with cumin and coriander, garnished with toasted cumin seeds.\",\n          \"A close-up of a woman practicing yoga in the living room while her dog mimics her poses\",\n          \"Robust beef curry in a hearty bowl, simmered with a medley of spices, tomatoes, and onions, garnished with chopped green onions.\"\n        ],\n        \"semantic_type\": \"\",\n        \"description\": \"\"\n      }\n    },\n    {\n      \"column\": \"true_label\",\n      \"properties\": {\n        \"dtype\": \"number\",\n        \"std\": 0,\n        \"min\": 0,\n        \"max\": 1,\n        \"num_unique_values\": 2,\n        \"samples\": [\n          0,\n          1\n        ],\n        \"semantic_type\": \"\",\n        \"description\": \"\"\n      }\n    },\n    {\n      \"column\": \"pred_label\",\n      \"properties\": {\n        \"dtype\": \"number\",\n        \"std\": 0,\n        \"min\": 0,\n        \"max\": 1,\n        \"num_unique_values\": 2,\n        \"samples\": [\n          0,\n          1\n        ],\n        \"semantic_type\": \"\",\n        \"description\": \"\"\n      }\n    },\n    {\n      \"column\": \"pred_prob\",\n      \"properties\": {\n        \"dtype\": \"float32\",\n        \"num_unique_values\": 48,\n        \"samples\": [\n          0.9994828701019287,\n          0.9994609951972961\n        ],\n        \"semantic_type\": \"\",\n        \"description\": \"\"\n      }\n    }\n  ]\n}",
              "type": "dataframe",
              "variable_name": "test_predictions_df"
            },
            "text/html": [
              "\n",
              "  <div id=\"df-12bb69bb-5b81-4fa6-8476-69b93bd4697e\" class=\"colab-df-container\">\n",
              "    <div>\n",
              "<style scoped>\n",
              "    .dataframe tbody tr th:only-of-type {\n",
              "        vertical-align: middle;\n",
              "    }\n",
              "\n",
              "    .dataframe tbody tr th {\n",
              "        vertical-align: top;\n",
              "    }\n",
              "\n",
              "    .dataframe thead th {\n",
              "        text-align: right;\n",
              "    }\n",
              "</style>\n",
              "<table border=\"1\" class=\"dataframe\">\n",
              "  <thead>\n",
              "    <tr style=\"text-align: right;\">\n",
              "      <th></th>\n",
              "      <th>text</th>\n",
              "      <th>true_label</th>\n",
              "      <th>pred_label</th>\n",
              "      <th>pred_prob</th>\n",
              "    </tr>\n",
              "  </thead>\n",
              "  <tbody>\n",
              "    <tr>\n",
              "      <th>0</th>\n",
              "      <td>A slice of pepperoni pizza with a layer of mel...</td>\n",
              "      <td>1</td>\n",
              "      <td>1</td>\n",
              "      <td>0.999480</td>\n",
              "    </tr>\n",
              "    <tr>\n",
              "      <th>1</th>\n",
              "      <td>Red brick fireplace with a mantel serving as a...</td>\n",
              "      <td>0</td>\n",
              "      <td>0</td>\n",
              "      <td>0.999497</td>\n",
              "    </tr>\n",
              "    <tr>\n",
              "      <th>2</th>\n",
              "      <td>A bowl of sliced bell peppers with a sprinkle ...</td>\n",
              "      <td>1</td>\n",
              "      <td>1</td>\n",
              "      <td>0.999478</td>\n",
              "    </tr>\n",
              "    <tr>\n",
              "      <th>3</th>\n",
              "      <td>Set of mugs hanging on a hook</td>\n",
              "      <td>0</td>\n",
              "      <td>0</td>\n",
              "      <td>0.999528</td>\n",
              "    </tr>\n",
              "    <tr>\n",
              "      <th>4</th>\n",
              "      <td>Standing floor lamp providing light next to an...</td>\n",
              "      <td>0</td>\n",
              "      <td>0</td>\n",
              "      <td>0.999518</td>\n",
              "    </tr>\n",
              "  </tbody>\n",
              "</table>\n",
              "</div>\n",
              "    <div class=\"colab-df-buttons\">\n",
              "\n",
              "  <div class=\"colab-df-container\">\n",
              "    <button class=\"colab-df-convert\" onclick=\"convertToInteractive('df-12bb69bb-5b81-4fa6-8476-69b93bd4697e')\"\n",
              "            title=\"Convert this dataframe to an interactive table.\"\n",
              "            style=\"display:none;\">\n",
              "\n",
              "  <svg xmlns=\"http://www.w3.org/2000/svg\" height=\"24px\" viewBox=\"0 -960 960 960\">\n",
              "    <path d=\"M120-120v-720h720v720H120Zm60-500h600v-160H180v160Zm220 220h160v-160H400v160Zm0 220h160v-160H400v160ZM180-400h160v-160H180v160Zm440 0h160v-160H620v160ZM180-180h160v-160H180v160Zm440 0h160v-160H620v160Z\"/>\n",
              "  </svg>\n",
              "    </button>\n",
              "\n",
              "  <style>\n",
              "    .colab-df-container {\n",
              "      display:flex;\n",
              "      gap: 12px;\n",
              "    }\n",
              "\n",
              "    .colab-df-convert {\n",
              "      background-color: #E8F0FE;\n",
              "      border: none;\n",
              "      border-radius: 50%;\n",
              "      cursor: pointer;\n",
              "      display: none;\n",
              "      fill: #1967D2;\n",
              "      height: 32px;\n",
              "      padding: 0 0 0 0;\n",
              "      width: 32px;\n",
              "    }\n",
              "\n",
              "    .colab-df-convert:hover {\n",
              "      background-color: #E2EBFA;\n",
              "      box-shadow: 0px 1px 2px rgba(60, 64, 67, 0.3), 0px 1px 3px 1px rgba(60, 64, 67, 0.15);\n",
              "      fill: #174EA6;\n",
              "    }\n",
              "\n",
              "    .colab-df-buttons div {\n",
              "      margin-bottom: 4px;\n",
              "    }\n",
              "\n",
              "    [theme=dark] .colab-df-convert {\n",
              "      background-color: #3B4455;\n",
              "      fill: #D2E3FC;\n",
              "    }\n",
              "\n",
              "    [theme=dark] .colab-df-convert:hover {\n",
              "      background-color: #434B5C;\n",
              "      box-shadow: 0px 1px 3px 1px rgba(0, 0, 0, 0.15);\n",
              "      filter: drop-shadow(0px 1px 2px rgba(0, 0, 0, 0.3));\n",
              "      fill: #FFFFFF;\n",
              "    }\n",
              "  </style>\n",
              "\n",
              "    <script>\n",
              "      const buttonEl =\n",
              "        document.querySelector('#df-12bb69bb-5b81-4fa6-8476-69b93bd4697e button.colab-df-convert');\n",
              "      buttonEl.style.display =\n",
              "        google.colab.kernel.accessAllowed ? 'block' : 'none';\n",
              "\n",
              "      async function convertToInteractive(key) {\n",
              "        const element = document.querySelector('#df-12bb69bb-5b81-4fa6-8476-69b93bd4697e');\n",
              "        const dataTable =\n",
              "          await google.colab.kernel.invokeFunction('convertToInteractive',\n",
              "                                                    [key], {});\n",
              "        if (!dataTable) return;\n",
              "\n",
              "        const docLinkHtml = 'Like what you see? Visit the ' +\n",
              "          '<a target=\"_blank\" href=https://colab.research.google.com/notebooks/data_table.ipynb>data table notebook</a>'\n",
              "          + ' to learn more about interactive tables.';\n",
              "        element.innerHTML = '';\n",
              "        dataTable['output_type'] = 'display_data';\n",
              "        await google.colab.output.renderOutput(dataTable, element);\n",
              "        const docLink = document.createElement('div');\n",
              "        docLink.innerHTML = docLinkHtml;\n",
              "        element.appendChild(docLink);\n",
              "      }\n",
              "    </script>\n",
              "  </div>\n",
              "\n",
              "\n",
              "    <div id=\"df-4aa0efb9-40e2-465b-8a81-a3a84e82073c\">\n",
              "      <button class=\"colab-df-quickchart\" onclick=\"quickchart('df-4aa0efb9-40e2-465b-8a81-a3a84e82073c')\"\n",
              "                title=\"Suggest charts\"\n",
              "                style=\"display:none;\">\n",
              "\n",
              "<svg xmlns=\"http://www.w3.org/2000/svg\" height=\"24px\"viewBox=\"0 0 24 24\"\n",
              "     width=\"24px\">\n",
              "    <g>\n",
              "        <path d=\"M19 3H5c-1.1 0-2 .9-2 2v14c0 1.1.9 2 2 2h14c1.1 0 2-.9 2-2V5c0-1.1-.9-2-2-2zM9 17H7v-7h2v7zm4 0h-2V7h2v10zm4 0h-2v-4h2v4z\"/>\n",
              "    </g>\n",
              "</svg>\n",
              "      </button>\n",
              "\n",
              "<style>\n",
              "  .colab-df-quickchart {\n",
              "      --bg-color: #E8F0FE;\n",
              "      --fill-color: #1967D2;\n",
              "      --hover-bg-color: #E2EBFA;\n",
              "      --hover-fill-color: #174EA6;\n",
              "      --disabled-fill-color: #AAA;\n",
              "      --disabled-bg-color: #DDD;\n",
              "  }\n",
              "\n",
              "  [theme=dark] .colab-df-quickchart {\n",
              "      --bg-color: #3B4455;\n",
              "      --fill-color: #D2E3FC;\n",
              "      --hover-bg-color: #434B5C;\n",
              "      --hover-fill-color: #FFFFFF;\n",
              "      --disabled-bg-color: #3B4455;\n",
              "      --disabled-fill-color: #666;\n",
              "  }\n",
              "\n",
              "  .colab-df-quickchart {\n",
              "    background-color: var(--bg-color);\n",
              "    border: none;\n",
              "    border-radius: 50%;\n",
              "    cursor: pointer;\n",
              "    display: none;\n",
              "    fill: var(--fill-color);\n",
              "    height: 32px;\n",
              "    padding: 0;\n",
              "    width: 32px;\n",
              "  }\n",
              "\n",
              "  .colab-df-quickchart:hover {\n",
              "    background-color: var(--hover-bg-color);\n",
              "    box-shadow: 0 1px 2px rgba(60, 64, 67, 0.3), 0 1px 3px 1px rgba(60, 64, 67, 0.15);\n",
              "    fill: var(--button-hover-fill-color);\n",
              "  }\n",
              "\n",
              "  .colab-df-quickchart-complete:disabled,\n",
              "  .colab-df-quickchart-complete:disabled:hover {\n",
              "    background-color: var(--disabled-bg-color);\n",
              "    fill: var(--disabled-fill-color);\n",
              "    box-shadow: none;\n",
              "  }\n",
              "\n",
              "  .colab-df-spinner {\n",
              "    border: 2px solid var(--fill-color);\n",
              "    border-color: transparent;\n",
              "    border-bottom-color: var(--fill-color);\n",
              "    animation:\n",
              "      spin 1s steps(1) infinite;\n",
              "  }\n",
              "\n",
              "  @keyframes spin {\n",
              "    0% {\n",
              "      border-color: transparent;\n",
              "      border-bottom-color: var(--fill-color);\n",
              "      border-left-color: var(--fill-color);\n",
              "    }\n",
              "    20% {\n",
              "      border-color: transparent;\n",
              "      border-left-color: var(--fill-color);\n",
              "      border-top-color: var(--fill-color);\n",
              "    }\n",
              "    30% {\n",
              "      border-color: transparent;\n",
              "      border-left-color: var(--fill-color);\n",
              "      border-top-color: var(--fill-color);\n",
              "      border-right-color: var(--fill-color);\n",
              "    }\n",
              "    40% {\n",
              "      border-color: transparent;\n",
              "      border-right-color: var(--fill-color);\n",
              "      border-top-color: var(--fill-color);\n",
              "    }\n",
              "    60% {\n",
              "      border-color: transparent;\n",
              "      border-right-color: var(--fill-color);\n",
              "    }\n",
              "    80% {\n",
              "      border-color: transparent;\n",
              "      border-right-color: var(--fill-color);\n",
              "      border-bottom-color: var(--fill-color);\n",
              "    }\n",
              "    90% {\n",
              "      border-color: transparent;\n",
              "      border-bottom-color: var(--fill-color);\n",
              "    }\n",
              "  }\n",
              "</style>\n",
              "\n",
              "      <script>\n",
              "        async function quickchart(key) {\n",
              "          const quickchartButtonEl =\n",
              "            document.querySelector('#' + key + ' button');\n",
              "          quickchartButtonEl.disabled = true;  // To prevent multiple clicks.\n",
              "          quickchartButtonEl.classList.add('colab-df-spinner');\n",
              "          try {\n",
              "            const charts = await google.colab.kernel.invokeFunction(\n",
              "                'suggestCharts', [key], {});\n",
              "          } catch (error) {\n",
              "            console.error('Error during call to suggestCharts:', error);\n",
              "          }\n",
              "          quickchartButtonEl.classList.remove('colab-df-spinner');\n",
              "          quickchartButtonEl.classList.add('colab-df-quickchart-complete');\n",
              "        }\n",
              "        (() => {\n",
              "          let quickchartButtonEl =\n",
              "            document.querySelector('#df-4aa0efb9-40e2-465b-8a81-a3a84e82073c button');\n",
              "          quickchartButtonEl.style.display =\n",
              "            google.colab.kernel.accessAllowed ? 'block' : 'none';\n",
              "        })();\n",
              "      </script>\n",
              "    </div>\n",
              "\n",
              "    </div>\n",
              "  </div>\n"
            ],
            "text/plain": [
              "                                                text  true_label  pred_label  \\\n",
              "0  A slice of pepperoni pizza with a layer of mel...           1           1   \n",
              "1  Red brick fireplace with a mantel serving as a...           0           0   \n",
              "2  A bowl of sliced bell peppers with a sprinkle ...           1           1   \n",
              "3                      Set of mugs hanging on a hook           0           0   \n",
              "4  Standing floor lamp providing light next to an...           0           0   \n",
              "\n",
              "   pred_prob  \n",
              "0   0.999480  \n",
              "1   0.999497  \n",
              "2   0.999478  \n",
              "3   0.999528  \n",
              "4   0.999518  "
            ]
          },
          "execution_count": 92,
          "metadata": {},
          "output_type": "execute_result"
        }
      ],
      "source": [
        "# Make a DataFrame of test predictions\n",
        "test_predictions_df = pd.DataFrame({\n",
        "    \"text\":tokenized_dataset['test']['text'],\n",
        "    \"true_label\":true_labels,\n",
        "    \"pred_label\":pred_labels,\n",
        "    \"pred_prob\":torch.max(pred_probs, dim=1).values\n",
        "})\n",
        "test_predictions_df.head()"
      ]
    },
    {
      "cell_type": "code",
      "execution_count": 93,
      "metadata": {
        "colab": {
          "base_uri": "https://localhost:8080/",
          "height": 363
        },
        "id": "T-BGuktBmeP3",
        "outputId": "9a0f0c75-e11b-4451-82d9-e4e44845a5d8"
      },
      "outputs": [
        {
          "data": {
            "application/vnd.google.colaboratory.intrinsic+json": {
              "summary": "{\n  \"name\": \"test_predictions_df\",\n  \"rows\": 10,\n  \"fields\": [\n    {\n      \"column\": \"text\",\n      \"properties\": {\n        \"dtype\": \"string\",\n        \"num_unique_values\": 10,\n        \"samples\": [\n          \"Comforting lamb curry bowl, featuring tender lamb slow-cooked in a flavorful sauce with cumin and coriander, garnished with toasted cumin seeds.\",\n          \"A bowl of cherries with a sprig of mint for garnish\",\n          \"A fruit platter with a variety of exotic fruits, such as dragon fruit, mangosteen, and durian\"\n        ],\n        \"semantic_type\": \"\",\n        \"description\": \"\"\n      }\n    },\n    {\n      \"column\": \"true_label\",\n      \"properties\": {\n        \"dtype\": \"number\",\n        \"std\": 0,\n        \"min\": 0,\n        \"max\": 1,\n        \"num_unique_values\": 2,\n        \"samples\": [\n          1,\n          0\n        ],\n        \"semantic_type\": \"\",\n        \"description\": \"\"\n      }\n    },\n    {\n      \"column\": \"pred_label\",\n      \"properties\": {\n        \"dtype\": \"number\",\n        \"std\": 0,\n        \"min\": 0,\n        \"max\": 1,\n        \"num_unique_values\": 2,\n        \"samples\": [\n          1,\n          0\n        ],\n        \"semantic_type\": \"\",\n        \"description\": \"\"\n      }\n    },\n    {\n      \"column\": \"pred_prob\",\n      \"properties\": {\n        \"dtype\": \"float32\",\n        \"num_unique_values\": 10,\n        \"samples\": [\n          0.9994680285453796,\n          0.9993842840194702\n        ],\n        \"semantic_type\": \"\",\n        \"description\": \"\"\n      }\n    }\n  ]\n}",
              "type": "dataframe"
            },
            "text/html": [
              "\n",
              "  <div id=\"df-916f14dd-3193-4753-acbc-e6dd19946ed0\" class=\"colab-df-container\">\n",
              "    <div>\n",
              "<style scoped>\n",
              "    .dataframe tbody tr th:only-of-type {\n",
              "        vertical-align: middle;\n",
              "    }\n",
              "\n",
              "    .dataframe tbody tr th {\n",
              "        vertical-align: top;\n",
              "    }\n",
              "\n",
              "    .dataframe thead th {\n",
              "        text-align: right;\n",
              "    }\n",
              "</style>\n",
              "<table border=\"1\" class=\"dataframe\">\n",
              "  <thead>\n",
              "    <tr style=\"text-align: right;\">\n",
              "      <th></th>\n",
              "      <th>text</th>\n",
              "      <th>true_label</th>\n",
              "      <th>pred_label</th>\n",
              "      <th>pred_prob</th>\n",
              "    </tr>\n",
              "  </thead>\n",
              "  <tbody>\n",
              "    <tr>\n",
              "      <th>43</th>\n",
              "      <td>Set of muffin tins stacked together</td>\n",
              "      <td>0</td>\n",
              "      <td>0</td>\n",
              "      <td>0.998576</td>\n",
              "    </tr>\n",
              "    <tr>\n",
              "      <th>40</th>\n",
              "      <td>A bowl of cherries with a sprig of mint for ga...</td>\n",
              "      <td>1</td>\n",
              "      <td>1</td>\n",
              "      <td>0.999384</td>\n",
              "    </tr>\n",
              "    <tr>\n",
              "      <th>14</th>\n",
              "      <td>Two handfuls of bananas in a fruit bowl with g...</td>\n",
              "      <td>1</td>\n",
              "      <td>1</td>\n",
              "      <td>0.999455</td>\n",
              "    </tr>\n",
              "    <tr>\n",
              "      <th>20</th>\n",
              "      <td>Pizza with a seafood theme, featuring toppings...</td>\n",
              "      <td>1</td>\n",
              "      <td>1</td>\n",
              "      <td>0.999460</td>\n",
              "    </tr>\n",
              "    <tr>\n",
              "      <th>42</th>\n",
              "      <td>Boxes of apples, pears, pineapple, manadrins a...</td>\n",
              "      <td>1</td>\n",
              "      <td>1</td>\n",
              "      <td>0.999461</td>\n",
              "    </tr>\n",
              "    <tr>\n",
              "      <th>26</th>\n",
              "      <td>A fruit platter with a variety of exotic fruit...</td>\n",
              "      <td>1</td>\n",
              "      <td>1</td>\n",
              "      <td>0.999462</td>\n",
              "    </tr>\n",
              "    <tr>\n",
              "      <th>11</th>\n",
              "      <td>A close-up shot of a cheesy pizza slice being ...</td>\n",
              "      <td>1</td>\n",
              "      <td>1</td>\n",
              "      <td>0.999465</td>\n",
              "    </tr>\n",
              "    <tr>\n",
              "      <th>35</th>\n",
              "      <td>Luxurious coconut shrimp curry on a generous p...</td>\n",
              "      <td>1</td>\n",
              "      <td>1</td>\n",
              "      <td>0.999466</td>\n",
              "    </tr>\n",
              "    <tr>\n",
              "      <th>13</th>\n",
              "      <td>Comforting lamb curry bowl, featuring tender l...</td>\n",
              "      <td>1</td>\n",
              "      <td>1</td>\n",
              "      <td>0.999468</td>\n",
              "    </tr>\n",
              "    <tr>\n",
              "      <th>32</th>\n",
              "      <td>Comforting lentil dal curry, featuring nutty l...</td>\n",
              "      <td>1</td>\n",
              "      <td>1</td>\n",
              "      <td>0.999469</td>\n",
              "    </tr>\n",
              "  </tbody>\n",
              "</table>\n",
              "</div>\n",
              "    <div class=\"colab-df-buttons\">\n",
              "\n",
              "  <div class=\"colab-df-container\">\n",
              "    <button class=\"colab-df-convert\" onclick=\"convertToInteractive('df-916f14dd-3193-4753-acbc-e6dd19946ed0')\"\n",
              "            title=\"Convert this dataframe to an interactive table.\"\n",
              "            style=\"display:none;\">\n",
              "\n",
              "  <svg xmlns=\"http://www.w3.org/2000/svg\" height=\"24px\" viewBox=\"0 -960 960 960\">\n",
              "    <path d=\"M120-120v-720h720v720H120Zm60-500h600v-160H180v160Zm220 220h160v-160H400v160Zm0 220h160v-160H400v160ZM180-400h160v-160H180v160Zm440 0h160v-160H620v160ZM180-180h160v-160H180v160Zm440 0h160v-160H620v160Z\"/>\n",
              "  </svg>\n",
              "    </button>\n",
              "\n",
              "  <style>\n",
              "    .colab-df-container {\n",
              "      display:flex;\n",
              "      gap: 12px;\n",
              "    }\n",
              "\n",
              "    .colab-df-convert {\n",
              "      background-color: #E8F0FE;\n",
              "      border: none;\n",
              "      border-radius: 50%;\n",
              "      cursor: pointer;\n",
              "      display: none;\n",
              "      fill: #1967D2;\n",
              "      height: 32px;\n",
              "      padding: 0 0 0 0;\n",
              "      width: 32px;\n",
              "    }\n",
              "\n",
              "    .colab-df-convert:hover {\n",
              "      background-color: #E2EBFA;\n",
              "      box-shadow: 0px 1px 2px rgba(60, 64, 67, 0.3), 0px 1px 3px 1px rgba(60, 64, 67, 0.15);\n",
              "      fill: #174EA6;\n",
              "    }\n",
              "\n",
              "    .colab-df-buttons div {\n",
              "      margin-bottom: 4px;\n",
              "    }\n",
              "\n",
              "    [theme=dark] .colab-df-convert {\n",
              "      background-color: #3B4455;\n",
              "      fill: #D2E3FC;\n",
              "    }\n",
              "\n",
              "    [theme=dark] .colab-df-convert:hover {\n",
              "      background-color: #434B5C;\n",
              "      box-shadow: 0px 1px 3px 1px rgba(0, 0, 0, 0.15);\n",
              "      filter: drop-shadow(0px 1px 2px rgba(0, 0, 0, 0.3));\n",
              "      fill: #FFFFFF;\n",
              "    }\n",
              "  </style>\n",
              "\n",
              "    <script>\n",
              "      const buttonEl =\n",
              "        document.querySelector('#df-916f14dd-3193-4753-acbc-e6dd19946ed0 button.colab-df-convert');\n",
              "      buttonEl.style.display =\n",
              "        google.colab.kernel.accessAllowed ? 'block' : 'none';\n",
              "\n",
              "      async function convertToInteractive(key) {\n",
              "        const element = document.querySelector('#df-916f14dd-3193-4753-acbc-e6dd19946ed0');\n",
              "        const dataTable =\n",
              "          await google.colab.kernel.invokeFunction('convertToInteractive',\n",
              "                                                    [key], {});\n",
              "        if (!dataTable) return;\n",
              "\n",
              "        const docLinkHtml = 'Like what you see? Visit the ' +\n",
              "          '<a target=\"_blank\" href=https://colab.research.google.com/notebooks/data_table.ipynb>data table notebook</a>'\n",
              "          + ' to learn more about interactive tables.';\n",
              "        element.innerHTML = '';\n",
              "        dataTable['output_type'] = 'display_data';\n",
              "        await google.colab.output.renderOutput(dataTable, element);\n",
              "        const docLink = document.createElement('div');\n",
              "        docLink.innerHTML = docLinkHtml;\n",
              "        element.appendChild(docLink);\n",
              "      }\n",
              "    </script>\n",
              "  </div>\n",
              "\n",
              "\n",
              "    <div id=\"df-2b8f035d-d484-40c1-ae90-43a7dce26bbb\">\n",
              "      <button class=\"colab-df-quickchart\" onclick=\"quickchart('df-2b8f035d-d484-40c1-ae90-43a7dce26bbb')\"\n",
              "                title=\"Suggest charts\"\n",
              "                style=\"display:none;\">\n",
              "\n",
              "<svg xmlns=\"http://www.w3.org/2000/svg\" height=\"24px\"viewBox=\"0 0 24 24\"\n",
              "     width=\"24px\">\n",
              "    <g>\n",
              "        <path d=\"M19 3H5c-1.1 0-2 .9-2 2v14c0 1.1.9 2 2 2h14c1.1 0 2-.9 2-2V5c0-1.1-.9-2-2-2zM9 17H7v-7h2v7zm4 0h-2V7h2v10zm4 0h-2v-4h2v4z\"/>\n",
              "    </g>\n",
              "</svg>\n",
              "      </button>\n",
              "\n",
              "<style>\n",
              "  .colab-df-quickchart {\n",
              "      --bg-color: #E8F0FE;\n",
              "      --fill-color: #1967D2;\n",
              "      --hover-bg-color: #E2EBFA;\n",
              "      --hover-fill-color: #174EA6;\n",
              "      --disabled-fill-color: #AAA;\n",
              "      --disabled-bg-color: #DDD;\n",
              "  }\n",
              "\n",
              "  [theme=dark] .colab-df-quickchart {\n",
              "      --bg-color: #3B4455;\n",
              "      --fill-color: #D2E3FC;\n",
              "      --hover-bg-color: #434B5C;\n",
              "      --hover-fill-color: #FFFFFF;\n",
              "      --disabled-bg-color: #3B4455;\n",
              "      --disabled-fill-color: #666;\n",
              "  }\n",
              "\n",
              "  .colab-df-quickchart {\n",
              "    background-color: var(--bg-color);\n",
              "    border: none;\n",
              "    border-radius: 50%;\n",
              "    cursor: pointer;\n",
              "    display: none;\n",
              "    fill: var(--fill-color);\n",
              "    height: 32px;\n",
              "    padding: 0;\n",
              "    width: 32px;\n",
              "  }\n",
              "\n",
              "  .colab-df-quickchart:hover {\n",
              "    background-color: var(--hover-bg-color);\n",
              "    box-shadow: 0 1px 2px rgba(60, 64, 67, 0.3), 0 1px 3px 1px rgba(60, 64, 67, 0.15);\n",
              "    fill: var(--button-hover-fill-color);\n",
              "  }\n",
              "\n",
              "  .colab-df-quickchart-complete:disabled,\n",
              "  .colab-df-quickchart-complete:disabled:hover {\n",
              "    background-color: var(--disabled-bg-color);\n",
              "    fill: var(--disabled-fill-color);\n",
              "    box-shadow: none;\n",
              "  }\n",
              "\n",
              "  .colab-df-spinner {\n",
              "    border: 2px solid var(--fill-color);\n",
              "    border-color: transparent;\n",
              "    border-bottom-color: var(--fill-color);\n",
              "    animation:\n",
              "      spin 1s steps(1) infinite;\n",
              "  }\n",
              "\n",
              "  @keyframes spin {\n",
              "    0% {\n",
              "      border-color: transparent;\n",
              "      border-bottom-color: var(--fill-color);\n",
              "      border-left-color: var(--fill-color);\n",
              "    }\n",
              "    20% {\n",
              "      border-color: transparent;\n",
              "      border-left-color: var(--fill-color);\n",
              "      border-top-color: var(--fill-color);\n",
              "    }\n",
              "    30% {\n",
              "      border-color: transparent;\n",
              "      border-left-color: var(--fill-color);\n",
              "      border-top-color: var(--fill-color);\n",
              "      border-right-color: var(--fill-color);\n",
              "    }\n",
              "    40% {\n",
              "      border-color: transparent;\n",
              "      border-right-color: var(--fill-color);\n",
              "      border-top-color: var(--fill-color);\n",
              "    }\n",
              "    60% {\n",
              "      border-color: transparent;\n",
              "      border-right-color: var(--fill-color);\n",
              "    }\n",
              "    80% {\n",
              "      border-color: transparent;\n",
              "      border-right-color: var(--fill-color);\n",
              "      border-bottom-color: var(--fill-color);\n",
              "    }\n",
              "    90% {\n",
              "      border-color: transparent;\n",
              "      border-bottom-color: var(--fill-color);\n",
              "    }\n",
              "  }\n",
              "</style>\n",
              "\n",
              "      <script>\n",
              "        async function quickchart(key) {\n",
              "          const quickchartButtonEl =\n",
              "            document.querySelector('#' + key + ' button');\n",
              "          quickchartButtonEl.disabled = true;  // To prevent multiple clicks.\n",
              "          quickchartButtonEl.classList.add('colab-df-spinner');\n",
              "          try {\n",
              "            const charts = await google.colab.kernel.invokeFunction(\n",
              "                'suggestCharts', [key], {});\n",
              "          } catch (error) {\n",
              "            console.error('Error during call to suggestCharts:', error);\n",
              "          }\n",
              "          quickchartButtonEl.classList.remove('colab-df-spinner');\n",
              "          quickchartButtonEl.classList.add('colab-df-quickchart-complete');\n",
              "        }\n",
              "        (() => {\n",
              "          let quickchartButtonEl =\n",
              "            document.querySelector('#df-2b8f035d-d484-40c1-ae90-43a7dce26bbb button');\n",
              "          quickchartButtonEl.style.display =\n",
              "            google.colab.kernel.accessAllowed ? 'block' : 'none';\n",
              "        })();\n",
              "      </script>\n",
              "    </div>\n",
              "\n",
              "    </div>\n",
              "  </div>\n"
            ],
            "text/plain": [
              "                                                 text  true_label  pred_label  \\\n",
              "43                Set of muffin tins stacked together           0           0   \n",
              "40  A bowl of cherries with a sprig of mint for ga...           1           1   \n",
              "14  Two handfuls of bananas in a fruit bowl with g...           1           1   \n",
              "20  Pizza with a seafood theme, featuring toppings...           1           1   \n",
              "42  Boxes of apples, pears, pineapple, manadrins a...           1           1   \n",
              "26  A fruit platter with a variety of exotic fruit...           1           1   \n",
              "11  A close-up shot of a cheesy pizza slice being ...           1           1   \n",
              "35  Luxurious coconut shrimp curry on a generous p...           1           1   \n",
              "13  Comforting lamb curry bowl, featuring tender l...           1           1   \n",
              "32  Comforting lentil dal curry, featuring nutty l...           1           1   \n",
              "\n",
              "    pred_prob  \n",
              "43   0.998576  \n",
              "40   0.999384  \n",
              "14   0.999455  \n",
              "20   0.999460  \n",
              "42   0.999461  \n",
              "26   0.999462  \n",
              "11   0.999465  \n",
              "35   0.999466  \n",
              "13   0.999468  \n",
              "32   0.999469  "
            ]
          },
          "execution_count": 93,
          "metadata": {},
          "output_type": "execute_result"
        }
      ],
      "source": [
        "# Show 10 examples with low prediction probability\n",
        "test_predictions_df.sort_values(\"pred_prob\", ascending=True).head(10)"
      ]
    },
    {
      "cell_type": "markdown",
      "metadata": {
        "id": "dp3ouG-wyw0x"
      },
      "source": [
        "## Making and inspecting predictions on custom text data"
      ]
    },
    {
      "cell_type": "code",
      "execution_count": 94,
      "metadata": {
        "id": "Nvf86UP0-ciP"
      },
      "outputs": [],
      "source": [
        "local_model_path = \"models/hg_tutorial_food_not_food_text_classifier_distilbert_base_uncased\"\n",
        "huggingface_model_path = \"Saint5/hg_tutorial_food_not_food_text_classifier_distilbert_base_uncased\""
      ]
    },
    {
      "cell_type": "markdown",
      "metadata": {
        "id": "2ckLpxeby5uD"
      },
      "source": [
        "### Discussing ways to make predictions (inference)"
      ]
    },
    {
      "cell_type": "code",
      "execution_count": 95,
      "metadata": {
        "colab": {
          "base_uri": "https://localhost:8080/"
        },
        "id": "96qE4tRpnEc1",
        "outputId": "ce9e15c1-71f7-4e8d-b8a7-b9977fba8693"
      },
      "outputs": [
        {
          "name": "stdout",
          "output_type": "stream",
          "text": [
            "[NOTICE!!] Using device: cuda\n"
          ]
        }
      ],
      "source": [
        "# Setup the device for making predictions\n",
        "# The faster the hardware accelerator the faster the predictions.\n",
        "def set_device():\n",
        "  if torch.cuda.is_available():\n",
        "    device = torch.device('cuda')\n",
        "  elif torch.backends.mps.is_available() and torch.backends.mps.is_built(): # for mac\n",
        "    device = torch.device('mps')\n",
        "  else:\n",
        "    device = torch.device('cpu')\n",
        "  return device\n",
        "\n",
        "DEVICE = set_device()\n",
        "print(f\"[NOTICE!!] Using device: {DEVICE}\")"
      ]
    },
    {
      "cell_type": "markdown",
      "metadata": {
        "id": "XzTtwY8q54P4"
      },
      "source": [
        "### Making predictions with pipeline mode"
      ]
    },
    {
      "cell_type": "code",
      "execution_count": 96,
      "metadata": {
        "colab": {
          "base_uri": "https://localhost:8080/"
        },
        "id": "y0cJ5m2T2hKv",
        "outputId": "d639a14e-c769-4b4d-e2f6-86242a0257c9"
      },
      "outputs": [
        {
          "name": "stderr",
          "output_type": "stream",
          "text": [
            "Device set to use cuda\n"
          ]
        },
        {
          "data": {
            "text/plain": [
              "<transformers.pipelines.text_classification.TextClassificationPipeline at 0x7d71ba07fa10>"
            ]
          },
          "execution_count": 96,
          "metadata": {},
          "output_type": "execute_result"
        }
      ],
      "source": [
        "import torch\n",
        "from transformers import pipeline\n",
        "\n",
        "# Set the batch size\n",
        "BATCH_SIZE = 32\n",
        "\n",
        "# Create an instance of transformers.pipeline\n",
        "food_not_food_classifier = pipeline(task=\"text-classification\",\n",
        "                                    model=local_model_path,\n",
        "                                    device=DEVICE,\n",
        "                                    top_k=1,\n",
        "                                    batch_size=BATCH_SIZE)\n",
        "\n",
        "food_not_food_classifier"
      ]
    },
    {
      "cell_type": "code",
      "execution_count": 97,
      "metadata": {
        "colab": {
          "base_uri": "https://localhost:8080/"
        },
        "id": "Y41tNzUW61_i",
        "outputId": "e4fe922a-d458-4f25-8449-6a9e97d2407d"
      },
      "outputs": [
        {
          "data": {
            "text/plain": [
              "[[{'label': 'food', 'score': 0.9969866871833801}]]"
            ]
          },
          "execution_count": 97,
          "metadata": {},
          "output_type": "execute_result"
        }
      ],
      "source": [
        "test_custom_sentence=\"Did you eat all the pasta?\"\n",
        "food_not_food_classifier(test_custom_sentence)"
      ]
    },
    {
      "cell_type": "code",
      "execution_count": 98,
      "metadata": {
        "id": "dhhnk03KCnBo"
      },
      "outputs": [],
      "source": [
        "not_food_sentence = \"Where is my laptop that I used to order coffee with?\""
      ]
    },
    {
      "cell_type": "code",
      "execution_count": 99,
      "metadata": {
        "colab": {
          "base_uri": "https://localhost:8080/"
        },
        "id": "2NiBQD50C1b4",
        "outputId": "33db8e55-f862-4f81-dd8a-2b6aedc6eace"
      },
      "outputs": [
        {
          "data": {
            "text/plain": [
              "[[{'label': 'not_food', 'score': 0.9993784427642822}]]"
            ]
          },
          "execution_count": 99,
          "metadata": {},
          "output_type": "execute_result"
        }
      ],
      "source": [
        "food_not_food_classifier(not_food_sentence)"
      ]
    },
    {
      "cell_type": "code",
      "execution_count": 100,
      "metadata": {
        "id": "UnMnLoQTA-4H"
      },
      "outputs": [],
      "source": [
        "del food_not_food_classifier"
      ]
    },
    {
      "cell_type": "code",
      "execution_count": 101,
      "metadata": {
        "colab": {
          "base_uri": "https://localhost:8080/",
          "height": 245,
          "referenced_widgets": [
            "f83d495b76004062b93ca396a04ad69d",
            "d976be3a3cb2429f9a1c61be9ef74f23",
            "8c8ef81efb494a028e8222e615efc488",
            "d518feaab45444fea8cfe32456c98728",
            "12bd997037fb463292149a847d11f5dd",
            "dd79913927064ed49c1fa895247fbf72",
            "c9aead4b8f94409eb14dbafc7a77f304",
            "350b2527fa2b4066bef551dd6e2521b4",
            "4500514192d34954a73fb157dfaf7f84",
            "a7112c960540468681208bc1f028ebe4",
            "0f95205cb8f34f0082c6db0f567a2de1",
            "1cba44ecfe414a28aceff6ecae5926e2",
            "44190a47b0ab426ab320890df88c4cf5",
            "0363c2e67346489fbe7cf0d0e4d9b68f",
            "a19edd03018c4207abf6832b114c499b",
            "aec3a49f7b0044e3aed23a4cc43f1bc9",
            "e179e17d305b4aa7aa498b9ae081fe63",
            "af469063a38b48048735f65d96d7ff0e",
            "fee052bb980d4c848fc0f26eaa7baf5e",
            "1b110962920648b4bda437ab5d1a81b2",
            "d10fb73534434c858280ca39b8973785",
            "de6862b4134b4f958081505814f5d867",
            "ca6866704a5d4179a3a12eac7c8d39e6",
            "319f32b40f314d26b06c636695007ab2",
            "02e3442efeb84fb5bd1427a8c5d81650",
            "e065af217cb7433e8aeb58462dc5b718",
            "b1855ebfd28b4d5dbc444214d49d7d95",
            "7308ff29398244eba4e527ace81831a1",
            "44e0e7c04ade4d91a3636e0124bfc48d",
            "b5e94a01d9ff4c7ab22ae63a5600cae3",
            "2e9c2c9e52424451986800c98459c1bc",
            "c9cb822340f847bfb42c20b20e82ed63",
            "7e2cc9ba2f0647f796988ddc8b446a49",
            "687a2bc6f1524287b0b261386f8d0169",
            "801001e6f8a74ab096f6548f328ebe5a",
            "316c9c9beff840a1b50a72488c1bad23",
            "8d334e99666f462cbdf5cbbe27ed582f",
            "ec05144df5ea46018599e0aaceb0da64",
            "08825ec438a8471a88d1eee480d4942e",
            "dd446b9a13004f4c8d1bbd862bc8de30",
            "41dd0598e50d4f94b7adca581d8a4e0b",
            "7ca71cc05be84b3280c5ebc9ed7170a3",
            "5acd2c5e2b5d4be19b171f3e09ad2ccd",
            "9e4bc6912482472cae02fd4ec83b8fac",
            "a02448fa14cb4d9b93d31b9c51f05e5f",
            "81f69c9e3f0547df83712af6531487b1",
            "e49ce99c4d5a4e2f81ab5844e2b0fd1f",
            "dc9d3f5311b64a3cb2ab36c05f1b8b6e",
            "29c1b217afb04dfbbc89e692c5b196b5",
            "fec79715465f4118b7f64dafc60226c4",
            "edfce45aa02e432aa7480c793098beb6",
            "9d3e6103dc984f9ba9744d41abd041a7",
            "bf290fe5dcb34090be8793be73cf0c07",
            "2b5af4cc56c54e23a8fca444d7874967",
            "5cd4f277b70a49b8b2a791ab78fb02ec",
            "e33c8a5a8f39442ebc4e97ba5cff8f9a",
            "b828114f9a69471695a6481d001a5814",
            "1480eccdf400415c8c9390559c78d68d",
            "2df55db51ec04b2790e425e9a59622da",
            "920fb28e389d4ccaa9fe89c50b54fcc8",
            "79ab088b55594167a13264eb4ca01558",
            "5a6f7aabdc99435c858cfdc790552cb7",
            "006cd9301d1541b78680a7ff26a95e73",
            "46eef4d6f5ab45289bf07d52de7bc7a6",
            "6b6b0c38adce460e956322cbc3d3a892",
            "2f405069ae1d49b896c6bee571ed3642"
          ]
        },
        "id": "pp89TR71CPmF",
        "outputId": "cfcc7e6b-f962-4754-f4c5-98e57a5dc0e2"
      },
      "outputs": [
        {
          "data": {
            "application/vnd.jupyter.widget-view+json": {
              "model_id": "f83d495b76004062b93ca396a04ad69d",
              "version_major": 2,
              "version_minor": 0
            },
            "text/plain": [
              "config.json:   0%|          | 0.00/681 [00:00<?, ?B/s]"
            ]
          },
          "metadata": {},
          "output_type": "display_data"
        },
        {
          "data": {
            "application/vnd.jupyter.widget-view+json": {
              "model_id": "1cba44ecfe414a28aceff6ecae5926e2",
              "version_major": 2,
              "version_minor": 0
            },
            "text/plain": [
              "model.safetensors:   0%|          | 0.00/268M [00:00<?, ?B/s]"
            ]
          },
          "metadata": {},
          "output_type": "display_data"
        },
        {
          "data": {
            "application/vnd.jupyter.widget-view+json": {
              "model_id": "ca6866704a5d4179a3a12eac7c8d39e6",
              "version_major": 2,
              "version_minor": 0
            },
            "text/plain": [
              "tokenizer_config.json:   0%|          | 0.00/1.23k [00:00<?, ?B/s]"
            ]
          },
          "metadata": {},
          "output_type": "display_data"
        },
        {
          "data": {
            "application/vnd.jupyter.widget-view+json": {
              "model_id": "687a2bc6f1524287b0b261386f8d0169",
              "version_major": 2,
              "version_minor": 0
            },
            "text/plain": [
              "vocab.txt:   0%|          | 0.00/232k [00:00<?, ?B/s]"
            ]
          },
          "metadata": {},
          "output_type": "display_data"
        },
        {
          "data": {
            "application/vnd.jupyter.widget-view+json": {
              "model_id": "a02448fa14cb4d9b93d31b9c51f05e5f",
              "version_major": 2,
              "version_minor": 0
            },
            "text/plain": [
              "tokenizer.json:   0%|          | 0.00/712k [00:00<?, ?B/s]"
            ]
          },
          "metadata": {},
          "output_type": "display_data"
        },
        {
          "data": {
            "application/vnd.jupyter.widget-view+json": {
              "model_id": "e33c8a5a8f39442ebc4e97ba5cff8f9a",
              "version_major": 2,
              "version_minor": 0
            },
            "text/plain": [
              "special_tokens_map.json:   0%|          | 0.00/125 [00:00<?, ?B/s]"
            ]
          },
          "metadata": {},
          "output_type": "display_data"
        },
        {
          "name": "stderr",
          "output_type": "stream",
          "text": [
            "Device set to use cuda\n"
          ]
        },
        {
          "data": {
            "text/plain": [
              "[[{'label': 'not_food', 'score': 0.9993784427642822}]]"
            ]
          },
          "execution_count": 101,
          "metadata": {},
          "output_type": "execute_result"
        }
      ],
      "source": [
        "# Using pipeline with a model from Hugging Face\n",
        "food_not_food_classifier = pipeline(task=\"text-classification\",\n",
        "                                    model=huggingface_model_path,\n",
        "                                    device=DEVICE,\n",
        "                                    top_k=1,\n",
        "                                    batch_size=BATCH_SIZE)\n",
        "food_not_food_classifier(not_food_sentence)"
      ]
    },
    {
      "cell_type": "markdown",
      "metadata": {
        "id": "fubcYyFnD7qE"
      },
      "source": [
        "### Making multiple predictions"
      ]
    },
    {
      "cell_type": "code",
      "execution_count": 102,
      "metadata": {
        "colab": {
          "base_uri": "https://localhost:8080/"
        },
        "id": "ToWqk5zNDWLV",
        "outputId": "dd506e0e-f49c-4434-9fc1-d9472402e5a1"
      },
      "outputs": [
        {
          "data": {
            "text/plain": [
              "[[{'label': 'food', 'score': 0.8415461182594299}],\n",
              " [{'label': 'not_food', 'score': 0.9883488416671753}],\n",
              " [{'label': 'food', 'score': 0.9968271851539612}],\n",
              " [{'label': 'not_food', 'score': 0.8157719969749451}],\n",
              " [{'label': 'not_food', 'score': 0.9705728888511658}],\n",
              " [{'label': 'not_food', 'score': 0.9828698039054871}],\n",
              " [{'label': 'not_food', 'score': 0.5466797947883606}],\n",
              " [{'label': 'food', 'score': 0.9994127750396729}],\n",
              " [{'label': 'not_food', 'score': 0.9820641279220581}],\n",
              " [{'label': 'food', 'score': 0.9991138577461243}]]"
            ]
          },
          "execution_count": 102,
          "metadata": {},
          "output_type": "execute_result"
        }
      ],
      "source": [
        "# Create a list of sentences to make predictions on\n",
        "sentences = [\n",
        "    \"I whipped up a fresh batch of code, but it seems to have a syntax error.\",\n",
        "    \"We need to marinate these ideas overnight before presenting them to the client.\",\n",
        "    \"The new software is definitely a spicy upgrade, taking some time to get used to.\",\n",
        "    \"Her social media post was the perfect recipe for a viral sensation.\",\n",
        "    \"He served up a rebuttal full of facts, leaving his opponent speechless.\",\n",
        "    \"The team needs to simmer down a bit before tackling the next challenge.\",\n",
        "    \"The presentation was a delicious blend of humor and information, keeping the audience engaged.\",\n",
        "    \"A beautiful array of fake wax foods (shokuhin sampuru) in the front of a Japanese restaurant.\",\n",
        "    \"Daniel Bourke is really cool :D\",\n",
        "    \"My favoruite food is biltong!\"\n",
        "]\n",
        "\n",
        "food_not_food_classifier(sentences)"
      ]
    },
    {
      "cell_type": "code",
      "execution_count": 103,
      "metadata": {
        "id": "NQSkLgEmMcp-"
      },
      "outputs": [],
      "source": [
        "example_sentence_batch = [\n",
        "    \"I baked a delicious apple pie for dessert last night.\",\n",
        "    \"The meeting was a stew of different opinions and ideas.\",\n",
        "    \"She whipped up a fantastic pasta dish for dinner.\",\n",
        "    \"The project was a recipe for disaster from the start.\",\n",
        "    \"He grilled some burgers and hot dogs for the barbecue.\",\n",
        "    \"The team needs to cook up a new strategy to win the game.\",\n",
        "    \"We enjoyed a gourmet meal at the new French restaurant downtown.\",\n",
        "    \"The presentation was a feast for the eyes with its vibrant visuals.\",\n",
        "    \"She prepared a fresh salad with tomatoes, cucumbers, and lettuce.\",\n",
        "    \"The software update is a hot dish of new features and improvements.\",\n",
        "    \"He ordered a large pizza with extra cheese and pepperoni.\",\n",
        "    \"The debate was a simmering pot of conflicting viewpoints.\",\n",
        "    \"We had a delightful spread of sushi and sashimi at the party.\",\n",
        "    \"The book was a rich blend of history and fiction.\",\n",
        "    \"She made a batch of chocolate chip cookies for the bake sale.\"\n",
        "]"
      ]
    },
    {
      "cell_type": "code",
      "execution_count": 104,
      "metadata": {
        "colab": {
          "base_uri": "https://localhost:8080/"
        },
        "id": "K6x4W8jFNCd6",
        "outputId": "9d265f8c-cbb7-4c08-e7f5-50b8998e9e19"
      },
      "outputs": [
        {
          "data": {
            "text/plain": [
              "[[{'label': 'food', 'score': 0.9994518160820007}],\n",
              " [{'label': 'not_food', 'score': 0.9856306910514832}],\n",
              " [{'label': 'food', 'score': 0.9991784691810608}],\n",
              " [{'label': 'not_food', 'score': 0.9615810513496399}],\n",
              " [{'label': 'food', 'score': 0.9994388222694397}],\n",
              " [{'label': 'not_food', 'score': 0.9974138140678406}],\n",
              " [{'label': 'food', 'score': 0.6370210647583008}],\n",
              " [{'label': 'not_food', 'score': 0.8110537528991699}],\n",
              " [{'label': 'food', 'score': 0.9994663596153259}],\n",
              " [{'label': 'not_food', 'score': 0.9541054964065552}],\n",
              " [{'label': 'food', 'score': 0.9994712471961975}],\n",
              " [{'label': 'not_food', 'score': 0.9327818751335144}],\n",
              " [{'label': 'food', 'score': 0.9994279742240906}],\n",
              " [{'label': 'not_food', 'score': 0.7649184465408325}],\n",
              " [{'label': 'food', 'score': 0.9994226694107056}]]"
            ]
          },
          "execution_count": 104,
          "metadata": {},
          "output_type": "execute_result"
        }
      ],
      "source": [
        "food_not_food_classifier(example_sentence_batch)\n",
        "# model is inaccurate\n",
        "# To improve, take the examples that the model got wrong and use them to retrain the model"
      ]
    },
    {
      "cell_type": "markdown",
      "metadata": {
        "id": "tK7KeWMRPX7W"
      },
      "source": [
        "## Time the model across larger sample sizes"
      ]
    },
    {
      "cell_type": "code",
      "execution_count": 105,
      "metadata": {
        "colab": {
          "base_uri": "https://localhost:8080/"
        },
        "id": "BL7DEtINNJFh",
        "outputId": "a9a485fe-1939-44b4-deb3-07d0cec3824a"
      },
      "outputs": [
        {
          "data": {
            "text/plain": [
              "25"
            ]
          },
          "execution_count": 105,
          "metadata": {},
          "output_type": "execute_result"
        }
      ],
      "source": [
        "sentence_batch = sentences + example_sentence_batch\n",
        "len(sentence_batch)"
      ]
    },
    {
      "cell_type": "code",
      "execution_count": 106,
      "metadata": {
        "colab": {
          "base_uri": "https://localhost:8080/"
        },
        "id": "_Vsg1DNsP9pV",
        "outputId": "917ec7af-9993-4f4e-bd17-78b0a0162b7d"
      },
      "outputs": [
        {
          "name": "stderr",
          "output_type": "stream",
          "text": [
            "You seem to be using the pipelines sequentially on GPU. In order to maximize efficiency please use a dataset\n"
          ]
        },
        {
          "name": "stdout",
          "output_type": "stream",
          "text": [
            "[INFO] Number of sentences: 1000\n",
            "[INFO] Total time for making predictions on 1000 samples one at a time is: 5.18861198425293 seconds\n",
            "[INFO] Avg time per prediction one at a time: 0.00518861198425293 seconds\n"
          ]
        }
      ],
      "source": [
        "import time\n",
        "\n",
        "# Create 1000 sentences\n",
        "sentences_1000 = sentence_batch*40\n",
        "\n",
        "# Time how long it takes to make predictions on all sentences (one at a time)\n",
        "print(f\"[INFO] Number of sentences: {len(sentences_1000)}\")\n",
        "start_timer_one_at_time = time.time()\n",
        "for sentence in sentences_1000:\n",
        "  # Make a prediction\n",
        "  food_not_food_classifier(sentence)\n",
        "end_timer_one_at_time = time.time()\n",
        "\n",
        "total_time_one_at_time = end_timer_one_at_time - start_timer_one_at_time\n",
        "avg_time_taken = total_time_one_at_time/len(sentences_1000)\n",
        "print(f\"[INFO] Total time for making predictions on {len(sentences_1000)} samples one at a time is: {total_time_one_at_time} seconds\")\n",
        "print(f\"[INFO] Avg time per prediction one at a time: {avg_time_taken} seconds\")"
      ]
    },
    {
      "cell_type": "code",
      "execution_count": 107,
      "metadata": {
        "colab": {
          "base_uri": "https://localhost:8080/"
        },
        "id": "gTvI97hkQFH5",
        "outputId": "fad74e3e-ff97-47c7-dcbd-86ac00211184"
      },
      "outputs": [
        {
          "name": "stdout",
          "output_type": "stream",
          "text": [
            "[INFO] Number of sentences: 250\n",
            "[INFO] Inference time for 250 sentences batch mode: 0.225915\n",
            "[INFO] Avg inference time per sentence: 0.000904\n",
            "\n",
            "[INFO] Number of sentences: 2500\n",
            "[INFO] Inference time for 2500 sentences batch mode: 1.972903\n",
            "[INFO] Avg inference time per sentence: 0.000789\n",
            "\n",
            "[INFO] Number of sentences: 25000\n",
            "[INFO] Inference time for 25000 sentences batch mode: 20.076502\n",
            "[INFO] Avg inference time per sentence: 0.000803\n",
            "\n",
            "[INFO] Number of sentences: 250000\n",
            "[INFO] Inference time for 250000 sentences batch mode: 220.057493\n",
            "[INFO] Avg inference time per sentence: 0.00088\n",
            "\n"
          ]
        }
      ],
      "source": [
        "#  Using pipeline in batches\n",
        "for i in [10, 100, 1000, 10000]:\n",
        "  sentences_big = sentence_batch*i\n",
        "  print(f\"[INFO] Number of sentences: {len(sentences_big)}\")\n",
        "\n",
        "  start_time = time.time()\n",
        "  # Predict on all sentences in batch mode\n",
        "  food_not_food_classifier(sentences_big)\n",
        "  end_time = time.time()\n",
        "\n",
        "  total_time_per_all_sentences_batch_mode = end_time - start_time\n",
        "  avg_time_per_sentence_batch_mode = total_time_per_all_sentences_batch_mode/len(sentences_big)\n",
        "\n",
        "  print(f\"[INFO] Inference time for {len(sentences_big)} sentences batch mode: {round(total_time_per_all_sentences_batch_mode, 6)}\")\n",
        "  print(f\"[INFO] Avg inference time per sentence: {round(avg_time_per_sentence_batch_mode, 6)}\")\n",
        "  print()"
      ]
    },
    {
      "cell_type": "markdown",
      "metadata": {
        "id": "zWYclT3zaH0P"
      },
      "source": [
        "### Making predictions with PyTorch\n",
        "Steps:\n",
        "1. Create tokenizer with `AutoTokenizer`.\n",
        "2. Create the model with AutoModel (AutoModelForSequenceClassification).\n",
        "3. Tokenize text with 1\n",
        "4. Make prediction with 2\n",
        "5. Format predction"
      ]
    },
    {
      "cell_type": "code",
      "execution_count": 108,
      "metadata": {
        "colab": {
          "base_uri": "https://localhost:8080/"
        },
        "id": "JtSh4ZaXYUmj",
        "outputId": "31c9c905-eb33-4ba3-ee19-97348f07bcb2"
      },
      "outputs": [
        {
          "data": {
            "text/plain": [
              "{'input_ids': tensor([[  101,  1037, 12090,  6302,  1997, 16876, 20920,  9850,   102]]), 'attention_mask': tensor([[1, 1, 1, 1, 1, 1, 1, 1, 1]])}"
            ]
          },
          "execution_count": 108,
          "metadata": {},
          "output_type": "execute_result"
        }
      ],
      "source": [
        "from transformers import AutoTokenizer\n",
        "\n",
        "# Setup the model path\n",
        "model_path = huggingface_model_path\n",
        "\n",
        "# Create an example to predict on\n",
        "sample_food_text = \"A delicious photo of strawberry lavender cake\"\n",
        "\n",
        "# Prepare tokenizer\n",
        "tokenizer = AutoTokenizer.from_pretrained(pretrained_model_name_or_path=model_path)\n",
        "inputs = tokenizer(sample_food_text,\n",
        "                   return_tensors='pt') # 'pt' stands for PyTorch\n",
        "inputs"
      ]
    },
    {
      "cell_type": "code",
      "execution_count": 109,
      "metadata": {
        "colab": {
          "base_uri": "https://localhost:8080/"
        },
        "id": "YIeIOuemcPOm",
        "outputId": "496616a3-de58-4717-c190-86b7c093db44"
      },
      "outputs": [
        {
          "data": {
            "text/plain": [
              "DistilBertForSequenceClassification(\n",
              "  (distilbert): DistilBertModel(\n",
              "    (embeddings): Embeddings(\n",
              "      (word_embeddings): Embedding(30522, 768, padding_idx=0)\n",
              "      (position_embeddings): Embedding(512, 768)\n",
              "      (LayerNorm): LayerNorm((768,), eps=1e-12, elementwise_affine=True)\n",
              "      (dropout): Dropout(p=0.1, inplace=False)\n",
              "    )\n",
              "    (transformer): Transformer(\n",
              "      (layer): ModuleList(\n",
              "        (0-5): 6 x TransformerBlock(\n",
              "          (attention): DistilBertSdpaAttention(\n",
              "            (dropout): Dropout(p=0.1, inplace=False)\n",
              "            (q_lin): Linear(in_features=768, out_features=768, bias=True)\n",
              "            (k_lin): Linear(in_features=768, out_features=768, bias=True)\n",
              "            (v_lin): Linear(in_features=768, out_features=768, bias=True)\n",
              "            (out_lin): Linear(in_features=768, out_features=768, bias=True)\n",
              "          )\n",
              "          (sa_layer_norm): LayerNorm((768,), eps=1e-12, elementwise_affine=True)\n",
              "          (ffn): FFN(\n",
              "            (dropout): Dropout(p=0.1, inplace=False)\n",
              "            (lin1): Linear(in_features=768, out_features=3072, bias=True)\n",
              "            (lin2): Linear(in_features=3072, out_features=768, bias=True)\n",
              "            (activation): GELUActivation()\n",
              "          )\n",
              "          (output_layer_norm): LayerNorm((768,), eps=1e-12, elementwise_affine=True)\n",
              "        )\n",
              "      )\n",
              "    )\n",
              "  )\n",
              "  (pre_classifier): Linear(in_features=768, out_features=768, bias=True)\n",
              "  (classifier): Linear(in_features=768, out_features=2, bias=True)\n",
              "  (dropout): Dropout(p=0.2, inplace=False)\n",
              ")"
            ]
          },
          "execution_count": 109,
          "metadata": {},
          "output_type": "execute_result"
        }
      ],
      "source": [
        "from transformers import AutoModelForSequenceClassification\n",
        "\n",
        "# Load the text classification model\n",
        "model = AutoModelForSequenceClassification.from_pretrained(pretrained_model_name_or_path=model_path)\n",
        "model"
      ]
    },
    {
      "cell_type": "code",
      "execution_count": 110,
      "metadata": {
        "colab": {
          "base_uri": "https://localhost:8080/"
        },
        "id": "tioz6PjKR8XC",
        "outputId": "d4b59491-bf97-4908-d799-0a05501f8b13"
      },
      "outputs": [
        {
          "data": {
            "text/plain": [
              "SequenceClassifierOutput(loss=None, logits=tensor([[-3.7648,  3.7127]]), hidden_states=None, attentions=None)"
            ]
          },
          "execution_count": 110,
          "metadata": {},
          "output_type": "execute_result"
        }
      ],
      "source": [
        "import torch\n",
        "\n",
        "model.eval()\n",
        "# with torch.no_grad()\n",
        "with torch.inference_mode():\n",
        "  outputs = model(**inputs) # \"**\" (keyword arguments) means input all of the dictionary keys as named arguments/parameters\n",
        "  outputs_verbose = model(input_ids=inputs['input_ids'],\n",
        "                          attention_mask=inputs['attention_mask'])\n",
        "outputs"
      ]
    },
    {
      "cell_type": "code",
      "execution_count": 111,
      "metadata": {
        "colab": {
          "base_uri": "https://localhost:8080/"
        },
        "id": "OWBEbxwWUwMU",
        "outputId": "02453044-596a-4586-bbda-22369065c37e"
      },
      "outputs": [
        {
          "data": {
            "text/plain": [
              "SequenceClassifierOutput(loss=None, logits=tensor([[-3.7648,  3.7127]]), hidden_states=None, attentions=None)"
            ]
          },
          "execution_count": 111,
          "metadata": {},
          "output_type": "execute_result"
        }
      ],
      "source": [
        "outputs_verbose"
      ]
    },
    {
      "cell_type": "code",
      "execution_count": 112,
      "metadata": {
        "colab": {
          "base_uri": "https://localhost:8080/"
        },
        "id": "mpc3zl0TWWCK",
        "outputId": "af2077f8-73aa-47e1-b93c-1f1662d75219"
      },
      "outputs": [
        {
          "data": {
            "text/plain": [
              "{0: 'not_food', 1: 'food'}"
            ]
          },
          "execution_count": 112,
          "metadata": {},
          "output_type": "execute_result"
        }
      ],
      "source": [
        "model.config.id2label"
      ]
    },
    {
      "cell_type": "code",
      "execution_count": 113,
      "metadata": {
        "colab": {
          "base_uri": "https://localhost:8080/"
        },
        "id": "kh5d9DtWUwI6",
        "outputId": "23102725-db50-4974-cf39-bc6e9d8a8946"
      },
      "outputs": [
        {
          "name": "stdout",
          "output_type": "stream",
          "text": [
            "Text: A delicious photo of strawberry lavender cake\n",
            "Predicted lable: food\n",
            "Prediction probability: 0.9994346499443054\n"
          ]
        }
      ],
      "source": [
        "# Convert logits to prediction probability + label\n",
        "predicted_class_id = outputs.logits.argmax().item() # '.item()' makes it to be no longer a tensor\n",
        "predicted_probability = torch.softmax(outputs.logits, dim=1).max().item()\n",
        "\n",
        "print(f\"Text: {sample_food_text}\")\n",
        "print(f\"Predicted label: {model.config.id2label[predicted_class_id]}\")\n",
        "print(f\"Prediction probability: {predicted_probability}\")"
      ]
    },
    {
      "cell_type": "code",
      "execution_count": 114,
      "metadata": {
        "colab": {
          "base_uri": "https://localhost:8080/"
        },
        "id": "BnAQPmIMUwGx",
        "outputId": "f0edfb3a-6d65-4e43-8d8e-f3e18e18cc4f"
      },
      "outputs": [
        {
          "data": {
            "text/plain": [
              "[[{'label': 'food', 'score': 0.9994346499443054}]]"
            ]
          },
          "execution_count": 114,
          "metadata": {},
          "output_type": "execute_result"
        }
      ],
      "source": [
        "food_not_food_classifier(sample_food_text)"
      ]
    },
    {
      "cell_type": "markdown",
      "metadata": {
        "id": "PYvtmFpocKnk"
      },
      "source": [
        "## **PUTTING IT ALL TOGETHER**"
      ]
    },
    {
      "cell_type": "code",
      "execution_count": 115,
      "metadata": {
        "colab": {
          "base_uri": "https://localhost:8080/",
          "height": 879,
          "referenced_widgets": [
            "9c06fa5220da4df38d038effead8daa0",
            "f4cef1b2db2c410bae1563c616da04ac",
            "79ff14bb2387401993dbeaa0c36507bc",
            "970e88d5962e4bfa9a2cadba271cdf07",
            "6a4812b6f3a94cdc92f112cb7ce057e6",
            "ee5a8a51849442098525e79a6bc72e26",
            "d165456c92e34d95ac539455b27c1e1b",
            "279ba8353cdc40d68495ad1880e08abf",
            "a2e5d37b10e14de6aedcfef8b0464371",
            "62047fa8b9394253903c0dcdc6db5f63",
            "f129e70de9d4493a819415164c7442e2",
            "e385eb288bc7418881be0f55cb1b5c13",
            "d13fc7f7b5134870a6c2b58a233aee33",
            "bccdefacd75848799a6e037e2d597d4d",
            "fc7eb6bc470c45c19088defa312b5aa5",
            "b058315d8ca74fac84c339b43ae31989",
            "4725eac6612f444ea52719d540649c7d",
            "c82fc1803387417bab3104756c542d47",
            "1f5000a7352148b5b151f75ace835dcb",
            "ca3c3ffb79874410937cfd4145c030a9",
            "15c83fd02a2b4e8e80a587b0d95a28f0",
            "db444554c7ad42f689b7c7ccea765ad7",
            "f2aae72b4392489395d3aa842afafc0e",
            "2c9cb3718a764abea81d4cef38783a41",
            "6683e7076cee4bd7bfa6a0c15e2bd229",
            "2e763b19844941519afa8b659a3cad2f",
            "b54a4c09696b4884917f2ab18542f4d1",
            "054bf636953e4eeca573862682b28014",
            "b11992316a604e4fb7d4b7555e3b05e1",
            "6c256cefc55e4409a64b290f94417384",
            "a819cd72d0aa4e8aa997f0ea32ea72ad",
            "32f948cc2a7346b28377d77d39e72bd2",
            "00f8f2d61e2e46aba9a07e3365314890",
            "106048de227044419a8f447e5d3bd73f",
            "b6f30d6d42174631b39701b3f579ce84",
            "a308e0a825574e6383a27e4111553c2b",
            "1085568f4fba445abb857f01e3ac2bba",
            "e5e00c7ae35c40549cc6345455a72459",
            "3a1517423d7c469bb401318ec4d15fc9",
            "b8a8d66788fa4171a1b2ffd35693cd13",
            "f5f5b08253e247ed9fe27b47f50f3cc8",
            "22fc54ea11da4815a0a239aeed036191",
            "20e0ddda42264ae6a233912069857639",
            "14838f312c404eaab20f6903e3470968",
            "98f346aefc044b95901ce3cc66244aef",
            "899954f0f16a42a7a9073bf1a230f76f",
            "2ecc1737dd6b4023861034b6d3129bb8",
            "d0e175a25b7e412e8860b45360f213af",
            "ae3c98942dae46df82d3f3010f89ace8",
            "8a4d16738dcd4a65a69d45233f950437",
            "6d3eaa67e0df47c3a612ffd008e4a67a",
            "dfaed276417e4e91bd798d7a938a9fd9",
            "047604423f514673901d2b1a54f3feae",
            "ccf8f3fbdcb14b19965b6bdd4b37a7e2",
            "8cc94a9cd6954e92bc369f4770c2b6d6"
          ]
        },
        "id": "8FO4pijnUwEl",
        "outputId": "f1294a1e-85f3-4278-e697-4820315b3384"
      },
      "outputs": [
        {
          "name": "stdout",
          "output_type": "stream",
          "text": [
            "[INFO] Downloading dataset from Hugging Face Hub, name: mrdbourke/learn_hf_food_not_food_image_captions\n",
            "[INFO] Tokenizing text for model training with tokenizer: distilbert/distilbert-base-uncased\n"
          ]
        },
        {
          "data": {
            "application/vnd.jupyter.widget-view+json": {
              "model_id": "9c06fa5220da4df38d038effead8daa0",
              "version_major": 2,
              "version_minor": 0
            },
            "text/plain": [
              "Map:   0%|          | 0/200 [00:00<?, ? examples/s]"
            ]
          },
          "metadata": {},
          "output_type": "display_data"
        },
        {
          "data": {
            "application/vnd.jupyter.widget-view+json": {
              "model_id": "e385eb288bc7418881be0f55cb1b5c13",
              "version_major": 2,
              "version_minor": 0
            },
            "text/plain": [
              "Map:   0%|          | 0/50 [00:00<?, ? examples/s]"
            ]
          },
          "metadata": {},
          "output_type": "display_data"
        },
        {
          "name": "stdout",
          "output_type": "stream",
          "text": [
            "[INFO] Loading model: distilbert/distilbert-base-uncased\n"
          ]
        },
        {
          "name": "stderr",
          "output_type": "stream",
          "text": [
            "Some weights of DistilBertForSequenceClassification were not initialized from the model checkpoint at distilbert/distilbert-base-uncased and are newly initialized: ['classifier.bias', 'classifier.weight', 'pre_classifier.bias', 'pre_classifier.weight']\n",
            "You should probably TRAIN this model on a down-stream task to be able to use it for predictions and inference.\n"
          ]
        },
        {
          "name": "stdout",
          "output_type": "stream",
          "text": [
            "[INFO] Model loading complete!!!\n",
            "[INFO] Commencing model training...\n"
          ]
        },
        {
          "data": {
            "text/html": [
              "\n",
              "    <div>\n",
              "      \n",
              "      <progress value='70' max='70' style='width:300px; height:20px; vertical-align: middle;'></progress>\n",
              "      [70/70 01:58, Epoch 10/10]\n",
              "    </div>\n",
              "    <table border=\"1\" class=\"dataframe\">\n",
              "  <thead>\n",
              " <tr style=\"text-align: left;\">\n",
              "      <th>Epoch</th>\n",
              "      <th>Training Loss</th>\n",
              "      <th>Validation Loss</th>\n",
              "      <th>Accuracy</th>\n",
              "    </tr>\n",
              "  </thead>\n",
              "  <tbody>\n",
              "    <tr>\n",
              "      <td>1</td>\n",
              "      <td>0.426700</td>\n",
              "      <td>0.105709</td>\n",
              "      <td>0.980000</td>\n",
              "    </tr>\n",
              "    <tr>\n",
              "      <td>2</td>\n",
              "      <td>0.047900</td>\n",
              "      <td>0.009158</td>\n",
              "      <td>1.000000</td>\n",
              "    </tr>\n",
              "    <tr>\n",
              "      <td>3</td>\n",
              "      <td>0.005300</td>\n",
              "      <td>0.047959</td>\n",
              "      <td>0.980000</td>\n",
              "    </tr>\n",
              "    <tr>\n",
              "      <td>4</td>\n",
              "      <td>0.001900</td>\n",
              "      <td>0.069390</td>\n",
              "      <td>0.980000</td>\n",
              "    </tr>\n",
              "    <tr>\n",
              "      <td>5</td>\n",
              "      <td>0.001100</td>\n",
              "      <td>0.074668</td>\n",
              "      <td>0.980000</td>\n",
              "    </tr>\n",
              "    <tr>\n",
              "      <td>6</td>\n",
              "      <td>0.000800</td>\n",
              "      <td>0.073731</td>\n",
              "      <td>0.980000</td>\n",
              "    </tr>\n",
              "    <tr>\n",
              "      <td>7</td>\n",
              "      <td>0.000700</td>\n",
              "      <td>0.072083</td>\n",
              "      <td>0.980000</td>\n",
              "    </tr>\n",
              "    <tr>\n",
              "      <td>8</td>\n",
              "      <td>0.000600</td>\n",
              "      <td>0.070217</td>\n",
              "      <td>0.980000</td>\n",
              "    </tr>\n",
              "    <tr>\n",
              "      <td>9</td>\n",
              "      <td>0.000600</td>\n",
              "      <td>0.069074</td>\n",
              "      <td>0.980000</td>\n",
              "    </tr>\n",
              "    <tr>\n",
              "      <td>10</td>\n",
              "      <td>0.000600</td>\n",
              "      <td>0.068684</td>\n",
              "      <td>0.980000</td>\n",
              "    </tr>\n",
              "  </tbody>\n",
              "</table><p>"
            ],
            "text/plain": [
              "<IPython.core.display.HTML object>"
            ]
          },
          "metadata": {},
          "output_type": "display_data"
        },
        {
          "name": "stdout",
          "output_type": "stream",
          "text": [
            "[INFO] Model training complete, saving the model to loacal path: models/hf_tutorial_food_not_food_text_classifier-distilbert-base-uncased\n",
            "[INFO] Uploading model to Hugging Face Hub...\n"
          ]
        },
        {
          "data": {
            "application/vnd.jupyter.widget-view+json": {
              "model_id": "f2aae72b4392489395d3aa842afafc0e",
              "version_major": 2,
              "version_minor": 0
            },
            "text/plain": [
              "model.safetensors:   0%|          | 0.00/268M [00:00<?, ?B/s]"
            ]
          },
          "metadata": {},
          "output_type": "display_data"
        },
        {
          "data": {
            "application/vnd.jupyter.widget-view+json": {
              "model_id": "106048de227044419a8f447e5d3bd73f",
              "version_major": 2,
              "version_minor": 0
            },
            "text/plain": [
              "Upload 2 LFS files:   0%|          | 0/2 [00:00<?, ?it/s]"
            ]
          },
          "metadata": {},
          "output_type": "display_data"
        },
        {
          "data": {
            "application/vnd.jupyter.widget-view+json": {
              "model_id": "98f346aefc044b95901ce3cc66244aef",
              "version_major": 2,
              "version_minor": 0
            },
            "text/plain": [
              "training_args.bin:   0%|          | 0.00/5.37k [00:00<?, ?B/s]"
            ]
          },
          "metadata": {},
          "output_type": "display_data"
        },
        {
          "name": "stdout",
          "output_type": "stream",
          "text": [
            "[INFO] Model upload complete, model availabel at: https://huggingface.co/Saint5/hf_tutorial_food_not_food_text_classifier-distilbert-base-uncased/tree/main/\n",
            "[INFO] Performing evaluation test dataset...\n"
          ]
        },
        {
          "data": {
            "text/html": [],
            "text/plain": [
              "<IPython.core.display.HTML object>"
            ]
          },
          "metadata": {},
          "output_type": "display_data"
        },
        {
          "name": "stdout",
          "output_type": "stream",
          "text": [
            "[INFO] Prediction metrics on test data:\n",
            "{'test_accuracy': 1.0,\n",
            " 'test_loss': 0.009158377535641193,\n",
            " 'test_runtime': 0.0874,\n",
            " 'test_samples_per_second': 572.02,\n",
            " 'test_steps_per_second': 22.881}\n"
          ]
        }
      ],
      "source": [
        "# 1. Import necessary packages\n",
        "import pprint\n",
        "from pathlib import Path\n",
        "\n",
        "import numpy as np\n",
        "import torch\n",
        "\n",
        "import datasets\n",
        "import evaluate\n",
        "\n",
        "from transformers import pipeline, TrainingArguments, Trainer, AutoTokenizer, AutoModelForSequenceClassification\n",
        "from sklearn.model_selection import train_test_split\n",
        "\n",
        "# 2. Setup variables for model training and saving pipeline\n",
        "DATASET_NAME = \"mrdbourke/learn_hf_food_not_food_image_captions\"\n",
        "MODEL_NAME = \"distilbert/distilbert-base-uncased\"\n",
        "MODEL_SAVE_DIR_NAME = \"models/hf_tutorial_food_not_food_text_classifier-distilbert-base-uncased\"\n",
        "\n",
        "# 3. Create a directory for saving models\n",
        "model_save_dir = Path(MODEL_SAVE_DIR_NAME)\n",
        "model_save_dir.mkdir(parents=True, exist_ok=True)\n",
        "\n",
        "# 4. Load and preprocess the dataset from Hugging Face Hub\n",
        "print(f\"[INFO] Downloading dataset from Hugging Face Hub, name: {DATASET_NAME}\")\n",
        "dataset = datasets.load_dataset(DATASET_NAME)\n",
        "\n",
        "# Perform mappings for the labels to id and vice versa\n",
        "# id2label = {idx:label for idx,label in enumerate(dataset['train'].unique('label')[::-1])}\n",
        "# label2id = {label:id for idx,label in id2label.items()}\n",
        "# Option: hardcode\n",
        "id2label = {0:\"not_food\", 1:\"food\"}\n",
        "label2id = {\"not_food\":0, \"food\":1}\n",
        "\n",
        "# Create a function to map IDs to labels in dataset (labels to numeric values)\n",
        "def map_labels_number(example):\n",
        "  example['label'] = label2id[example['label']]\n",
        "  return example\n",
        "\n",
        "# Map the preprocessing function to the dataset\n",
        "dataset = dataset['train'].map(map_labels_to_number)\n",
        "\n",
        "# Split the dataset into train/test sets\n",
        "dataset = dataset.train_test_split(test_size=0.2, seed=42)\n",
        "\n",
        "# 5. Import a tokenizer and map it to the dataset\n",
        "print(f\"[INFO] Tokenizing text for model training with tokenizer: {MODEL_NAME}\")\n",
        "tokenizer = AutoTokenizer.from_pretrained(pretrained_model_name_or_path=MODEL_NAME,\n",
        "                                          use_fast=True)\n",
        "# Create function to tokenize text samples (turn text to numeric numbers)\n",
        "def tokenize_text(examples):\n",
        "  return tokenizer(examples['text'],\n",
        "                   padding=True,\n",
        "                   truncation=True)\n",
        "\n",
        "tokenized_dataset = dataset.map(function=tokenize_text,\n",
        "                                batched=True,\n",
        "                                batch_size=1000)\n",
        "\n",
        "# 6. Setup an evaluation metric\n",
        "accuracy_metric = evaluate.load(\"accuracy\")\n",
        "\n",
        "def compute_accuracy(predictions_and_labels):\n",
        "  predictions, labels = predictions_and_labels\n",
        "\n",
        "  # Model will output logits in the form [[item_1, item_2, item_3],[item_1, item_2, item_3]] depending on the type of data, the number of classes you have\n",
        "  # But we want to compare labels which are in the format of ([0,0,0,0,1])\n",
        "  if len(predictions.shape) >= 2:\n",
        "    predictions = np.argmax(predictions, axis=1)\n",
        "  return accuracy_metric.compute(predictions=predictions, references=labels)\n",
        "\n",
        "# 7. Setup the model\n",
        "print(f\"[INFO] Loading model: {MODEL_NAME}\")\n",
        "model=AutoModelForSequenceClassification.from_pretrained(pretrained_model_name_or_path=MODEL_NAME,\n",
        "                                                     num_labels=2,\n",
        "                                                     id2label=id2label,\n",
        "                                                     label2id=label2id)\n",
        "\n",
        "print(f\"[INFO] Model loading complete!!!\")\n",
        "\n",
        "# Setup TrainArguments (these are hyperparameters for the model)\n",
        "training_args=TrainingArguments(\n",
        "    output_dir=model_save_dir,\n",
        "    learning_rate=0.0001,\n",
        "    per_device_train_batch_size=32,\n",
        "    per_device_eval_batch_size=32,\n",
        "    num_train_epochs=10,\n",
        "    eval_strategy=\"epoch\",\n",
        "    save_strategy=\"epoch\",\n",
        "    save_total_limit=3,\n",
        "    use_cpu=False,\n",
        "    seed=42,\n",
        "    load_best_model_at_end=True,\n",
        "    logging_strategy=\"epoch\",\n",
        "    report_to=\"none\",\n",
        "    push_to_hub=False,\n",
        "    hub_private_repo=False # This will make the model public by default\n",
        ")\n",
        "# Create Trainer instance\n",
        "trainer = Trainer(\n",
        "    model=model,\n",
        "    args=training_args,\n",
        "    train_dataset=tokenized_dataset['train'],\n",
        "    eval_dataset=tokenized_dataset['test'],\n",
        "    processing_class=tokenizer,\n",
        "    compute_metrics=compute_accuracy\n",
        ")\n",
        "\n",
        "# 8. Train the model\n",
        "print(f\"[INFO] Commencing model training...\")\n",
        "results = trainer.train()\n",
        "\n",
        "# 9. Ssave the train model (to a local directory)\n",
        "print(f\"[INFO] Model training complete, saving the model to loacal path: {model_save_dir}\")\n",
        "trainer.save_model(output_dir=model_save_dir)\n",
        "\n",
        "# 10. Push the model to the Hugging Face Hub\n",
        "print(f\"[INFO] Uploading model to Hugging Face Hub...\")\n",
        "model_upload_url = trainer.push_to_hub(\n",
        "    commit_message=\"Second commit of the text classifier model\",\n",
        "    # token \"YOUR_TOKEN_HERE\"\n",
        ")\n",
        "print(f\"[INFO] Model upload complete, model availabel at: {model_upload_url}\")\n",
        "\n",
        "# 11. Evaluate the model on the test data\n",
        "print(f\"[INFO] Performing evaluation test dataset...\")\n",
        "predictions_all = trainer.predict(tokenized_dataset['test'])\n",
        "prediction_values = predictions_all.predictions\n",
        "prediction_metrics = predictions_all.metrics\n",
        "\n",
        "print(f\"[INFO] Prediction metrics on test data:\")\n",
        "pprint.pprint(prediction_metrics)"
      ]
    },
    {
      "cell_type": "code",
      "execution_count": 116,
      "metadata": {
        "colab": {
          "base_uri": "https://localhost:8080/"
        },
        "id": "BdehGZidUwBw",
        "outputId": "497c7781-7cd6-42b3-84a0-546b0a848065"
      },
      "outputs": [
        {
          "data": {
            "text/plain": [
              "DatasetDict({\n",
              "    train: Dataset({\n",
              "        features: ['text', 'label', 'input_ids', 'attention_mask'],\n",
              "        num_rows: 200\n",
              "    })\n",
              "    test: Dataset({\n",
              "        features: ['text', 'label', 'input_ids', 'attention_mask'],\n",
              "        num_rows: 50\n",
              "    })\n",
              "})"
            ]
          },
          "execution_count": 116,
          "metadata": {},
          "output_type": "execute_result"
        }
      ],
      "source": [
        "tokenized_dataset"
      ]
    },
    {
      "cell_type": "code",
      "execution_count": 117,
      "metadata": {
        "colab": {
          "base_uri": "https://localhost:8080/"
        },
        "id": "MsrI3N5Buflh",
        "outputId": "dbccc447-b499-4cc9-9a7f-51206b4f438c"
      },
      "outputs": [
        {
          "name": "stdout",
          "output_type": "stream",
          "text": [
            "models/hg_tutorial_food_not_food_text_classifier_distilbert_base_uncased\n",
            "models/hf_tutorial_food_not_food_text_classifier-distilbert-base-uncased\n"
          ]
        }
      ],
      "source": [
        "print(local_model_path)\n",
        "print(model_save_dir)"
      ]
    },
    {
      "cell_type": "code",
      "execution_count": 118,
      "metadata": {
        "colab": {
          "base_uri": "https://localhost:8080/"
        },
        "id": "J5Heh6OXUv-7",
        "outputId": "d8a36030-c48e-4c5d-fb5e-5fd79d409d04"
      },
      "outputs": [
        {
          "name": "stderr",
          "output_type": "stream",
          "text": [
            "Device set to use cuda\n"
          ]
        },
        {
          "data": {
            "text/plain": [
              "[[{'label': 'food', 'score': 0.9825825691223145}]]"
            ]
          },
          "execution_count": 118,
          "metadata": {},
          "output_type": "execute_result"
        }
      ],
      "source": [
        "# 12. Make sure the model works by testing it on a custom sample\n",
        "from transformers import pipeline\n",
        "food_not_food_classifier = pipeline(task=\"text-classification\",\n",
        "                                    model=model_save_dir,\n",
        "                                    device=\"cuda\" if torch.cuda.is_available() else \"cpu\",\n",
        "                                    top_k=1,\n",
        "                                    batch_size=32 # incase of batch predictions\n",
        "                                    )\n",
        "food_not_food_classifier(\"I had beef ribs at the restaurant yesterday.\")"
      ]
    },
    {
      "cell_type": "markdown",
      "metadata": {
        "id": "Mh6TSPKstA1d"
      },
      "source": [
        "## Turning the model into shareable demo using Gradio"
      ]
    },
    {
      "cell_type": "markdown",
      "metadata": {
        "id": "lbbtdqQ5tIkZ"
      },
      "source": [
        "### Creating a function to perform inference\n",
        "1. Take an input of string.\n",
        "2. Setup a text classification pipeline.\n",
        "3. Get the output from the pipeline.\n",
        "4. Return the output from the pipeline in step 3 as a formatted dictionary with the format: `[{\"label_1\":\"probability_1\"},{\"label_2\":\"probability_2\"}]`"
      ]
    },
    {
      "cell_type": "code",
      "execution_count": 119,
      "metadata": {
        "id": "amNpFoZMUvgC"
      },
      "outputs": [],
      "source": [
        "# from typing import Dict\n",
        "\n",
        "# # 1. Create a function to take a string input\n",
        "# def food_not_food_classifier(text:str) -> Dict[str, float]:\n",
        "#   # 2. Setup food not food classifier\n",
        "#   food_not_food_classifier_pipeline=pipeline(task=\"text-classification\",\n",
        "#                                     model=model_save_dir,\n",
        "#                                     batch_size=32,\n",
        "#                                     device=torch.device('cuda') if torch.cuda.is_available() else torch.device('cpu'),\n",
        "#                                     top_k=None # returns all possible labels\n",
        "#                                     )\n",
        "#   # 3. Get the outputs from the pipeline\n",
        "#   outputs = food_not_food_classifier_pipeline(text)[0]\n",
        "\n",
        "#   output_dict = {}\n",
        "#   for item in outputs:\n",
        "#     output_dict[item['label']] = item['score']\n",
        "\n",
        "#     return output_dict\n",
        "\n",
        "# food_not_food_classifier(text='I need a tall glass of cold mojito and some fajitas mate.')"
      ]
    },
    {
      "cell_type": "code",
      "execution_count": 122,
      "metadata": {
        "colab": {
          "base_uri": "https://localhost:8080/"
        },
        "id": "k3LKH1Yd62FK",
        "outputId": "01fb518b-ca1f-445d-867a-34efeb6e8965"
      },
      "outputs": [
        {
          "name": "stderr",
          "output_type": "stream",
          "text": [
            "Device set to use cuda\n"
          ]
        },
        {
          "data": {
            "text/plain": [
              "{'food': 0.9899895191192627, 'not_food': 0.010010470636188984}"
            ]
          },
          "execution_count": 122,
          "metadata": {},
          "output_type": "execute_result"
        }
      ],
      "source": [
        "from typing import Dict\n",
        "# Load the pipeline only once\n",
        "food_not_food_classifier_pipeline = pipeline(\n",
        "    task='text-classification',\n",
        "    model=model_save_dir,\n",
        "    batch_size=32,\n",
        "    device='cuda' if torch.cuda.is_available() else 'cpu',\n",
        "    top_k=None\n",
        ")\n",
        "\n",
        "def food_not_food_classifier(text: str) -> Dict[str, float]:\n",
        "    outputs = food_not_food_classifier_pipeline(text)[0]\n",
        "    return {item['label']: item['score'] for item in outputs}\n",
        "\n",
        "food_not_food_classifier(text='I need a tall glass of cold mojito and some fajitas mate.')"
      ]
    },
    {
      "cell_type": "markdown",
      "metadata": {
        "id": "rUZZeAXl5L5T"
      },
      "source": [
        "### Building a small Gradio demo to run locally"
      ]
    },
    {
      "cell_type": "code",
      "execution_count": 123,
      "metadata": {
        "colab": {
          "base_uri": "https://localhost:8080/",
          "height": 650
        },
        "id": "Pr5f0PSq1ZQ0",
        "outputId": "b4ff3760-515f-4eea-9f3e-70267e388732"
      },
      "outputs": [
        {
          "name": "stdout",
          "output_type": "stream",
          "text": [
            "It looks like you are running Gradio on a hosted a Jupyter notebook. For the Gradio app to work, sharing must be enabled. Automatically setting `share=True` (you can turn this off by setting `share=False` in `launch()` explicitly).\n",
            "\n",
            "Colab notebook detected. To show errors in colab notebook, set debug=True in launch()\n",
            "* Running on public URL: https://79f0894ca938d3da75.gradio.live\n",
            "\n",
            "This share link expires in 1 week. For free permanent hosting and GPU upgrades, run `gradio deploy` from the terminal in the working directory to deploy to Hugging Face Spaces (https://huggingface.co/spaces)\n"
          ]
        },
        {
          "data": {
            "text/html": [
              "<div><iframe src=\"https://79f0894ca938d3da75.gradio.live\" width=\"100%\" height=\"500\" allow=\"autoplay; camera; microphone; clipboard-read; clipboard-write;\" frameborder=\"0\" allowfullscreen></iframe></div>"
            ],
            "text/plain": [
              "<IPython.core.display.HTML object>"
            ]
          },
          "metadata": {},
          "output_type": "display_data"
        },
        {
          "data": {
            "text/plain": []
          },
          "execution_count": 123,
          "metadata": {},
          "output_type": "execute_result"
        }
      ],
      "source": [
        "# 1. Import gradio\n",
        "import gradio as gr\n",
        "\n",
        "# 2. Create a gradio interface\n",
        "demo = gr.Interface(\n",
        "    fn=food_not_food_classifier,\n",
        "    inputs='text',\n",
        "    outputs=gr.Label(num_top_classes=2),\n",
        "    title=\"Food Not Food Classifier 🍝🚫🍺🍽️\",\n",
        "    description=\"A text classifier to determine if a sentence is about food or not.\",\n",
        "    examples=[['The presentation was a delicious blend of humor and information, keeping the audience engaged'],\n",
        "              ['A plate of salmon with salad as side dish']]\n",
        ")\n",
        "# 3. Launch the interface\n",
        "demo.launch()"
      ]
    },
    {
      "cell_type": "markdown",
      "metadata": {
        "id": "ZHGSdeddGASN"
      },
      "source": [
        "## Making the demo publicly accessible\n",
        "There are 2 ways that the demo can be made:\n",
        "1. Manually - creating a new space in Hugging Face spaces, add files and publish.\n",
        "2. Programmatically - using the Hugging Face Hupython API and the files to a space with code.\n",
        "\n",
        "\n",
        "To create a space programmatically we're going to need these three files:\n",
        "1. `app.py`\n",
        "2. `requiremnts.txt`\n",
        "3. `README.md` - explains what the project demo is about and will aslo add some metadata in YAML format.\n",
        "\n",
        "Following the programmatically path with the following file strucure:\n",
        "\n",
        "```\n",
        "  demos/\n",
        "      |__ food_not_food_text_classifier/\n",
        "      |__ app.py\n",
        "      |__ README.md\n",
        "      |__ requirements.txt\n",
        "```"
      ]
    },
    {
      "cell_type": "markdown",
      "metadata": {
        "id": "SS89TGPbZbGE"
      },
      "source": [
        "### Making a directory to store the demo"
      ]
    },
    {
      "cell_type": "code",
      "execution_count": 133,
      "metadata": {
        "id": "_Fv33j4YF9wg"
      },
      "outputs": [],
      "source": [
        "from pathlib import Path\n",
        "\n",
        "# Make directory for demos\n",
        "demos_dir = Path(\"../demos\")\n",
        "demos_dir.mkdir(exist_ok=True)\n",
        "\n",
        "# Create a food not food text classifier demo directory\n",
        "food_not_food_text_classifier_demo_dir = Path(demos_dir, \"food_not_food_text_classifier\")\n",
        "food_not_food_text_classifier_demo_dir.mkdir(exist_ok=True)"
      ]
    },
    {
      "cell_type": "code",
      "execution_count": 129,
      "metadata": {
        "id": "yc6jAiP8y42l"
      },
      "outputs": [],
      "source": [
        "# print(demos_dir.resolve())"
      ]
    },
    {
      "cell_type": "markdown",
      "metadata": {
        "id": "s52v6lQqew4b"
      },
      "source": [
        "### Making an `app.py`\n",
        "The file will contain the main logic of the application to run.\n",
        "\n",
        "When uploaded to HF Spaces will try to to run it automatically.\n",
        "\n",
        "This file will contain:\n",
        "1. Importing packages to be used.\n",
        "2. Defining the function to be used by the model (this will work with Gradio).\n",
        "3. Creating a demo with Gradio\n",
        "4. Run the demo with `demo.launch()`"
      ]
    },
    {
      "cell_type": "code",
      "execution_count": 163,
      "metadata": {
        "colab": {
          "base_uri": "https://localhost:8080/"
        },
        "id": "5qoNevLL1ZLy",
        "outputId": "49ddd66c-68e4-4c61-8917-db9655523dc3"
      },
      "outputs": [
        {
          "name": "stdout",
          "output_type": "stream",
          "text": [
            "Overwriting ../demos/food_not_food_text_classifier/app.py\n"
          ]
        }
      ],
      "source": [
        "%%writefile ../demos/food_not_food_text_classifier/app.py\n",
        "# Import required packages\n",
        "import torch\n",
        "import gradio as gr\n",
        "\n",
        "from typing import Dict\n",
        "from transformers import pipeline\n",
        "\n",
        "# 2. Define the function to use with the model\n",
        "def food_not_food_classifier(text:str) -> Dict[str, float]:\n",
        "  food_not_food_classifier_pipeline=pipeline(task='text-classification',\n",
        "                                             model='Saint5/hg_tutorial_food_not_food_text_classifier_distilbert_base_uncased', # model already in hugging face\n",
        "                                             batch_size=32,\n",
        "                                             device='cuda' if torch.cuda.is_available() else 'cpu',\n",
        "                                             top_k=None)\n",
        "  outputs = food_not_food_classifier_pipeline(text)[0]\n",
        "\n",
        "  # Format output for gradio\n",
        "  output_dict = {}\n",
        "  for item in outputs:\n",
        "    output_dict[item['label']] = item['score']\n",
        "\n",
        "  return output_dict\n",
        "\n",
        "# 3. Create a Gradio interface\n",
        "description = \"\"\"\n",
        "This is a text classification model that identifies whether a sentence is related to food topics or not.\n",
        "\n",
        "The model is finetuned from DistilBERT.\n",
        "\"\"\"\n",
        "\n",
        "demo  = gr.Interface(\n",
        "            fn=food_not_food_classifier,\n",
        "            inputs='text',\n",
        "            outputs=gr.Label(num_top_classes=2),\n",
        "            title=\"Food🍝 not🚫 Food🍲 Text Classifier🤖\",\n",
        "            description=description,\n",
        "            examples=[['The presentation was a delicious blend of humor and information, keeping the audience engaged'],\n",
        "                      ['A plate of salmon with salad as side dish']],\n",
        ")\n",
        "\n",
        "# 4. Launch the app\n",
        "if __name__ == \"__main__\":\n",
        "  demo.launch()"
      ]
    },
    {
      "cell_type": "code",
      "execution_count": 158,
      "metadata": {
        "id": "zFfwF24iSYyP"
      },
      "outputs": [],
      "source": [
        "# %%writefile ../demos/food_not_food_text_classifier/app.py\n",
        "\n",
        "# import torch\n",
        "# import gradio as gr\n",
        "# from typing import Dict\n",
        "# from transformers import pipeline\n",
        "\n",
        "# # Load pipeline once\n",
        "# food_not_food_classifier_pipeline = pipeline(\n",
        "#     task='text-classification',\n",
        "#     model='Saint5/hg_tutorial_food_not_food_text_classifier-distilbert-base-uncased',\n",
        "#     batch_size=32,\n",
        "#     device=0 if torch.cuda.is_available() else -1,\n",
        "#     top_k=None\n",
        "# )\n",
        "\n",
        "# def food_not_food_classifier(text: str) -> Dict[str, float]:\n",
        "#     outputs = food_not_food_classifier_pipeline(text)[0]\n",
        "#     return {item['label']: item['score'] for item in outputs}\n",
        "\n",
        "# # Gradio interface\n",
        "# description = \"\"\"\n",
        "# This is a text classification model that identifies whether a sentence is related to food topics or not.\n",
        "# The model is finetuned from DistilBERT.\n",
        "# \"\"\"\n",
        "\n",
        "# demo = gr.Interface(\n",
        "#     fn=food_not_food_classifier,\n",
        "#     inputs='text',\n",
        "#     outputs=gr.Label(num_top_classes=2),\n",
        "#     title=\"Food🍝 not🚫 Food🍲 Text Classifier🤖\",\n",
        "#     description=description,\n",
        "#     examples=[['The presentation was a delicious blend of humor and information, keeping the audience engaged'],\n",
        "#               ['A plate of salmon with salad as side dish']],\n",
        "#     cache_examples=False\n",
        "# )\n",
        "\n",
        "# if __name__ == \"__main__\":\n",
        "#     demo.launch(ssr_mode=False, server_port=7861)\n"
      ]
    },
    {
      "cell_type": "markdown",
      "metadata": {
        "id": "qMS56EJeBuNM"
      },
      "source": [
        "### Making a `README.md` file\n",
        "The file is in markdown format.\n",
        "\n",
        "With special YAML block at the top.\n",
        "\n",
        "The YAML block at the top is used for metadata + settings"
      ]
    },
    {
      "cell_type": "code",
      "execution_count": 164,
      "metadata": {
        "colab": {
          "base_uri": "https://localhost:8080/"
        },
        "id": "JpOY90b21ZJO",
        "outputId": "e61ee65a-dc95-4fdf-c74d-19f8b03b6f3b"
      },
      "outputs": [
        {
          "name": "stdout",
          "output_type": "stream",
          "text": [
            "Overwriting ../demos/food_not_food_text_classifier/README.md\n"
          ]
        }
      ],
      "source": [
        "%%writefile ../demos/food_not_food_text_classifier/README.md\n",
        "---\n",
        "title: Food not Food Text Classifier\n",
        "emoji: 🍲🥙🍟\n",
        "colorFrom: blue\n",
        "colorTo: yellow\n",
        "sdk: gradio\n",
        "sdk_version: 5.30.0\n",
        "app_file: app.py\n",
        "pinned: false\n",
        "license: apache-2.0\n",
        "---\n",
        "\n",
        "# Food not Food Text Classifier 🍲🚫🥙\n",
        "\n",
        "Is it food or not? 🍕🤖 Let this classifier decide if your sentence belongs on a menu or in a memo.\n",
        "\n",
        "Built with DistilBERT magic!\n",
        "\n",
        "Model is fine-tuned on a small synthetic dataset of 250 generated food/not food sentence captions."
      ]
    },
    {
      "cell_type": "markdown",
      "metadata": {
        "id": "Z7YRDJwLNsmR"
      },
      "source": [
        "### Making a requirements file\n",
        "Tells the Hugging Face Space which versions/packages to use.\n",
        "\n",
        "If this file is not created an error will occur, `ModuleNotFoundError`."
      ]
    },
    {
      "cell_type": "code",
      "execution_count": 165,
      "metadata": {
        "colab": {
          "base_uri": "https://localhost:8080/"
        },
        "collapsed": true,
        "id": "3FYZB1hm1ZGZ",
        "outputId": "c4dd3d56-2ef6-4f41-c327-eab554ec6904"
      },
      "outputs": [
        {
          "name": "stdout",
          "output_type": "stream",
          "text": [
            "Overwriting ../demos/food_not_food_text_classifier/requirements.txt\n"
          ]
        }
      ],
      "source": [
        "%%writefile ../demos/food_not_food_text_classifier/requirements.txt\n",
        "gradio\n",
        "torch\n",
        "transformers"
      ]
    },
    {
      "cell_type": "markdown",
      "metadata": {
        "id": "5zKnXAnHPm2y"
      },
      "source": [
        "## Uploading the demo to Hugging Face Spaces\n",
        "To do so, we'll use the Hugging Face Hub Python API.\n",
        "\n",
        "To get the demo on HF spaces, the following can be done:\n",
        "1. Import necessary functions.\n",
        "2. Define what is to be uploaded.\n",
        "3. Create a repo.\n",
        "4. Get the name of the repo from the upload.\n",
        "5. Upload the contents of `../demos/food_not_food_text_classifier/` to HF Hub repo.\n",
        "6. If it all works inspect the results."
      ]
    },
    {
      "cell_type": "code",
      "execution_count": 166,
      "metadata": {
        "colab": {
          "base_uri": "https://localhost:8080/"
        },
        "id": "9lOeN0H01aOU",
        "outputId": "da5a7691-5e6f-4202-ea97-971f578c2317"
      },
      "outputs": [
        {
          "name": "stdout",
          "output_type": "stream",
          "text": [
            "[INFO] Creating repo on Hugging Face Hub with name: hg_tutorial_food_not_food_text_classifier_demo\n",
            "[INFO] Full Hugging Face Hub repo name: Saint5/hg_tutorial_food_not_food_text_classifier_demo\n",
            "[INFO] Uploading ../demos/food_not_food_text_classifier to repo: Saint5/hg_tutorial_food_not_food_text_classifier_demo\n",
            "[INFO] Demo folder successfully uploaded with commit URL: https://huggingface.co/spaces/Saint5/hg_tutorial_food_not_food_text_classifier_demo/tree/main/.\n"
          ]
        }
      ],
      "source": [
        "# 1. Import the requiured methods for uploading to the HF Hub\n",
        "from huggingface_hub import (\n",
        "    create_repo,\n",
        "    get_full_repo_name,\n",
        "    upload_file,\n",
        "    upload_folder\n",
        ")\n",
        "\n",
        "# 2. Define the parameters likely to be used for uploading the Space\n",
        "LOCAL_DEMO_FOLDER_PATH_TO_UPLOAD = '../demos/food_not_food_text_classifier'\n",
        "HF_TARGET_SPACE_NAME = 'hg_tutorial_food_not_food_text_classifier_demo'\n",
        "HF_REPO_TYPE = 'space'\n",
        "HF_SPACE_SDK = 'gradio'\n",
        "# HF_TOKEN = \"\"\n",
        "\n",
        "# 3. Create a Space repo on Hugging Face Hub\n",
        "print(f\"[INFO] Creating repo on Hugging Face Hub with name: {HF_TARGET_SPACE_NAME}\")\n",
        "create_repo(\n",
        "    repo_id=HF_TARGET_SPACE_NAME,\n",
        "    # token=\"HF_TOKEN\",\n",
        "    private=False, # set to True if you want your repo to be private\n",
        "    repo_type=HF_REPO_TYPE,\n",
        "    space_sdk=HF_SPACE_SDK,\n",
        "    exist_ok=True\n",
        ")\n",
        "\n",
        "# 4. Get the full repo name (e.g. {username}/{repo_name})\n",
        "hf_full_repo_name=get_full_repo_name(model_id=HF_TARGET_SPACE_NAME)\n",
        "print(f\"[INFO] Full Hugging Face Hub repo name: {hf_full_repo_name}\")\n",
        "\n",
        "# 5. Upload the demo folder\n",
        "print(f\"[INFO] Uploading {LOCAL_DEMO_FOLDER_PATH_TO_UPLOAD} to repo: {hf_full_repo_name}\")\n",
        "folder_upload_url = upload_folder(\n",
        "    repo_id=hf_full_repo_name,\n",
        "    folder_path=LOCAL_DEMO_FOLDER_PATH_TO_UPLOAD,\n",
        "    path_in_repo=\".\", # where you'd like your folder to be (in this case current directory)\n",
        "    # token='HF_TOKEN',\n",
        "    repo_type=HF_REPO_TYPE,\n",
        "    commit_message=\"Uploading my first ever model demo to Hugging Face\"\n",
        ")\n",
        "\n",
        "print(f\"[INFO] Demo folder successfully uploaded with commit URL: {folder_upload_url}\")"
      ]
    },
    {
      "cell_type": "markdown",
      "metadata": {
        "id": "48AC8dk-GaVc"
      },
      "source": [
        "### Embedding the Hugging Face Space"
      ]
    },
    {
      "cell_type": "code",
      "execution_count": 171,
      "metadata": {
        "colab": {
          "base_uri": "https://localhost:8080/",
          "height": 521
        },
        "id": "UYDKFTa_KYwF",
        "outputId": "90a125a5-82a7-44f7-f838-b5cba25065bd"
      },
      "outputs": [
        {
          "data": {
            "text/html": [
              "\n",
              "<iframe\n",
              "\tsrc=\"https://saint5-hg-tutorial-food-not-food-text-classifier-demo.hf.space\"\n",
              "\tframeborder=\"0\"\n",
              "\twidth=\"900\"\n",
              "\theight=\"500\"\n",
              "></iframe>\n"
            ],
            "text/plain": [
              "<IPython.core.display.HTML object>"
            ]
          },
          "execution_count": 171,
          "metadata": {},
          "output_type": "execute_result"
        }
      ],
      "source": [
        "from IPython.display import HTML\n",
        "\n",
        "HTML(data='''\n",
        "<iframe\n",
        "\tsrc=\"https://saint5-hg-tutorial-food-not-food-text-classifier-demo.hf.space\"\n",
        "\tframeborder=\"0\"\n",
        "\twidth=\"900\"\n",
        "\theight=\"500\"\n",
        "></iframe>\n",
        "''')"
      ]
    }
  ],
  "metadata": {
    "accelerator": "GPU",
    "colab": {
      "gpuType": "T4",
      "provenance": []
    },
    "kernelspec": {
      "display_name": "Python 3",
      "name": "python3"
    },
    "language_info": {
      "codemirror_mode": {
        "name": "ipython",
        "version": 3
      },
      "file_extension": ".py",
      "mimetype": "text/x-python",
      "name": "python",
      "nbconvert_exporter": "python",
      "pygments_lexer": "ipython3",
      "version": "3.12.0"
    }
  },
  "nbformat": 4,
  "nbformat_minor": 0
}
